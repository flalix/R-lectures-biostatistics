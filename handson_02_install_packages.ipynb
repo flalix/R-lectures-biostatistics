{
 "cells": [
  {
   "cell_type": "markdown",
   "metadata": {},
   "source": [
    "author: Flavio Lichtenstein  \n",
    "data update:   2019/01/26\n",
    "data created:  2016/07/20  \n",
    "local: Molecular Biology/Inovation & CENTD - Butantan Institute  \n",
    "\n",
    "## Lecture 02 - install packages"
   ]
  },
  {
   "cell_type": "code",
   "execution_count": 4,
   "metadata": {},
   "outputs": [
    {
     "name": "stderr",
     "output_type": "stream",
     "text": [
      "\n",
      "Attaching package: ‘igraph’\n",
      "\n",
      "The following objects are masked from ‘package:stats’:\n",
      "\n",
      "    decompose, spectrum\n",
      "\n",
      "The following object is masked from ‘package:base’:\n",
      "\n",
      "    union\n",
      "\n"
     ]
    }
   ],
   "source": [
    "library(igraph)"
   ]
  },
  {
   "cell_type": "code",
   "execution_count": null,
   "metadata": {},
   "outputs": [],
   "source": [
    "#- Which advantage to use anaconda?\n",
    "#-- dependencies !\n",
    "#-- to install a package (library) -- C or Fortran\n",
    "#-- anaconda - resolve this problem"
   ]
  },
  {
   "cell_type": "markdown",
   "metadata": {},
   "source": [
    "### Install packages from CRAN"
   ]
  },
  {
   "cell_type": "code",
   "execution_count": 3,
   "metadata": {},
   "outputs": [],
   "source": [
    "#------ Install packages from CRAN ----------------\n",
    "?install.packages"
   ]
  },
  {
   "cell_type": "code",
   "execution_count": 4,
   "metadata": {},
   "outputs": [
    {
     "data": {
      "text/html": [
       "'/home/flalix/anaconda3/envs/study/lib/R/library'"
      ],
      "text/latex": [
       "'/home/flalix/anaconda3/envs/study/lib/R/library'"
      ],
      "text/markdown": [
       "'/home/flalix/anaconda3/envs/study/lib/R/library'"
      ],
      "text/plain": [
       "[1] \"/home/flalix/anaconda3/envs/study/lib/R/library\""
      ]
     },
     "metadata": {},
     "output_type": "display_data"
    }
   ],
   "source": [
    ".libPaths()"
   ]
  },
  {
   "cell_type": "code",
   "execution_count": 7,
   "metadata": {},
   "outputs": [
    {
     "name": "stderr",
     "output_type": "stream",
     "text": [
      "Warning message in install.packages(\"igraph\"):\n",
      "“installation of package ‘igraph’ had non-zero exit status”Updating HTML index of packages in '.Library'\n",
      "Making 'packages.html' ... done\n"
     ]
    }
   ],
   "source": [
    "install.packages(\"igraph\")\n",
    "\n",
    "#-- conda update -n base -c defaults conda\n",
    "#--conda uninstall -c r r-igraph \n",
    "#--conda install -c r r-igraph "
   ]
  },
  {
   "cell_type": "code",
   "execution_count": null,
   "metadata": {},
   "outputs": [],
   "source": [
    "library(igraph)"
   ]
  },
  {
   "cell_type": "markdown",
   "metadata": {},
   "source": [
    "### Install packages from CRAN/Bioconductor in anaconda (shell script)"
   ]
  },
  {
   "cell_type": "markdown",
   "metadata": {},
   "source": [
    "This is a shell command: conda install -c r r-igraph \n",
    "\n",
    "\n",
    "system in R --> open a console ..."
   ]
  },
  {
   "cell_type": "code",
   "execution_count": 14,
   "metadata": {},
   "outputs": [],
   "source": [
    "system(\"conda install -c r r-igraph\")\n",
    "\n",
    "#-- conda update -n base -c defaults conda\n",
    "#-- conda uninstall -c r r-igraph \n",
    "#-- conda install -c r r-igraph \n"
   ]
  },
  {
   "cell_type": "code",
   "execution_count": null,
   "metadata": {},
   "outputs": [],
   "source": [
    "install.packages(\"rafalib\")"
   ]
  },
  {
   "cell_type": "code",
   "execution_count": null,
   "metadata": {},
   "outputs": [],
   "source": [
    "install.packages(c(\"rafalib\", \"VennDiagram\", \"Rmisc\",\"plot3D\"))"
   ]
  },
  {
   "cell_type": "markdown",
   "metadata": {},
   "source": [
    "### Install packages from github with devtools"
   ]
  },
  {
   "cell_type": "code",
   "execution_count": 1,
   "metadata": {},
   "outputs": [
    {
     "name": "stderr",
     "output_type": "stream",
     "text": [
      "Updating HTML index of packages in '.Library'\n",
      "Making 'packages.html' ... done\n"
     ]
    }
   ],
   "source": [
    "install.packages(\"devtools\", dependencies = TRUE)"
   ]
  },
  {
   "cell_type": "code",
   "execution_count": 2,
   "metadata": {},
   "outputs": [],
   "source": [
    "library(devtools)\n",
    "install_github(\"dosorio/Peptides\", force = TRUE)"
   ]
  },
  {
   "cell_type": "code",
   "execution_count": 8,
   "metadata": {},
   "outputs": [],
   "source": [
    "library(Peptides)\n",
    "#?Peptides"
   ]
  },
  {
   "cell_type": "code",
   "execution_count": 9,
   "metadata": {},
   "outputs": [
    {
     "data": {
      "text/html": [
       "695.84934"
      ],
      "text/latex": [
       "695.84934"
      ],
      "text/markdown": [
       "695.84934"
      ],
      "text/plain": [
       "[1] 695.8493"
      ]
     },
     "metadata": {},
     "output_type": "display_data"
    }
   ],
   "source": [
    "Peptides::mw(\"ACCWTL\")"
   ]
  },
  {
   "cell_type": "code",
   "execution_count": 10,
   "metadata": {},
   "outputs": [
    {
     "data": {
      "text/html": [
       "-0.125965132457969"
      ],
      "text/latex": [
       "-0.125965132457969"
      ],
      "text/markdown": [
       "-0.125965132457969"
      ],
      "text/plain": [
       "[1] -0.1259651"
      ]
     },
     "metadata": {},
     "output_type": "display_data"
    }
   ],
   "source": [
    "Peptides::charge(\"ACCWTL\")"
   ]
  },
  {
   "cell_type": "markdown",
   "metadata": {},
   "source": [
    "### Install packages from Bioconductor\n",
    "\n",
    "first you must load \"biocLite.R\" from http://bioconductor.org  "
   ]
  },
  {
   "cell_type": "code",
   "execution_count": 11,
   "metadata": {},
   "outputs": [
    {
     "name": "stderr",
     "output_type": "stream",
     "text": [
      "Bioconductor version 3.7 (BiocInstaller 1.30.0), ?biocLite for help\n",
      "A newer version of Bioconductor is available for this version of R,\n",
      "  ?BiocUpgrade for help\n"
     ]
    }
   ],
   "source": [
    "source(\"http://bioconductor.org/biocLite.R\")"
   ]
  },
  {
   "cell_type": "markdown",
   "metadata": {},
   "source": [
    "### org.Hs.eg.db is the bioconductor package containing Homo sapiens (Hsa) annotations\n",
    "\n",
    "[Hsa annotations](https://bioconductor.org/packages/release/data/annotation/html/org.Hs.eg.db.html)  \n",
    "\n",
    "Bioconductor version: Release (3.8)  \n",
    "\n",
    "Genome wide annotation for Human, primarily based on mapping using Entrez Gene identifiers.  \n",
    "\n",
    "Author: Marc Carlson  "
   ]
  },
  {
   "cell_type": "code",
   "execution_count": 14,
   "metadata": {},
   "outputs": [
    {
     "name": "stderr",
     "output_type": "stream",
     "text": [
      "BioC_mirror: https://bioconductor.org\n",
      "Using Bioconductor 3.7 (BiocInstaller 1.30.0), R 3.5.1 (2018-07-02).\n",
      "Installing package(s) ‘org.Hs.eg.db’\n",
      "Updating HTML index of packages in '.Library'\n",
      "Making 'packages.html' ... done\n",
      "Old packages: 'backports', 'BH', 'broom', 'callr', 'caret', 'checkpoint',\n",
      "  'class', 'cli', 'clipr', 'codetools', 'colorspace', 'commonmark', 'covr',\n",
      "  'curl', 'data.table', 'dbplyr', 'ddalpha', 'devtools', 'digest', 'dimRed',\n",
      "  'doParallel', 'dplyr', 'evaluate', 'fansi', 'foreign', 'ggplot2', 'git2r',\n",
      "  'haven', 'htmlwidgets', 'httpuv', 'httr', 'hunspell', 'ipred', 'IRdisplay',\n",
      "  'IRkernel', 'jsonlite', 'kernlab', 'knitr', 'later', 'lattice', 'lava',\n",
      "  'lintr', 'magic', 'markdown', 'MASS', 'Matrix', 'mgcv', 'mime',\n",
      "  'ModelMetrics', 'modelr', 'openssl', 'pillar', 'pkgbuild', 'pkgconfig',\n",
      "  'pkgload', 'pls', 'processx', 'psych', 'purrr', 'R.utils', 'R6', 'Rcpp',\n",
      "  'readr', 'readxl', 'recipes', 'remotes', 'repr', 'reprex', 'rlang',\n",
      "  'rmarkdown', 'robustbase', 'roxygen2', 'rstudioapi', 'RUnit', 'scales',\n",
      "  'sfsmisc', 'shiny', 'survival', 'testthat', 'tibble', 'tidyr', 'tidyselect',\n",
      "  'tinytex', 'TTR', 'xfun', 'xtable', 'xts', 'zoo'\n"
     ]
    }
   ],
   "source": [
    "biocLite(\"org.Hs.eg.db\")"
   ]
  },
  {
   "cell_type": "code",
   "execution_count": 5,
   "metadata": {},
   "outputs": [],
   "source": [
    "library(org.Hs.eg.db)"
   ]
  },
  {
   "cell_type": "code",
   "execution_count": 6,
   "metadata": {},
   "outputs": [
    {
     "name": "stderr",
     "output_type": "stream",
     "text": [
      "'select()' returned 1:many mapping between keys and columns\n"
     ]
    },
    {
     "data": {
      "text/html": [
       "<table>\n",
       "<thead><tr><th scope=col>SYMBOL</th><th scope=col>UNIPROT</th></tr></thead>\n",
       "<tbody>\n",
       "\t<tr><td>TP53      </td><td>K7PPA8    </td></tr>\n",
       "\t<tr><td>TP53      </td><td>P04637    </td></tr>\n",
       "\t<tr><td>TP53      </td><td>Q53GA5    </td></tr>\n",
       "\t<tr><td>TP53      </td><td>H2EHT1    </td></tr>\n",
       "\t<tr><td>TP53      </td><td>A0A087X1Q1</td></tr>\n",
       "\t<tr><td>TP53      </td><td>A0A087WXZ1</td></tr>\n",
       "\t<tr><td>TP53      </td><td>A0A087WT22</td></tr>\n",
       "\t<tr><td>NFKB1     </td><td>A0A024RDJ4</td></tr>\n",
       "\t<tr><td>NFKB1     </td><td>P19838    </td></tr>\n",
       "\t<tr><td>IKB       </td><td>NA        </td></tr>\n",
       "\t<tr><td>IL6       </td><td>B4DVM1    </td></tr>\n",
       "\t<tr><td>IL6       </td><td>P05231    </td></tr>\n",
       "\t<tr><td>IL6       </td><td>Q75MH2    </td></tr>\n",
       "\t<tr><td>IL6       </td><td>B5MC21    </td></tr>\n",
       "\t<tr><td>IL6       </td><td>B4DNQ5    </td></tr>\n",
       "</tbody>\n",
       "</table>\n"
      ],
      "text/latex": [
       "\\begin{tabular}{r|ll}\n",
       " SYMBOL & UNIPROT\\\\\n",
       "\\hline\n",
       "\t TP53       & K7PPA8    \\\\\n",
       "\t TP53       & P04637    \\\\\n",
       "\t TP53       & Q53GA5    \\\\\n",
       "\t TP53       & H2EHT1    \\\\\n",
       "\t TP53       & A0A087X1Q1\\\\\n",
       "\t TP53       & A0A087WXZ1\\\\\n",
       "\t TP53       & A0A087WT22\\\\\n",
       "\t NFKB1      & A0A024RDJ4\\\\\n",
       "\t NFKB1      & P19838    \\\\\n",
       "\t IKB        & NA        \\\\\n",
       "\t IL6        & B4DVM1    \\\\\n",
       "\t IL6        & P05231    \\\\\n",
       "\t IL6        & Q75MH2    \\\\\n",
       "\t IL6        & B5MC21    \\\\\n",
       "\t IL6        & B4DNQ5    \\\\\n",
       "\\end{tabular}\n"
      ],
      "text/markdown": [
       "\n",
       "SYMBOL | UNIPROT | \n",
       "|---|---|---|---|---|---|---|---|---|---|---|---|---|---|---|\n",
       "| TP53       | K7PPA8     | \n",
       "| TP53       | P04637     | \n",
       "| TP53       | Q53GA5     | \n",
       "| TP53       | H2EHT1     | \n",
       "| TP53       | A0A087X1Q1 | \n",
       "| TP53       | A0A087WXZ1 | \n",
       "| TP53       | A0A087WT22 | \n",
       "| NFKB1      | A0A024RDJ4 | \n",
       "| NFKB1      | P19838     | \n",
       "| IKB        | NA         | \n",
       "| IL6        | B4DVM1     | \n",
       "| IL6        | P05231     | \n",
       "| IL6        | Q75MH2     | \n",
       "| IL6        | B5MC21     | \n",
       "| IL6        | B4DNQ5     | \n",
       "\n",
       "\n"
      ],
      "text/plain": [
       "   SYMBOL UNIPROT   \n",
       "1  TP53   K7PPA8    \n",
       "2  TP53   P04637    \n",
       "3  TP53   Q53GA5    \n",
       "4  TP53   H2EHT1    \n",
       "5  TP53   A0A087X1Q1\n",
       "6  TP53   A0A087WXZ1\n",
       "7  TP53   A0A087WT22\n",
       "8  NFKB1  A0A024RDJ4\n",
       "9  NFKB1  P19838    \n",
       "10 IKB    NA        \n",
       "11 IL6    B4DVM1    \n",
       "12 IL6    P05231    \n",
       "13 IL6    Q75MH2    \n",
       "14 IL6    B5MC21    \n",
       "15 IL6    B4DNQ5    "
      ]
     },
     "metadata": {},
     "output_type": "display_data"
    }
   ],
   "source": [
    "ids = c(\"TP53\", \"NFKB1\", \"IKB\", \"IL6\")\n",
    "\n",
    "select(org.Hs.eg.db, keys=ids, columns=c(\"SYMBOL\", \"UNIPROT\"), keytype=\"SYMBOL\")\n"
   ]
  },
  {
   "cell_type": "code",
   "execution_count": 17,
   "metadata": {},
   "outputs": [
    {
     "name": "stderr",
     "output_type": "stream",
     "text": [
      "BioC_mirror: https://bioconductor.org\n",
      "Using Bioconductor 3.7 (BiocInstaller 1.30.0), R 3.5.1 (2018-07-02).\n",
      "Installing package(s) ‘affy’, ‘limma’, ‘geneplotter’\n",
      "also installing the dependencies ‘XML’, ‘affyio’, ‘preprocessCore’, ‘zlibbioc’, ‘annotate’\n",
      "\n",
      "Warning message in install.packages(pkgs = doing, lib = lib, ...):\n",
      "“installation of package ‘affyio’ had non-zero exit status”Warning message in install.packages(pkgs = doing, lib = lib, ...):\n",
      "“installation of package ‘affy’ had non-zero exit status”Updating HTML index of packages in '.Library'\n",
      "Making 'packages.html' ... done\n",
      "Old packages: 'backports', 'BH', 'broom', 'callr', 'caret', 'checkpoint',\n",
      "  'class', 'cli', 'clipr', 'codetools', 'colorspace', 'commonmark', 'covr',\n",
      "  'curl', 'data.table', 'dbplyr', 'ddalpha', 'devtools', 'digest', 'dimRed',\n",
      "  'doParallel', 'dplyr', 'evaluate', 'fansi', 'foreign', 'ggplot2', 'git2r',\n",
      "  'haven', 'htmlwidgets', 'httpuv', 'httr', 'hunspell', 'ipred', 'IRdisplay',\n",
      "  'IRkernel', 'jsonlite', 'kernlab', 'knitr', 'later', 'lattice', 'lava',\n",
      "  'lintr', 'magic', 'markdown', 'MASS', 'Matrix', 'mgcv', 'mime',\n",
      "  'ModelMetrics', 'modelr', 'openssl', 'pillar', 'pkgbuild', 'pkgconfig',\n",
      "  'pkgload', 'pls', 'processx', 'psych', 'purrr', 'R.utils', 'R6', 'Rcpp',\n",
      "  'readr', 'readxl', 'recipes', 'remotes', 'repr', 'reprex', 'rlang',\n",
      "  'rmarkdown', 'robustbase', 'roxygen2', 'rstudioapi', 'RUnit', 'scales',\n",
      "  'sfsmisc', 'shiny', 'survival', 'testthat', 'tibble', 'tidyr', 'tidyselect',\n",
      "  'tinytex', 'TTR', 'xfun', 'xtable', 'xts', 'zoo'\n"
     ]
    }
   ],
   "source": [
    "biocLite(c(\"affy\", \"limma\", \"geneplotter\"))"
   ]
  }
 ],
 "metadata": {
  "kernelspec": {
   "display_name": "R",
   "language": "R",
   "name": "ir"
  },
  "language_info": {
   "codemirror_mode": "r",
   "file_extension": ".r",
   "mimetype": "text/x-r-source",
   "name": "R",
   "pygments_lexer": "r",
   "version": "3.5.1"
  }
 },
 "nbformat": 4,
 "nbformat_minor": 2
}
