{
 "cells": [
  {
   "cell_type": "code",
   "execution_count": 3,
   "metadata": {},
   "outputs": [
    {
     "name": "stderr",
     "output_type": "stream",
     "text": [
      "also installing the dependencies ‘pkgbuild’, ‘rex’, ‘stringdist’, ‘brew’, ‘commonmark’, ‘desc’, ‘pkgload’, ‘git2r’, ‘hunspell’, ‘lintr’, ‘bitops’, ‘roxygen2’, ‘rversions’, ‘covr’, ‘gmailr’\n",
      "\n",
      "Warning message in install.packages(\"devtools\", dependencies = T):\n",
      "“installation of package ‘git2r’ had non-zero exit status”Warning message in install.packages(\"devtools\", dependencies = T):\n",
      "“installation of package ‘devtools’ had non-zero exit status”Updating HTML index of packages in '.Library'\n",
      "Making 'packages.html' ... done\n"
     ]
    }
   ],
   "source": [
    "install.packages(\"devtools\", dependencies = T)"
   ]
  },
  {
   "cell_type": "code",
   "execution_count": 30,
   "metadata": {},
   "outputs": [
    {
     "data": {
      "text/html": [
       "38"
      ],
      "text/latex": [
       "38"
      ],
      "text/markdown": [
       "38"
      ],
      "text/plain": [
       "[1] 38"
      ]
     },
     "metadata": {},
     "output_type": "display_data"
    }
   ],
   "source": [
    "li = installed.packages()\n",
    "#class(li)\n",
    "li = as.character(li[,1])\n",
    "grep(\"devtools\", li)"
   ]
  },
  {
   "cell_type": "code",
   "execution_count": 24,
   "metadata": {},
   "outputs": [],
   "source": [
    "system(\"conda install -c r r-git2r\")"
   ]
  },
  {
   "cell_type": "code",
   "execution_count": 26,
   "metadata": {},
   "outputs": [],
   "source": [
    "system(\"conda install -c r r-devtools\")"
   ]
  },
  {
   "cell_type": "code",
   "execution_count": 31,
   "metadata": {},
   "outputs": [
    {
     "name": "stderr",
     "output_type": "stream",
     "text": [
      "Downloading GitHub repo nicolewhite/RNeo4j@master\n",
      "from URL https://api.github.com/repos/nicolewhite/RNeo4j/zipball/master\n",
      "Warning message:\n",
      "“GitHub repo contains submodules, may not function as expected!”Installing RNeo4j\n",
      "'/home/flalix/anaconda3/envs/study/lib/R/bin/R' --no-site-file --no-environ  \\\n",
      "  --no-save --no-restore --quiet CMD INSTALL  \\\n",
      "  '/tmp/RtmpNvtdoq/devtools417c73b1a201/nicolewhite-RNeo4j-eea1ac1'  \\\n",
      "  --library='/home/flalix/anaconda3/envs/study/lib/R/library' --install-tests \n",
      "\n"
     ]
    }
   ],
   "source": [
    "library(devtools)\n",
    "devtools::install_github(\"nicolewhite/RNeo4j\")"
   ]
  },
  {
   "cell_type": "code",
   "execution_count": 39,
   "metadata": {},
   "outputs": [
    {
     "name": "stderr",
     "output_type": "stream",
     "text": [
      "also installing the dependencies ‘bit’, ‘bit64’, ‘rjson’\n",
      "\n",
      "Updating HTML index of packages in '.Library'\n",
      "Making 'packages.html' ... done\n"
     ]
    }
   ],
   "source": [
    "install.packages(\"twitteR\")"
   ]
  },
  {
   "cell_type": "code",
   "execution_count": 46,
   "metadata": {},
   "outputs": [
    {
     "name": "stderr",
     "output_type": "stream",
     "text": [
      "Updating HTML index of packages in '.Library'\n",
      "Making 'packages.html' ... done\n"
     ]
    }
   ],
   "source": [
    "install.packages(c('ROAuth','RCurl'))"
   ]
  },
  {
   "cell_type": "code",
   "execution_count": 56,
   "metadata": {},
   "outputs": [],
   "source": [
    "library(RNeo4j)\n",
    "library(httr)\n",
    "library(twitteR)\n",
    "require('ROAuth')\n",
    "require('RCurl')"
   ]
  },
  {
   "cell_type": "markdown",
   "metadata": {},
   "source": [
    "### From Nicole White - example using twitter \n",
    "\n",
    "[example] https://nicolewhite.github.io/2014/05/30/demo-of-rneo4j-part1.html"
   ]
  },
  {
   "cell_type": "code",
   "execution_count": 49,
   "metadata": {},
   "outputs": [],
   "source": [
    "reqURL <- \"https://api.twitter.com/oauth/request_token\"\n",
    "accessURL <- \"https://api.twitter.com/oauth/access_token\"\n",
    "authURL <- \"http://api.twitter.com/oauth/authorize\"\n",
    "\n",
    "consumerKey <- \"5ij43543flskfsdafdsa322\"\n",
    "consumerSecret <- \"rwe5432k5jh42j3klh5jkl23\""
   ]
  },
  {
   "cell_type": "code",
   "execution_count": 57,
   "metadata": {},
   "outputs": [
    {
     "ename": "ERROR",
     "evalue": "Error in structure(list(appname = appname, secret = secret, key = key, : object 'api_secret' not found\n",
     "output_type": "error",
     "traceback": [
      "Error in structure(list(appname = appname, secret = secret, key = key, : object 'api_secret' not found\nTraceback:\n",
      "1. setup_twitter_oauth(api_key, api_secret, access_token, access_token_secret)",
      "2. oauth_app(\"twitter\", key = consumer_key, secret = consumer_secret)",
      "3. structure(list(appname = appname, secret = secret, key = key, \n .     redirect_uri = redirect_uri), class = \"oauth_app\")"
     ]
    }
   ],
   "source": [
    "setup_twitter_oauth(api_key, api_secret, access_token, access_token_secret)\n",
    "tweets <- searchTwitter('#bigdata', n=150) \n",
    "tweets.df <- do.call(rbind, lapply(tweets, as.data.frame))\n",
    "write.csv(tweets.df, \"C:/...\")"
   ]
  },
  {
   "cell_type": "code",
   "execution_count": 58,
   "metadata": {},
   "outputs": [],
   "source": [
    "twitCred <- OAuthFactory$new(consumerKey=consumerKey,\n",
    "                             consumerSecret=consumerSecret,\n",
    "                             requestURL=reqURL,\n",
    "                             accessURL=accessURL,\n",
    "                             authURL=authURL)"
   ]
  },
  {
   "cell_type": "code",
   "execution_count": 60,
   "metadata": {},
   "outputs": [
    {
     "ename": "ERROR",
     "evalue": "Error: Authorization Required\r\n\n",
     "output_type": "error",
     "traceback": [
      "Error: Authorization Required\r\n\nTraceback:\n",
      "1. twitCred$handshake()",
      "2. oauthPOST(.self$requestURL, .self$consumerKey, .self$consumerSecret, \n .     NULL, NULL, signMethod = .self$signMethod, curl = curl, handshakeComplete = .self$handshakeComplete, \n .     ...)",
      "3. postForm(url, .params = params, curl = curl, .opts = opts, style = \"POST\")",
      "4. stop.if.HTTP.error(http.header)"
     ]
    }
   ],
   "source": [
    "twitCred$handshake()"
   ]
  },
  {
   "cell_type": "code",
   "execution_count": 59,
   "metadata": {},
   "outputs": [
    {
     "ename": "ERROR",
     "evalue": "Error: Authorization Required\r\n\n",
     "output_type": "error",
     "traceback": [
      "Error: Authorization Required\r\n\nTraceback:\n",
      "1. twitCred$handshake()",
      "2. oauthPOST(.self$requestURL, .self$consumerKey, .self$consumerSecret, \n .     NULL, NULL, signMethod = .self$signMethod, curl = curl, handshakeComplete = .self$handshakeComplete, \n .     ...)",
      "3. postForm(url, .params = params, curl = curl, .opts = opts, style = \"POST\")",
      "4. stop.if.HTTP.error(http.header)"
     ]
    }
   ],
   "source": [
    "registerTwitterOAuth(twitCred)\n",
    "\n",
    "# Save Twitter OAuth credentials for later.\n",
    "save(twitCred, file = \"data/twitter.RData\")"
   ]
  },
  {
   "cell_type": "code",
   "execution_count": null,
   "metadata": {},
   "outputs": [],
   "source": []
  },
  {
   "cell_type": "code",
   "execution_count": null,
   "metadata": {},
   "outputs": [],
   "source": []
  }
 ],
 "metadata": {
  "kernelspec": {
   "display_name": "R",
   "language": "R",
   "name": "ir"
  },
  "language_info": {
   "codemirror_mode": "r",
   "file_extension": ".r",
   "mimetype": "text/x-r-source",
   "name": "R",
   "pygments_lexer": "r",
   "version": "3.5.1"
  }
 },
 "nbformat": 4,
 "nbformat_minor": 2
}
