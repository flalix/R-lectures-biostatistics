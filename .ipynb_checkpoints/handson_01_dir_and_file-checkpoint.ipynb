{
 "cells": [
  {
   "cell_type": "markdown",
   "metadata": {},
   "source": [
    "author: Flavio Lichtenstein  \n",
    "data update:   2019/01/26\n",
    "data created:  2016/07/20  \n",
    "local: Molecular Biology/Inovation & CENTD - Butantan Institute  \n",
    "\n",
    "### Lecture 01 - dir and files in R"
   ]
  },
  {
   "cell_type": "markdown",
   "metadata": {},
   "source": [
    "### where I am - directory - folder\n",
    "\n",
    "use getwd() and setwd()"
   ]
  },
  {
   "cell_type": "code",
   "execution_count": 1,
   "metadata": {},
   "outputs": [
    {
     "data": {
      "text/html": [
       "'/media/flalix/disk2t/udemy/R-lectures-biostatistics'"
      ],
      "text/latex": [
       "'/media/flalix/disk2t/udemy/R-lectures-biostatistics'"
      ],
      "text/markdown": [
       "'/media/flalix/disk2t/udemy/R-lectures-biostatistics'"
      ],
      "text/plain": [
       "[1] \"/media/flalix/disk2t/udemy/R-lectures-biostatistics\""
      ]
     },
     "metadata": {},
     "output_type": "display_data"
    }
   ],
   "source": [
    "#-- get work directory\n",
    "getwd()"
   ]
  },
  {
   "cell_type": "code",
   "execution_count": 3,
   "metadata": {},
   "outputs": [],
   "source": [
    "?getwd"
   ]
  },
  {
   "cell_type": "code",
   "execution_count": 4,
   "metadata": {},
   "outputs": [
    {
     "data": {
      "text/html": [
       "'/media/flalix/disk2t/udemy'"
      ],
      "text/latex": [
       "'/media/flalix/disk2t/udemy'"
      ],
      "text/markdown": [
       "'/media/flalix/disk2t/udemy'"
      ],
      "text/plain": [
       "[1] \"/media/flalix/disk2t/udemy\""
      ]
     },
     "metadata": {},
     "output_type": "display_data"
    }
   ],
   "source": [
    "my.dir = '/media/flalix/disk2t/udemy/'\n",
    "#-- set work directory\n",
    "setwd(my.dir)\n",
    "getwd()"
   ]
  },
  {
   "cell_type": "code",
   "execution_count": 5,
   "metadata": {},
   "outputs": [
    {
     "data": {
      "text/html": [
       "'/media/flalix/disk2t/udemy/R-lectures-biostatistics'"
      ],
      "text/latex": [
       "'/media/flalix/disk2t/udemy/R-lectures-biostatistics'"
      ],
      "text/markdown": [
       "'/media/flalix/disk2t/udemy/R-lectures-biostatistics'"
      ],
      "text/plain": [
       "[1] \"/media/flalix/disk2t/udemy/R-lectures-biostatistics\""
      ]
     },
     "metadata": {},
     "output_type": "display_data"
    }
   ],
   "source": [
    "my.dir = '/media/flalix/disk2t/udemy/R-lectures-biostatistics'\n",
    "setwd(my.dir)\n",
    "getwd()"
   ]
  },
  {
   "cell_type": "markdown",
   "metadata": {},
   "source": [
    "### What is inside this folder?\n",
    "\n",
    "use dir(), and best list.files()"
   ]
  },
  {
   "cell_type": "code",
   "execution_count": 6,
   "metadata": {},
   "outputs": [
    {
     "data": {
      "text/html": [
       "<ol class=list-inline>\n",
       "\t<li>'cursor'</li>\n",
       "\t<li>'data'</li>\n",
       "\t<li>'handson_00_jupyter_notebook_and_links.ipynb'</li>\n",
       "\t<li>'handson_01_dir_and_file.ipynb'</li>\n",
       "\t<li>'handson_02_install_packages.ipynb'</li>\n",
       "\t<li>'handson_03_introduction_R.ipynb'</li>\n",
       "\t<li>'handson_04_dataframe_plots.ipynb'</li>\n",
       "\t<li>'handson_05_statistics.ipynb'</li>\n",
       "\t<li>'handson_06_regression.ipynb'</li>\n",
       "\t<li>'handson_07_regression_ggplot.ipynb'</li>\n",
       "\t<li>'handson_08_loops_function_programming.ipynb'</li>\n",
       "\t<li>'handson_09_graph_theory_igraph.ipynb'</li>\n",
       "\t<li>'images'</li>\n",
       "\t<li>'others'</li>\n",
       "\t<li>'pdf'</li>\n",
       "\t<li>'R'</li>\n",
       "\t<li>'trash'</li>\n",
       "\t<li>'Untitled.ipynb'</li>\n",
       "\t<li>'Untitled1.ipynb'</li>\n",
       "</ol>\n"
      ],
      "text/latex": [
       "\\begin{enumerate*}\n",
       "\\item 'cursor'\n",
       "\\item 'data'\n",
       "\\item 'handson\\_00\\_jupyter\\_notebook\\_and\\_links.ipynb'\n",
       "\\item 'handson\\_01\\_dir\\_and\\_file.ipynb'\n",
       "\\item 'handson\\_02\\_install\\_packages.ipynb'\n",
       "\\item 'handson\\_03\\_introduction\\_R.ipynb'\n",
       "\\item 'handson\\_04\\_dataframe\\_plots.ipynb'\n",
       "\\item 'handson\\_05\\_statistics.ipynb'\n",
       "\\item 'handson\\_06\\_regression.ipynb'\n",
       "\\item 'handson\\_07\\_regression\\_ggplot.ipynb'\n",
       "\\item 'handson\\_08\\_loops\\_function\\_programming.ipynb'\n",
       "\\item 'handson\\_09\\_graph\\_theory\\_igraph.ipynb'\n",
       "\\item 'images'\n",
       "\\item 'others'\n",
       "\\item 'pdf'\n",
       "\\item 'R'\n",
       "\\item 'trash'\n",
       "\\item 'Untitled.ipynb'\n",
       "\\item 'Untitled1.ipynb'\n",
       "\\end{enumerate*}\n"
      ],
      "text/markdown": [
       "1. 'cursor'\n",
       "2. 'data'\n",
       "3. 'handson_00_jupyter_notebook_and_links.ipynb'\n",
       "4. 'handson_01_dir_and_file.ipynb'\n",
       "5. 'handson_02_install_packages.ipynb'\n",
       "6. 'handson_03_introduction_R.ipynb'\n",
       "7. 'handson_04_dataframe_plots.ipynb'\n",
       "8. 'handson_05_statistics.ipynb'\n",
       "9. 'handson_06_regression.ipynb'\n",
       "10. 'handson_07_regression_ggplot.ipynb'\n",
       "11. 'handson_08_loops_function_programming.ipynb'\n",
       "12. 'handson_09_graph_theory_igraph.ipynb'\n",
       "13. 'images'\n",
       "14. 'others'\n",
       "15. 'pdf'\n",
       "16. 'R'\n",
       "17. 'trash'\n",
       "18. 'Untitled.ipynb'\n",
       "19. 'Untitled1.ipynb'\n",
       "\n",
       "\n"
      ],
      "text/plain": [
       " [1] \"cursor\"                                     \n",
       " [2] \"data\"                                       \n",
       " [3] \"handson_00_jupyter_notebook_and_links.ipynb\"\n",
       " [4] \"handson_01_dir_and_file.ipynb\"              \n",
       " [5] \"handson_02_install_packages.ipynb\"          \n",
       " [6] \"handson_03_introduction_R.ipynb\"            \n",
       " [7] \"handson_04_dataframe_plots.ipynb\"           \n",
       " [8] \"handson_05_statistics.ipynb\"                \n",
       " [9] \"handson_06_regression.ipynb\"                \n",
       "[10] \"handson_07_regression_ggplot.ipynb\"         \n",
       "[11] \"handson_08_loops_function_programming.ipynb\"\n",
       "[12] \"handson_09_graph_theory_igraph.ipynb\"       \n",
       "[13] \"images\"                                     \n",
       "[14] \"others\"                                     \n",
       "[15] \"pdf\"                                        \n",
       "[16] \"R\"                                          \n",
       "[17] \"trash\"                                      \n",
       "[18] \"Untitled.ipynb\"                             \n",
       "[19] \"Untitled1.ipynb\"                            "
      ]
     },
     "metadata": {},
     "output_type": "display_data"
    }
   ],
   "source": [
    "dir()"
   ]
  },
  {
   "cell_type": "code",
   "execution_count": 7,
   "metadata": {},
   "outputs": [
    {
     "data": {
      "text/html": [
       "<ol class=list-inline>\n",
       "\t<li>'cursor'</li>\n",
       "\t<li>'data'</li>\n",
       "\t<li>'handson_00_jupyter_notebook_and_links.ipynb'</li>\n",
       "\t<li>'handson_01_dir_and_file.ipynb'</li>\n",
       "\t<li>'handson_02_install_packages.ipynb'</li>\n",
       "\t<li>'handson_03_introduction_R.ipynb'</li>\n",
       "\t<li>'handson_04_dataframe_plots.ipynb'</li>\n",
       "\t<li>'handson_05_statistics.ipynb'</li>\n",
       "\t<li>'handson_06_regression.ipynb'</li>\n",
       "\t<li>'handson_07_regression_ggplot.ipynb'</li>\n",
       "\t<li>'handson_08_loops_function_programming.ipynb'</li>\n",
       "\t<li>'handson_09_graph_theory_igraph.ipynb'</li>\n",
       "\t<li>'images'</li>\n",
       "\t<li>'others'</li>\n",
       "\t<li>'pdf'</li>\n",
       "\t<li>'R'</li>\n",
       "\t<li>'trash'</li>\n",
       "\t<li>'Untitled.ipynb'</li>\n",
       "\t<li>'Untitled1.ipynb'</li>\n",
       "</ol>\n"
      ],
      "text/latex": [
       "\\begin{enumerate*}\n",
       "\\item 'cursor'\n",
       "\\item 'data'\n",
       "\\item 'handson\\_00\\_jupyter\\_notebook\\_and\\_links.ipynb'\n",
       "\\item 'handson\\_01\\_dir\\_and\\_file.ipynb'\n",
       "\\item 'handson\\_02\\_install\\_packages.ipynb'\n",
       "\\item 'handson\\_03\\_introduction\\_R.ipynb'\n",
       "\\item 'handson\\_04\\_dataframe\\_plots.ipynb'\n",
       "\\item 'handson\\_05\\_statistics.ipynb'\n",
       "\\item 'handson\\_06\\_regression.ipynb'\n",
       "\\item 'handson\\_07\\_regression\\_ggplot.ipynb'\n",
       "\\item 'handson\\_08\\_loops\\_function\\_programming.ipynb'\n",
       "\\item 'handson\\_09\\_graph\\_theory\\_igraph.ipynb'\n",
       "\\item 'images'\n",
       "\\item 'others'\n",
       "\\item 'pdf'\n",
       "\\item 'R'\n",
       "\\item 'trash'\n",
       "\\item 'Untitled.ipynb'\n",
       "\\item 'Untitled1.ipynb'\n",
       "\\end{enumerate*}\n"
      ],
      "text/markdown": [
       "1. 'cursor'\n",
       "2. 'data'\n",
       "3. 'handson_00_jupyter_notebook_and_links.ipynb'\n",
       "4. 'handson_01_dir_and_file.ipynb'\n",
       "5. 'handson_02_install_packages.ipynb'\n",
       "6. 'handson_03_introduction_R.ipynb'\n",
       "7. 'handson_04_dataframe_plots.ipynb'\n",
       "8. 'handson_05_statistics.ipynb'\n",
       "9. 'handson_06_regression.ipynb'\n",
       "10. 'handson_07_regression_ggplot.ipynb'\n",
       "11. 'handson_08_loops_function_programming.ipynb'\n",
       "12. 'handson_09_graph_theory_igraph.ipynb'\n",
       "13. 'images'\n",
       "14. 'others'\n",
       "15. 'pdf'\n",
       "16. 'R'\n",
       "17. 'trash'\n",
       "18. 'Untitled.ipynb'\n",
       "19. 'Untitled1.ipynb'\n",
       "\n",
       "\n"
      ],
      "text/plain": [
       " [1] \"cursor\"                                     \n",
       " [2] \"data\"                                       \n",
       " [3] \"handson_00_jupyter_notebook_and_links.ipynb\"\n",
       " [4] \"handson_01_dir_and_file.ipynb\"              \n",
       " [5] \"handson_02_install_packages.ipynb\"          \n",
       " [6] \"handson_03_introduction_R.ipynb\"            \n",
       " [7] \"handson_04_dataframe_plots.ipynb\"           \n",
       " [8] \"handson_05_statistics.ipynb\"                \n",
       " [9] \"handson_06_regression.ipynb\"                \n",
       "[10] \"handson_07_regression_ggplot.ipynb\"         \n",
       "[11] \"handson_08_loops_function_programming.ipynb\"\n",
       "[12] \"handson_09_graph_theory_igraph.ipynb\"       \n",
       "[13] \"images\"                                     \n",
       "[14] \"others\"                                     \n",
       "[15] \"pdf\"                                        \n",
       "[16] \"R\"                                          \n",
       "[17] \"trash\"                                      \n",
       "[18] \"Untitled.ipynb\"                             \n",
       "[19] \"Untitled1.ipynb\"                            "
      ]
     },
     "metadata": {},
     "output_type": "display_data"
    }
   ],
   "source": [
    "list.files()"
   ]
  },
  {
   "cell_type": "code",
   "execution_count": 8,
   "metadata": {},
   "outputs": [
    {
     "data": {
      "text/html": [
       "<ol class=list-inline>\n",
       "\t<li>'Activation of TNF-alpha-dependent pro-tumoral effect in colorectal cancer g1 h6 h12 interactions.csv'</li>\n",
       "\t<li>'Activation of TNF-alpha-dependent pro-tumoral effect in colorectal cancer g1 h6 h12 interactions.xls'</li>\n",
       "\t<li>'femaleControlsPopulation.csv'</li>\n",
       "\t<li>'iris.csv'</li>\n",
       "\t<li>'mtcars.csv'</li>\n",
       "\t<li>'netscix2016'</li>\n",
       "\t<li>'netscix2016.zip'</li>\n",
       "</ol>\n"
      ],
      "text/latex": [
       "\\begin{enumerate*}\n",
       "\\item 'Activation of TNF-alpha-dependent pro-tumoral effect in colorectal cancer g1 h6 h12 interactions.csv'\n",
       "\\item 'Activation of TNF-alpha-dependent pro-tumoral effect in colorectal cancer g1 h6 h12 interactions.xls'\n",
       "\\item 'femaleControlsPopulation.csv'\n",
       "\\item 'iris.csv'\n",
       "\\item 'mtcars.csv'\n",
       "\\item 'netscix2016'\n",
       "\\item 'netscix2016.zip'\n",
       "\\end{enumerate*}\n"
      ],
      "text/markdown": [
       "1. 'Activation of TNF-alpha-dependent pro-tumoral effect in colorectal cancer g1 h6 h12 interactions.csv'\n",
       "2. 'Activation of TNF-alpha-dependent pro-tumoral effect in colorectal cancer g1 h6 h12 interactions.xls'\n",
       "3. 'femaleControlsPopulation.csv'\n",
       "4. 'iris.csv'\n",
       "5. 'mtcars.csv'\n",
       "6. 'netscix2016'\n",
       "7. 'netscix2016.zip'\n",
       "\n",
       "\n"
      ],
      "text/plain": [
       "[1] \"Activation of TNF-alpha-dependent pro-tumoral effect in colorectal cancer g1 h6 h12 interactions.csv\"\n",
       "[2] \"Activation of TNF-alpha-dependent pro-tumoral effect in colorectal cancer g1 h6 h12 interactions.xls\"\n",
       "[3] \"femaleControlsPopulation.csv\"                                                                        \n",
       "[4] \"iris.csv\"                                                                                            \n",
       "[5] \"mtcars.csv\"                                                                                          \n",
       "[6] \"netscix2016\"                                                                                         \n",
       "[7] \"netscix2016.zip\"                                                                                     "
      ]
     },
     "metadata": {},
     "output_type": "display_data"
    }
   ],
   "source": [
    "list.files(path=\"data\")"
   ]
  },
  {
   "cell_type": "code",
   "execution_count": 9,
   "metadata": {},
   "outputs": [
    {
     "data": {
      "text/html": [
       "<ol class=list-inline>\n",
       "\t<li>'ex03_dataframe - ggplot.R'</li>\n",
       "\t<li>'ex04_dataframe - bar error plot.R'</li>\n",
       "\t<li>'ex05_dataframe - bar error plot.R'</li>\n",
       "</ol>\n"
      ],
      "text/latex": [
       "\\begin{enumerate*}\n",
       "\\item 'ex03\\_dataframe - ggplot.R'\n",
       "\\item 'ex04\\_dataframe - bar error plot.R'\n",
       "\\item 'ex05\\_dataframe - bar error plot.R'\n",
       "\\end{enumerate*}\n"
      ],
      "text/markdown": [
       "1. 'ex03_dataframe - ggplot.R'\n",
       "2. 'ex04_dataframe - bar error plot.R'\n",
       "3. 'ex05_dataframe - bar error plot.R'\n",
       "\n",
       "\n"
      ],
      "text/plain": [
       "[1] \"ex03_dataframe - ggplot.R\"         \"ex04_dataframe - bar error plot.R\"\n",
       "[3] \"ex05_dataframe - bar error plot.R\""
      ]
     },
     "metadata": {},
     "output_type": "display_data"
    }
   ],
   "source": [
    "list.files(path=\"R\", pattern=\"plot\")"
   ]
  },
  {
   "cell_type": "markdown",
   "metadata": {},
   "source": [
    "### Does a file exists?"
   ]
  },
  {
   "cell_type": "code",
   "execution_count": 10,
   "metadata": {},
   "outputs": [
    {
     "data": {
      "text/html": [
       "FALSE"
      ],
      "text/latex": [
       "FALSE"
      ],
      "text/markdown": [
       "FALSE"
      ],
      "text/plain": [
       "[1] FALSE"
      ]
     },
     "metadata": {},
     "output_type": "display_data"
    }
   ],
   "source": [
    "file.exists(\"ex04_dataframe - bar error plot.R\")"
   ]
  },
  {
   "cell_type": "code",
   "execution_count": 24,
   "metadata": {},
   "outputs": [
    {
     "name": "stdout",
     "output_type": "stream",
     "text": [
      "Filename not found."
     ]
    }
   ],
   "source": [
    "filename = \"ex04_dataframe - bar error plot.R\"\n",
    "\n",
    "if (file.exists(filename)) {\n",
    "    # open(filename)\n",
    "    b =1\n",
    "} else {\n",
    "    cat(\"Filename not found.\")\n",
    "}\n"
   ]
  },
  {
   "cell_type": "code",
   "execution_count": 28,
   "metadata": {},
   "outputs": [
    {
     "name": "stderr",
     "output_type": "stream",
     "text": [
      "Warning message in rm(b):\n",
      "“object 'b' not found”"
     ]
    }
   ],
   "source": [
    "# remove variable\n",
    "rm(a)\n",
    "rm(b)"
   ]
  },
  {
   "cell_type": "code",
   "execution_count": 14,
   "metadata": {},
   "outputs": [
    {
     "data": {
      "text/html": [
       "TRUE"
      ],
      "text/latex": [
       "TRUE"
      ],
      "text/markdown": [
       "TRUE"
      ],
      "text/plain": [
       "[1] TRUE"
      ]
     },
     "metadata": {},
     "output_type": "display_data"
    }
   ],
   "source": [
    "file.exists(\"R/ex04_dataframe - bar error plot.R\")"
   ]
  },
  {
   "cell_type": "markdown",
   "metadata": {},
   "source": [
    "### Does a folder (subdir) exists?"
   ]
  },
  {
   "cell_type": "code",
   "execution_count": 10,
   "metadata": {},
   "outputs": [
    {
     "data": {
      "text/html": [
       "TRUE"
      ],
      "text/latex": [
       "TRUE"
      ],
      "text/markdown": [
       "TRUE"
      ],
      "text/plain": [
       "[1] TRUE"
      ]
     },
     "metadata": {},
     "output_type": "display_data"
    }
   ],
   "source": [
    "dir.exists(\"R\")"
   ]
  },
  {
   "cell_type": "markdown",
   "metadata": {},
   "source": [
    "otherwise, create it!"
   ]
  },
  {
   "cell_type": "code",
   "execution_count": 20,
   "metadata": {},
   "outputs": [
    {
     "name": "stderr",
     "output_type": "stream",
     "text": [
      "Warning message in dir.create(\"cursor\"):\n",
      "“'cursor' already exists”"
     ]
    },
    {
     "data": {
      "text/html": [
       "<ol class=list-inline>\n",
       "\t<li>'cursor'</li>\n",
       "\t<li>'data'</li>\n",
       "\t<li>'handson_00_jupyter_notebook_and_links.ipynb'</li>\n",
       "\t<li>'handson_01_dir_and_file.ipynb'</li>\n",
       "\t<li>'handson_02_install_packages.ipynb'</li>\n",
       "\t<li>'handson_03_introduction_R.ipynb'</li>\n",
       "\t<li>'handson_04_dataframe_plots.ipynb'</li>\n",
       "\t<li>'handson_05_statistics.ipynb'</li>\n",
       "\t<li>'handson_06_regression.ipynb'</li>\n",
       "\t<li>'handson_07_regression_ggplot.ipynb'</li>\n",
       "\t<li>'handson_08_loops_function_programming.ipynb'</li>\n",
       "\t<li>'handson_09_graph_theory_igraph.ipynb'</li>\n",
       "\t<li>'images'</li>\n",
       "\t<li>'others'</li>\n",
       "\t<li>'pdf'</li>\n",
       "\t<li>'R'</li>\n",
       "\t<li>'trash'</li>\n",
       "\t<li>'Untitled.ipynb'</li>\n",
       "\t<li>'Untitled1.ipynb'</li>\n",
       "</ol>\n"
      ],
      "text/latex": [
       "\\begin{enumerate*}\n",
       "\\item 'cursor'\n",
       "\\item 'data'\n",
       "\\item 'handson\\_00\\_jupyter\\_notebook\\_and\\_links.ipynb'\n",
       "\\item 'handson\\_01\\_dir\\_and\\_file.ipynb'\n",
       "\\item 'handson\\_02\\_install\\_packages.ipynb'\n",
       "\\item 'handson\\_03\\_introduction\\_R.ipynb'\n",
       "\\item 'handson\\_04\\_dataframe\\_plots.ipynb'\n",
       "\\item 'handson\\_05\\_statistics.ipynb'\n",
       "\\item 'handson\\_06\\_regression.ipynb'\n",
       "\\item 'handson\\_07\\_regression\\_ggplot.ipynb'\n",
       "\\item 'handson\\_08\\_loops\\_function\\_programming.ipynb'\n",
       "\\item 'handson\\_09\\_graph\\_theory\\_igraph.ipynb'\n",
       "\\item 'images'\n",
       "\\item 'others'\n",
       "\\item 'pdf'\n",
       "\\item 'R'\n",
       "\\item 'trash'\n",
       "\\item 'Untitled.ipynb'\n",
       "\\item 'Untitled1.ipynb'\n",
       "\\end{enumerate*}\n"
      ],
      "text/markdown": [
       "1. 'cursor'\n",
       "2. 'data'\n",
       "3. 'handson_00_jupyter_notebook_and_links.ipynb'\n",
       "4. 'handson_01_dir_and_file.ipynb'\n",
       "5. 'handson_02_install_packages.ipynb'\n",
       "6. 'handson_03_introduction_R.ipynb'\n",
       "7. 'handson_04_dataframe_plots.ipynb'\n",
       "8. 'handson_05_statistics.ipynb'\n",
       "9. 'handson_06_regression.ipynb'\n",
       "10. 'handson_07_regression_ggplot.ipynb'\n",
       "11. 'handson_08_loops_function_programming.ipynb'\n",
       "12. 'handson_09_graph_theory_igraph.ipynb'\n",
       "13. 'images'\n",
       "14. 'others'\n",
       "15. 'pdf'\n",
       "16. 'R'\n",
       "17. 'trash'\n",
       "18. 'Untitled.ipynb'\n",
       "19. 'Untitled1.ipynb'\n",
       "\n",
       "\n"
      ],
      "text/plain": [
       " [1] \"cursor\"                                     \n",
       " [2] \"data\"                                       \n",
       " [3] \"handson_00_jupyter_notebook_and_links.ipynb\"\n",
       " [4] \"handson_01_dir_and_file.ipynb\"              \n",
       " [5] \"handson_02_install_packages.ipynb\"          \n",
       " [6] \"handson_03_introduction_R.ipynb\"            \n",
       " [7] \"handson_04_dataframe_plots.ipynb\"           \n",
       " [8] \"handson_05_statistics.ipynb\"                \n",
       " [9] \"handson_06_regression.ipynb\"                \n",
       "[10] \"handson_07_regression_ggplot.ipynb\"         \n",
       "[11] \"handson_08_loops_function_programming.ipynb\"\n",
       "[12] \"handson_09_graph_theory_igraph.ipynb\"       \n",
       "[13] \"images\"                                     \n",
       "[14] \"others\"                                     \n",
       "[15] \"pdf\"                                        \n",
       "[16] \"R\"                                          \n",
       "[17] \"trash\"                                      \n",
       "[18] \"Untitled.ipynb\"                             \n",
       "[19] \"Untitled1.ipynb\"                            "
      ]
     },
     "metadata": {},
     "output_type": "display_data"
    }
   ],
   "source": [
    "#-- create a directory\n",
    "dir.create(\"cursor\")\n",
    "dir()"
   ]
  },
  {
   "cell_type": "code",
   "execution_count": 21,
   "metadata": {},
   "outputs": [
    {
     "data": {
      "text/html": [
       "<ol class=list-inline>\n",
       "\t<li>'cursor'</li>\n",
       "\t<li>'data'</li>\n",
       "\t<li>'handson_00_jupyter_notebook_and_links.ipynb'</li>\n",
       "\t<li>'handson_01_dir_and_file.ipynb'</li>\n",
       "\t<li>'handson_02_install_packages.ipynb'</li>\n",
       "\t<li>'handson_03_introduction_R.ipynb'</li>\n",
       "\t<li>'handson_04_dataframe_plots.ipynb'</li>\n",
       "\t<li>'handson_05_statistics.ipynb'</li>\n",
       "\t<li>'handson_06_regression.ipynb'</li>\n",
       "\t<li>'handson_07_regression_ggplot.ipynb'</li>\n",
       "\t<li>'handson_08_loops_function_programming.ipynb'</li>\n",
       "\t<li>'handson_09_graph_theory_igraph.ipynb'</li>\n",
       "\t<li>'images'</li>\n",
       "\t<li>'others'</li>\n",
       "\t<li>'pdf'</li>\n",
       "\t<li>'R'</li>\n",
       "\t<li>'trash'</li>\n",
       "\t<li>'Untitled.ipynb'</li>\n",
       "\t<li>'Untitled1.ipynb'</li>\n",
       "</ol>\n"
      ],
      "text/latex": [
       "\\begin{enumerate*}\n",
       "\\item 'cursor'\n",
       "\\item 'data'\n",
       "\\item 'handson\\_00\\_jupyter\\_notebook\\_and\\_links.ipynb'\n",
       "\\item 'handson\\_01\\_dir\\_and\\_file.ipynb'\n",
       "\\item 'handson\\_02\\_install\\_packages.ipynb'\n",
       "\\item 'handson\\_03\\_introduction\\_R.ipynb'\n",
       "\\item 'handson\\_04\\_dataframe\\_plots.ipynb'\n",
       "\\item 'handson\\_05\\_statistics.ipynb'\n",
       "\\item 'handson\\_06\\_regression.ipynb'\n",
       "\\item 'handson\\_07\\_regression\\_ggplot.ipynb'\n",
       "\\item 'handson\\_08\\_loops\\_function\\_programming.ipynb'\n",
       "\\item 'handson\\_09\\_graph\\_theory\\_igraph.ipynb'\n",
       "\\item 'images'\n",
       "\\item 'others'\n",
       "\\item 'pdf'\n",
       "\\item 'R'\n",
       "\\item 'trash'\n",
       "\\item 'Untitled.ipynb'\n",
       "\\item 'Untitled1.ipynb'\n",
       "\\end{enumerate*}\n"
      ],
      "text/markdown": [
       "1. 'cursor'\n",
       "2. 'data'\n",
       "3. 'handson_00_jupyter_notebook_and_links.ipynb'\n",
       "4. 'handson_01_dir_and_file.ipynb'\n",
       "5. 'handson_02_install_packages.ipynb'\n",
       "6. 'handson_03_introduction_R.ipynb'\n",
       "7. 'handson_04_dataframe_plots.ipynb'\n",
       "8. 'handson_05_statistics.ipynb'\n",
       "9. 'handson_06_regression.ipynb'\n",
       "10. 'handson_07_regression_ggplot.ipynb'\n",
       "11. 'handson_08_loops_function_programming.ipynb'\n",
       "12. 'handson_09_graph_theory_igraph.ipynb'\n",
       "13. 'images'\n",
       "14. 'others'\n",
       "15. 'pdf'\n",
       "16. 'R'\n",
       "17. 'trash'\n",
       "18. 'Untitled.ipynb'\n",
       "19. 'Untitled1.ipynb'\n",
       "\n",
       "\n"
      ],
      "text/plain": [
       " [1] \"cursor\"                                     \n",
       " [2] \"data\"                                       \n",
       " [3] \"handson_00_jupyter_notebook_and_links.ipynb\"\n",
       " [4] \"handson_01_dir_and_file.ipynb\"              \n",
       " [5] \"handson_02_install_packages.ipynb\"          \n",
       " [6] \"handson_03_introduction_R.ipynb\"            \n",
       " [7] \"handson_04_dataframe_plots.ipynb\"           \n",
       " [8] \"handson_05_statistics.ipynb\"                \n",
       " [9] \"handson_06_regression.ipynb\"                \n",
       "[10] \"handson_07_regression_ggplot.ipynb\"         \n",
       "[11] \"handson_08_loops_function_programming.ipynb\"\n",
       "[12] \"handson_09_graph_theory_igraph.ipynb\"       \n",
       "[13] \"images\"                                     \n",
       "[14] \"others\"                                     \n",
       "[15] \"pdf\"                                        \n",
       "[16] \"R\"                                          \n",
       "[17] \"trash\"                                      \n",
       "[18] \"Untitled.ipynb\"                             \n",
       "[19] \"Untitled1.ipynb\"                            "
      ]
     },
     "metadata": {},
     "output_type": "display_data"
    }
   ],
   "source": [
    "suppressWarnings(dir.create(\"cursor\"))\n",
    "dir()"
   ]
  },
  {
   "cell_type": "markdown",
   "metadata": {},
   "source": [
    "### R & Linux environment\n",
    "\n",
    "Lets look which variables, tables and functions are active in R (global) environment"
   ]
  },
  {
   "cell_type": "code",
   "execution_count": 22,
   "metadata": {},
   "outputs": [
    {
     "data": {
      "text/html": [
       "<ol class=list-inline>\n",
       "\t<li>'a'</li>\n",
       "\t<li>'filename'</li>\n",
       "\t<li>'my.dir'</li>\n",
       "</ol>\n"
      ],
      "text/latex": [
       "\\begin{enumerate*}\n",
       "\\item 'a'\n",
       "\\item 'filename'\n",
       "\\item 'my.dir'\n",
       "\\end{enumerate*}\n"
      ],
      "text/markdown": [
       "1. 'a'\n",
       "2. 'filename'\n",
       "3. 'my.dir'\n",
       "\n",
       "\n"
      ],
      "text/plain": [
       "[1] \"a\"        \"filename\" \"my.dir\"  "
      ]
     },
     "metadata": {},
     "output_type": "display_data"
    }
   ],
   "source": [
    "ls()"
   ]
  },
  {
   "cell_type": "code",
   "execution_count": 26,
   "metadata": {},
   "outputs": [
    {
     "name": "stdout",
     "output_type": "stream",
     "text": [
      "[1] 3\n",
      "[1] 9\n",
      "[1] 25\n"
     ]
    }
   ],
   "source": [
    "a = 3\n",
    "print(a)\n",
    "print(a**2)\n",
    "print(a**3-2)"
   ]
  },
  {
   "cell_type": "code",
   "execution_count": 27,
   "metadata": {},
   "outputs": [
    {
     "data": {
      "text/html": [
       "<ol class=list-inline>\n",
       "\t<li>'a'</li>\n",
       "\t<li>'filename'</li>\n",
       "\t<li>'my.dir'</li>\n",
       "</ol>\n"
      ],
      "text/latex": [
       "\\begin{enumerate*}\n",
       "\\item 'a'\n",
       "\\item 'filename'\n",
       "\\item 'my.dir'\n",
       "\\end{enumerate*}\n"
      ],
      "text/markdown": [
       "1. 'a'\n",
       "2. 'filename'\n",
       "3. 'my.dir'\n",
       "\n",
       "\n"
      ],
      "text/plain": [
       "[1] \"a\"        \"filename\" \"my.dir\"  "
      ]
     },
     "metadata": {},
     "output_type": "display_data"
    }
   ],
   "source": [
    "ls()"
   ]
  },
  {
   "cell_type": "markdown",
   "metadata": {},
   "source": [
    "### You can clean all your environment"
   ]
  },
  {
   "cell_type": "code",
   "execution_count": 29,
   "metadata": {},
   "outputs": [
    {
     "data": {
      "text/html": [],
      "text/latex": [],
      "text/markdown": [],
      "text/plain": [
       "character(0)"
      ]
     },
     "metadata": {},
     "output_type": "display_data"
    }
   ],
   "source": [
    "#-- remove (rm) all variables -> list of variables --> ls()\n",
    "rm(list=ls())\n",
    "ls()"
   ]
  },
  {
   "cell_type": "code",
   "execution_count": 31,
   "metadata": {},
   "outputs": [
    {
     "ename": "ERROR",
     "evalue": "Error in eval(expr, envir, enclos): object 'a' not found\n",
     "output_type": "error",
     "traceback": [
      "Error in eval(expr, envir, enclos): object 'a' not found\nTraceback:\n"
     ]
    }
   ],
   "source": [
    "# I have just removed all variables -- therefore error!\n",
    "a"
   ]
  },
  {
   "cell_type": "markdown",
   "metadata": {},
   "source": [
    "### Where is R and its libraries installed?"
   ]
  },
  {
   "cell_type": "code",
   "execution_count": 32,
   "metadata": {},
   "outputs": [
    {
     "data": {
      "text/html": [
       "'/home/flalix/anaconda3/envs/study/lib/R/library'"
      ],
      "text/latex": [
       "'/home/flalix/anaconda3/envs/study/lib/R/library'"
      ],
      "text/markdown": [
       "'/home/flalix/anaconda3/envs/study/lib/R/library'"
      ],
      "text/plain": [
       "[1] \"/home/flalix/anaconda3/envs/study/lib/R/library\""
      ]
     },
     "metadata": {},
     "output_type": "display_data"
    }
   ],
   "source": [
    ".libPaths()"
   ]
  },
  {
   "cell_type": "code",
   "execution_count": 33,
   "metadata": {},
   "outputs": [
    {
     "data": {
      "text/plain": [
       "               _                           \n",
       "platform       x86_64-pc-linux-gnu         \n",
       "arch           x86_64                      \n",
       "os             linux-gnu                   \n",
       "system         x86_64, linux-gnu           \n",
       "status                                     \n",
       "major          3                           \n",
       "minor          5.1                         \n",
       "year           2018                        \n",
       "month          07                          \n",
       "day            02                          \n",
       "svn rev        74947                       \n",
       "language       R                           \n",
       "version.string R version 3.5.1 (2018-07-02)\n",
       "nickname       Feather Spray               "
      ]
     },
     "metadata": {},
     "output_type": "display_data"
    }
   ],
   "source": [
    "R.version"
   ]
  },
  {
   "cell_type": "markdown",
   "metadata": {},
   "source": [
    "### Is very usefull to know versions and parameteres when an error occurs!"
   ]
  },
  {
   "cell_type": "code",
   "execution_count": 34,
   "metadata": {},
   "outputs": [
    {
     "data": {
      "text/plain": [
       "R version 3.5.1 (2018-07-02)\n",
       "Platform: x86_64-pc-linux-gnu (64-bit)\n",
       "Running under: Linux Mint 19\n",
       "\n",
       "Matrix products: default\n",
       "BLAS: /home/flalix/anaconda3/envs/study/lib/R/lib/libRblas.so\n",
       "LAPACK: /home/flalix/anaconda3/envs/study/lib/R/lib/libRlapack.so\n",
       "\n",
       "locale:\n",
       " [1] LC_CTYPE=en_US.UTF-8       LC_NUMERIC=C              \n",
       " [3] LC_TIME=en_US.UTF-8        LC_COLLATE=en_US.UTF-8    \n",
       " [5] LC_MONETARY=pt_BR.UTF-8    LC_MESSAGES=en_US.UTF-8   \n",
       " [7] LC_PAPER=pt_BR.UTF-8       LC_NAME=C                 \n",
       " [9] LC_ADDRESS=C               LC_TELEPHONE=C            \n",
       "[11] LC_MEASUREMENT=pt_BR.UTF-8 LC_IDENTIFICATION=C       \n",
       "\n",
       "attached base packages:\n",
       "[1] stats     graphics  grDevices utils     datasets  methods   base     \n",
       "\n",
       "other attached packages:\n",
       "[1] RevoUtils_11.0.1     RevoUtilsMath_11.0.0\n",
       "\n",
       "loaded via a namespace (and not attached):\n",
       " [1] Rcpp_0.12.18    digest_0.6.15   crayon_1.3.4    IRdisplay_0.5.0\n",
       " [5] repr_0.15.0     jsonlite_1.5    magrittr_1.5    evaluate_0.11  \n",
       " [9] stringi_1.2.4   uuid_0.1-2      IRkernel_0.8.11 tools_3.5.1    \n",
       "[13] stringr_1.3.1   compiler_3.5.1  base64enc_0.1-3 pbdZMQ_0.3-3   \n",
       "[17] htmltools_0.3.6"
      ]
     },
     "metadata": {},
     "output_type": "display_data"
    }
   ],
   "source": [
    "sessionInfo()"
   ]
  },
  {
   "cell_type": "markdown",
   "metadata": {},
   "source": [
    "### I can call external programs, but I must know the external (Linux) environment PATH"
   ]
  },
  {
   "cell_type": "code",
   "execution_count": 35,
   "metadata": {},
   "outputs": [
    {
     "data": {
      "text/html": [
       "'/home/flalix/anaconda3/envs/study/bin:/home/flalix/anaconda3/envs/study/bin:/home/flalix/anaconda3/condabin:/home/flalix/anaconda3/bin:/usr/local/sbin:/usr/local/bin:/usr/sbin:/usr/bin:/sbin:/bin:/usr/games:/usr/local/games'"
      ],
      "text/latex": [
       "'/home/flalix/anaconda3/envs/study/bin:/home/flalix/anaconda3/envs/study/bin:/home/flalix/anaconda3/condabin:/home/flalix/anaconda3/bin:/usr/local/sbin:/usr/local/bin:/usr/sbin:/usr/bin:/sbin:/bin:/usr/games:/usr/local/games'"
      ],
      "text/markdown": [
       "'/home/flalix/anaconda3/envs/study/bin:/home/flalix/anaconda3/envs/study/bin:/home/flalix/anaconda3/condabin:/home/flalix/anaconda3/bin:/usr/local/sbin:/usr/local/bin:/usr/sbin:/usr/bin:/sbin:/bin:/usr/games:/usr/local/games'"
      ],
      "text/plain": [
       "[1] \"/home/flalix/anaconda3/envs/study/bin:/home/flalix/anaconda3/envs/study/bin:/home/flalix/anaconda3/condabin:/home/flalix/anaconda3/bin:/usr/local/sbin:/usr/local/bin:/usr/sbin:/usr/bin:/sbin:/bin:/usr/games:/usr/local/games\""
      ]
     },
     "metadata": {},
     "output_type": "display_data"
    }
   ],
   "source": [
    "Sys.getenv(\"PATH\")"
   ]
  },
  {
   "cell_type": "markdown",
   "metadata": {},
   "source": [
    "**and even, I can change the PATH**  "
   ]
  },
  {
   "cell_type": "code",
   "execution_count": 20,
   "metadata": {},
   "outputs": [],
   "source": [
    "Sys.setenv(\"PATH\" = paste(Sys.getenv(\"PATH\"), \"~/Downloads\", sep=\":\"))"
   ]
  },
  {
   "cell_type": "code",
   "execution_count": 21,
   "metadata": {},
   "outputs": [
    {
     "data": {
      "text/html": [
       "'/home/flalix/anaconda3/envs/study/bin:/home/flalix/anaconda3/envs/study/bin:/home/flalix/anaconda3/condabin:/home/flalix/anaconda3/bin:/usr/local/sbin:/usr/local/bin:/usr/sbin:/usr/bin:/sbin:/bin:/usr/games:/usr/local/games:~/Downloads'"
      ],
      "text/latex": [
       "'/home/flalix/anaconda3/envs/study/bin:/home/flalix/anaconda3/envs/study/bin:/home/flalix/anaconda3/condabin:/home/flalix/anaconda3/bin:/usr/local/sbin:/usr/local/bin:/usr/sbin:/usr/bin:/sbin:/bin:/usr/games:/usr/local/games:\\textasciitilde{}/Downloads'"
      ],
      "text/markdown": [
       "'/home/flalix/anaconda3/envs/study/bin:/home/flalix/anaconda3/envs/study/bin:/home/flalix/anaconda3/condabin:/home/flalix/anaconda3/bin:/usr/local/sbin:/usr/local/bin:/usr/sbin:/usr/bin:/sbin:/bin:/usr/games:/usr/local/games:~/Downloads'"
      ],
      "text/plain": [
       "[1] \"/home/flalix/anaconda3/envs/study/bin:/home/flalix/anaconda3/envs/study/bin:/home/flalix/anaconda3/condabin:/home/flalix/anaconda3/bin:/usr/local/sbin:/usr/local/bin:/usr/sbin:/usr/bin:/sbin:/bin:/usr/games:/usr/local/games:~/Downloads\""
      ]
     },
     "metadata": {},
     "output_type": "display_data"
    }
   ],
   "source": [
    "Sys.getenv(\"PATH\")"
   ]
  },
  {
   "cell_type": "markdown",
   "metadata": {},
   "source": [
    "### Markdown language\n",
    "\n",
    "[markdown](https://help.github.com/articles/basic-writing-and-formatting-syntax/#links)"
   ]
  },
  {
   "cell_type": "markdown",
   "metadata": {},
   "source": [
    "or\n",
    "\n",
    "[another site](https://guides.github.com/features/mastering-markdown/)"
   ]
  },
  {
   "cell_type": "code",
   "execution_count": 22,
   "metadata": {},
   "outputs": [],
   "source": [
    "### internal table: mtcars"
   ]
  },
  {
   "cell_type": "code",
   "execution_count": 23,
   "metadata": {},
   "outputs": [],
   "source": [
    "?mtcars"
   ]
  },
  {
   "cell_type": "code",
   "execution_count": 36,
   "metadata": {},
   "outputs": [
    {
     "data": {
      "text/html": [
       "<table>\n",
       "<thead><tr><th></th><th scope=col>mpg</th><th scope=col>cyl</th><th scope=col>disp</th><th scope=col>hp</th><th scope=col>drat</th><th scope=col>wt</th><th scope=col>qsec</th><th scope=col>vs</th><th scope=col>am</th><th scope=col>gear</th><th scope=col>carb</th></tr></thead>\n",
       "<tbody>\n",
       "\t<tr><th scope=row>Mazda RX4</th><td>21.0 </td><td>6    </td><td>160.0</td><td>110  </td><td>3.90 </td><td>2.620</td><td>16.46</td><td>0    </td><td>1    </td><td>4    </td><td>4    </td></tr>\n",
       "\t<tr><th scope=row>Mazda RX4 Wag</th><td>21.0 </td><td>6    </td><td>160.0</td><td>110  </td><td>3.90 </td><td>2.875</td><td>17.02</td><td>0    </td><td>1    </td><td>4    </td><td>4    </td></tr>\n",
       "\t<tr><th scope=row>Datsun 710</th><td>22.8 </td><td>4    </td><td>108.0</td><td> 93  </td><td>3.85 </td><td>2.320</td><td>18.61</td><td>1    </td><td>1    </td><td>4    </td><td>1    </td></tr>\n",
       "\t<tr><th scope=row>Hornet 4 Drive</th><td>21.4 </td><td>6    </td><td>258.0</td><td>110  </td><td>3.08 </td><td>3.215</td><td>19.44</td><td>1    </td><td>0    </td><td>3    </td><td>1    </td></tr>\n",
       "\t<tr><th scope=row>Hornet Sportabout</th><td>18.7 </td><td>8    </td><td>360.0</td><td>175  </td><td>3.15 </td><td>3.440</td><td>17.02</td><td>0    </td><td>0    </td><td>3    </td><td>2    </td></tr>\n",
       "\t<tr><th scope=row>Valiant</th><td>18.1 </td><td>6    </td><td>225.0</td><td>105  </td><td>2.76 </td><td>3.460</td><td>20.22</td><td>1    </td><td>0    </td><td>3    </td><td>1    </td></tr>\n",
       "\t<tr><th scope=row>Duster 360</th><td>14.3 </td><td>8    </td><td>360.0</td><td>245  </td><td>3.21 </td><td>3.570</td><td>15.84</td><td>0    </td><td>0    </td><td>3    </td><td>4    </td></tr>\n",
       "\t<tr><th scope=row>Merc 240D</th><td>24.4 </td><td>4    </td><td>146.7</td><td> 62  </td><td>3.69 </td><td>3.190</td><td>20.00</td><td>1    </td><td>0    </td><td>4    </td><td>2    </td></tr>\n",
       "\t<tr><th scope=row>Merc 230</th><td>22.8 </td><td>4    </td><td>140.8</td><td> 95  </td><td>3.92 </td><td>3.150</td><td>22.90</td><td>1    </td><td>0    </td><td>4    </td><td>2    </td></tr>\n",
       "\t<tr><th scope=row>Merc 280</th><td>19.2 </td><td>6    </td><td>167.6</td><td>123  </td><td>3.92 </td><td>3.440</td><td>18.30</td><td>1    </td><td>0    </td><td>4    </td><td>4    </td></tr>\n",
       "\t<tr><th scope=row>Merc 280C</th><td>17.8 </td><td>6    </td><td>167.6</td><td>123  </td><td>3.92 </td><td>3.440</td><td>18.90</td><td>1    </td><td>0    </td><td>4    </td><td>4    </td></tr>\n",
       "\t<tr><th scope=row>Merc 450SE</th><td>16.4 </td><td>8    </td><td>275.8</td><td>180  </td><td>3.07 </td><td>4.070</td><td>17.40</td><td>0    </td><td>0    </td><td>3    </td><td>3    </td></tr>\n",
       "\t<tr><th scope=row>Merc 450SL</th><td>17.3 </td><td>8    </td><td>275.8</td><td>180  </td><td>3.07 </td><td>3.730</td><td>17.60</td><td>0    </td><td>0    </td><td>3    </td><td>3    </td></tr>\n",
       "\t<tr><th scope=row>Merc 450SLC</th><td>15.2 </td><td>8    </td><td>275.8</td><td>180  </td><td>3.07 </td><td>3.780</td><td>18.00</td><td>0    </td><td>0    </td><td>3    </td><td>3    </td></tr>\n",
       "\t<tr><th scope=row>Cadillac Fleetwood</th><td>10.4 </td><td>8    </td><td>472.0</td><td>205  </td><td>2.93 </td><td>5.250</td><td>17.98</td><td>0    </td><td>0    </td><td>3    </td><td>4    </td></tr>\n",
       "\t<tr><th scope=row>Lincoln Continental</th><td>10.4 </td><td>8    </td><td>460.0</td><td>215  </td><td>3.00 </td><td>5.424</td><td>17.82</td><td>0    </td><td>0    </td><td>3    </td><td>4    </td></tr>\n",
       "\t<tr><th scope=row>Chrysler Imperial</th><td>14.7 </td><td>8    </td><td>440.0</td><td>230  </td><td>3.23 </td><td>5.345</td><td>17.42</td><td>0    </td><td>0    </td><td>3    </td><td>4    </td></tr>\n",
       "\t<tr><th scope=row>Fiat 128</th><td>32.4 </td><td>4    </td><td> 78.7</td><td> 66  </td><td>4.08 </td><td>2.200</td><td>19.47</td><td>1    </td><td>1    </td><td>4    </td><td>1    </td></tr>\n",
       "\t<tr><th scope=row>Honda Civic</th><td>30.4 </td><td>4    </td><td> 75.7</td><td> 52  </td><td>4.93 </td><td>1.615</td><td>18.52</td><td>1    </td><td>1    </td><td>4    </td><td>2    </td></tr>\n",
       "\t<tr><th scope=row>Toyota Corolla</th><td>33.9 </td><td>4    </td><td> 71.1</td><td> 65  </td><td>4.22 </td><td>1.835</td><td>19.90</td><td>1    </td><td>1    </td><td>4    </td><td>1    </td></tr>\n",
       "\t<tr><th scope=row>Toyota Corona</th><td>21.5 </td><td>4    </td><td>120.1</td><td> 97  </td><td>3.70 </td><td>2.465</td><td>20.01</td><td>1    </td><td>0    </td><td>3    </td><td>1    </td></tr>\n",
       "\t<tr><th scope=row>Dodge Challenger</th><td>15.5 </td><td>8    </td><td>318.0</td><td>150  </td><td>2.76 </td><td>3.520</td><td>16.87</td><td>0    </td><td>0    </td><td>3    </td><td>2    </td></tr>\n",
       "\t<tr><th scope=row>AMC Javelin</th><td>15.2 </td><td>8    </td><td>304.0</td><td>150  </td><td>3.15 </td><td>3.435</td><td>17.30</td><td>0    </td><td>0    </td><td>3    </td><td>2    </td></tr>\n",
       "\t<tr><th scope=row>Camaro Z28</th><td>13.3 </td><td>8    </td><td>350.0</td><td>245  </td><td>3.73 </td><td>3.840</td><td>15.41</td><td>0    </td><td>0    </td><td>3    </td><td>4    </td></tr>\n",
       "\t<tr><th scope=row>Pontiac Firebird</th><td>19.2 </td><td>8    </td><td>400.0</td><td>175  </td><td>3.08 </td><td>3.845</td><td>17.05</td><td>0    </td><td>0    </td><td>3    </td><td>2    </td></tr>\n",
       "\t<tr><th scope=row>Fiat X1-9</th><td>27.3 </td><td>4    </td><td> 79.0</td><td> 66  </td><td>4.08 </td><td>1.935</td><td>18.90</td><td>1    </td><td>1    </td><td>4    </td><td>1    </td></tr>\n",
       "\t<tr><th scope=row>Porsche 914-2</th><td>26.0 </td><td>4    </td><td>120.3</td><td> 91  </td><td>4.43 </td><td>2.140</td><td>16.70</td><td>0    </td><td>1    </td><td>5    </td><td>2    </td></tr>\n",
       "\t<tr><th scope=row>Lotus Europa</th><td>30.4 </td><td>4    </td><td> 95.1</td><td>113  </td><td>3.77 </td><td>1.513</td><td>16.90</td><td>1    </td><td>1    </td><td>5    </td><td>2    </td></tr>\n",
       "\t<tr><th scope=row>Ford Pantera L</th><td>15.8 </td><td>8    </td><td>351.0</td><td>264  </td><td>4.22 </td><td>3.170</td><td>14.50</td><td>0    </td><td>1    </td><td>5    </td><td>4    </td></tr>\n",
       "\t<tr><th scope=row>Ferrari Dino</th><td>19.7 </td><td>6    </td><td>145.0</td><td>175  </td><td>3.62 </td><td>2.770</td><td>15.50</td><td>0    </td><td>1    </td><td>5    </td><td>6    </td></tr>\n",
       "\t<tr><th scope=row>Maserati Bora</th><td>15.0 </td><td>8    </td><td>301.0</td><td>335  </td><td>3.54 </td><td>3.570</td><td>14.60</td><td>0    </td><td>1    </td><td>5    </td><td>8    </td></tr>\n",
       "\t<tr><th scope=row>Volvo 142E</th><td>21.4 </td><td>4    </td><td>121.0</td><td>109  </td><td>4.11 </td><td>2.780</td><td>18.60</td><td>1    </td><td>1    </td><td>4    </td><td>2    </td></tr>\n",
       "</tbody>\n",
       "</table>\n"
      ],
      "text/latex": [
       "\\begin{tabular}{r|lllllllllll}\n",
       "  & mpg & cyl & disp & hp & drat & wt & qsec & vs & am & gear & carb\\\\\n",
       "\\hline\n",
       "\tMazda RX4 & 21.0  & 6     & 160.0 & 110   & 3.90  & 2.620 & 16.46 & 0     & 1     & 4     & 4    \\\\\n",
       "\tMazda RX4 Wag & 21.0  & 6     & 160.0 & 110   & 3.90  & 2.875 & 17.02 & 0     & 1     & 4     & 4    \\\\\n",
       "\tDatsun 710 & 22.8  & 4     & 108.0 &  93   & 3.85  & 2.320 & 18.61 & 1     & 1     & 4     & 1    \\\\\n",
       "\tHornet 4 Drive & 21.4  & 6     & 258.0 & 110   & 3.08  & 3.215 & 19.44 & 1     & 0     & 3     & 1    \\\\\n",
       "\tHornet Sportabout & 18.7  & 8     & 360.0 & 175   & 3.15  & 3.440 & 17.02 & 0     & 0     & 3     & 2    \\\\\n",
       "\tValiant & 18.1  & 6     & 225.0 & 105   & 2.76  & 3.460 & 20.22 & 1     & 0     & 3     & 1    \\\\\n",
       "\tDuster 360 & 14.3  & 8     & 360.0 & 245   & 3.21  & 3.570 & 15.84 & 0     & 0     & 3     & 4    \\\\\n",
       "\tMerc 240D & 24.4  & 4     & 146.7 &  62   & 3.69  & 3.190 & 20.00 & 1     & 0     & 4     & 2    \\\\\n",
       "\tMerc 230 & 22.8  & 4     & 140.8 &  95   & 3.92  & 3.150 & 22.90 & 1     & 0     & 4     & 2    \\\\\n",
       "\tMerc 280 & 19.2  & 6     & 167.6 & 123   & 3.92  & 3.440 & 18.30 & 1     & 0     & 4     & 4    \\\\\n",
       "\tMerc 280C & 17.8  & 6     & 167.6 & 123   & 3.92  & 3.440 & 18.90 & 1     & 0     & 4     & 4    \\\\\n",
       "\tMerc 450SE & 16.4  & 8     & 275.8 & 180   & 3.07  & 4.070 & 17.40 & 0     & 0     & 3     & 3    \\\\\n",
       "\tMerc 450SL & 17.3  & 8     & 275.8 & 180   & 3.07  & 3.730 & 17.60 & 0     & 0     & 3     & 3    \\\\\n",
       "\tMerc 450SLC & 15.2  & 8     & 275.8 & 180   & 3.07  & 3.780 & 18.00 & 0     & 0     & 3     & 3    \\\\\n",
       "\tCadillac Fleetwood & 10.4  & 8     & 472.0 & 205   & 2.93  & 5.250 & 17.98 & 0     & 0     & 3     & 4    \\\\\n",
       "\tLincoln Continental & 10.4  & 8     & 460.0 & 215   & 3.00  & 5.424 & 17.82 & 0     & 0     & 3     & 4    \\\\\n",
       "\tChrysler Imperial & 14.7  & 8     & 440.0 & 230   & 3.23  & 5.345 & 17.42 & 0     & 0     & 3     & 4    \\\\\n",
       "\tFiat 128 & 32.4  & 4     &  78.7 &  66   & 4.08  & 2.200 & 19.47 & 1     & 1     & 4     & 1    \\\\\n",
       "\tHonda Civic & 30.4  & 4     &  75.7 &  52   & 4.93  & 1.615 & 18.52 & 1     & 1     & 4     & 2    \\\\\n",
       "\tToyota Corolla & 33.9  & 4     &  71.1 &  65   & 4.22  & 1.835 & 19.90 & 1     & 1     & 4     & 1    \\\\\n",
       "\tToyota Corona & 21.5  & 4     & 120.1 &  97   & 3.70  & 2.465 & 20.01 & 1     & 0     & 3     & 1    \\\\\n",
       "\tDodge Challenger & 15.5  & 8     & 318.0 & 150   & 2.76  & 3.520 & 16.87 & 0     & 0     & 3     & 2    \\\\\n",
       "\tAMC Javelin & 15.2  & 8     & 304.0 & 150   & 3.15  & 3.435 & 17.30 & 0     & 0     & 3     & 2    \\\\\n",
       "\tCamaro Z28 & 13.3  & 8     & 350.0 & 245   & 3.73  & 3.840 & 15.41 & 0     & 0     & 3     & 4    \\\\\n",
       "\tPontiac Firebird & 19.2  & 8     & 400.0 & 175   & 3.08  & 3.845 & 17.05 & 0     & 0     & 3     & 2    \\\\\n",
       "\tFiat X1-9 & 27.3  & 4     &  79.0 &  66   & 4.08  & 1.935 & 18.90 & 1     & 1     & 4     & 1    \\\\\n",
       "\tPorsche 914-2 & 26.0  & 4     & 120.3 &  91   & 4.43  & 2.140 & 16.70 & 0     & 1     & 5     & 2    \\\\\n",
       "\tLotus Europa & 30.4  & 4     &  95.1 & 113   & 3.77  & 1.513 & 16.90 & 1     & 1     & 5     & 2    \\\\\n",
       "\tFord Pantera L & 15.8  & 8     & 351.0 & 264   & 4.22  & 3.170 & 14.50 & 0     & 1     & 5     & 4    \\\\\n",
       "\tFerrari Dino & 19.7  & 6     & 145.0 & 175   & 3.62  & 2.770 & 15.50 & 0     & 1     & 5     & 6    \\\\\n",
       "\tMaserati Bora & 15.0  & 8     & 301.0 & 335   & 3.54  & 3.570 & 14.60 & 0     & 1     & 5     & 8    \\\\\n",
       "\tVolvo 142E & 21.4  & 4     & 121.0 & 109   & 4.11  & 2.780 & 18.60 & 1     & 1     & 4     & 2    \\\\\n",
       "\\end{tabular}\n"
      ],
      "text/markdown": [
       "\n",
       "| <!--/--> | mpg | cyl | disp | hp | drat | wt | qsec | vs | am | gear | carb | \n",
       "|---|---|---|---|---|---|---|---|---|---|---|---|---|---|---|---|---|---|---|---|---|---|---|---|---|---|---|---|---|---|---|---|\n",
       "| Mazda RX4 | 21.0  | 6     | 160.0 | 110   | 3.90  | 2.620 | 16.46 | 0     | 1     | 4     | 4     | \n",
       "| Mazda RX4 Wag | 21.0  | 6     | 160.0 | 110   | 3.90  | 2.875 | 17.02 | 0     | 1     | 4     | 4     | \n",
       "| Datsun 710 | 22.8  | 4     | 108.0 |  93   | 3.85  | 2.320 | 18.61 | 1     | 1     | 4     | 1     | \n",
       "| Hornet 4 Drive | 21.4  | 6     | 258.0 | 110   | 3.08  | 3.215 | 19.44 | 1     | 0     | 3     | 1     | \n",
       "| Hornet Sportabout | 18.7  | 8     | 360.0 | 175   | 3.15  | 3.440 | 17.02 | 0     | 0     | 3     | 2     | \n",
       "| Valiant | 18.1  | 6     | 225.0 | 105   | 2.76  | 3.460 | 20.22 | 1     | 0     | 3     | 1     | \n",
       "| Duster 360 | 14.3  | 8     | 360.0 | 245   | 3.21  | 3.570 | 15.84 | 0     | 0     | 3     | 4     | \n",
       "| Merc 240D | 24.4  | 4     | 146.7 |  62   | 3.69  | 3.190 | 20.00 | 1     | 0     | 4     | 2     | \n",
       "| Merc 230 | 22.8  | 4     | 140.8 |  95   | 3.92  | 3.150 | 22.90 | 1     | 0     | 4     | 2     | \n",
       "| Merc 280 | 19.2  | 6     | 167.6 | 123   | 3.92  | 3.440 | 18.30 | 1     | 0     | 4     | 4     | \n",
       "| Merc 280C | 17.8  | 6     | 167.6 | 123   | 3.92  | 3.440 | 18.90 | 1     | 0     | 4     | 4     | \n",
       "| Merc 450SE | 16.4  | 8     | 275.8 | 180   | 3.07  | 4.070 | 17.40 | 0     | 0     | 3     | 3     | \n",
       "| Merc 450SL | 17.3  | 8     | 275.8 | 180   | 3.07  | 3.730 | 17.60 | 0     | 0     | 3     | 3     | \n",
       "| Merc 450SLC | 15.2  | 8     | 275.8 | 180   | 3.07  | 3.780 | 18.00 | 0     | 0     | 3     | 3     | \n",
       "| Cadillac Fleetwood | 10.4  | 8     | 472.0 | 205   | 2.93  | 5.250 | 17.98 | 0     | 0     | 3     | 4     | \n",
       "| Lincoln Continental | 10.4  | 8     | 460.0 | 215   | 3.00  | 5.424 | 17.82 | 0     | 0     | 3     | 4     | \n",
       "| Chrysler Imperial | 14.7  | 8     | 440.0 | 230   | 3.23  | 5.345 | 17.42 | 0     | 0     | 3     | 4     | \n",
       "| Fiat 128 | 32.4  | 4     |  78.7 |  66   | 4.08  | 2.200 | 19.47 | 1     | 1     | 4     | 1     | \n",
       "| Honda Civic | 30.4  | 4     |  75.7 |  52   | 4.93  | 1.615 | 18.52 | 1     | 1     | 4     | 2     | \n",
       "| Toyota Corolla | 33.9  | 4     |  71.1 |  65   | 4.22  | 1.835 | 19.90 | 1     | 1     | 4     | 1     | \n",
       "| Toyota Corona | 21.5  | 4     | 120.1 |  97   | 3.70  | 2.465 | 20.01 | 1     | 0     | 3     | 1     | \n",
       "| Dodge Challenger | 15.5  | 8     | 318.0 | 150   | 2.76  | 3.520 | 16.87 | 0     | 0     | 3     | 2     | \n",
       "| AMC Javelin | 15.2  | 8     | 304.0 | 150   | 3.15  | 3.435 | 17.30 | 0     | 0     | 3     | 2     | \n",
       "| Camaro Z28 | 13.3  | 8     | 350.0 | 245   | 3.73  | 3.840 | 15.41 | 0     | 0     | 3     | 4     | \n",
       "| Pontiac Firebird | 19.2  | 8     | 400.0 | 175   | 3.08  | 3.845 | 17.05 | 0     | 0     | 3     | 2     | \n",
       "| Fiat X1-9 | 27.3  | 4     |  79.0 |  66   | 4.08  | 1.935 | 18.90 | 1     | 1     | 4     | 1     | \n",
       "| Porsche 914-2 | 26.0  | 4     | 120.3 |  91   | 4.43  | 2.140 | 16.70 | 0     | 1     | 5     | 2     | \n",
       "| Lotus Europa | 30.4  | 4     |  95.1 | 113   | 3.77  | 1.513 | 16.90 | 1     | 1     | 5     | 2     | \n",
       "| Ford Pantera L | 15.8  | 8     | 351.0 | 264   | 4.22  | 3.170 | 14.50 | 0     | 1     | 5     | 4     | \n",
       "| Ferrari Dino | 19.7  | 6     | 145.0 | 175   | 3.62  | 2.770 | 15.50 | 0     | 1     | 5     | 6     | \n",
       "| Maserati Bora | 15.0  | 8     | 301.0 | 335   | 3.54  | 3.570 | 14.60 | 0     | 1     | 5     | 8     | \n",
       "| Volvo 142E | 21.4  | 4     | 121.0 | 109   | 4.11  | 2.780 | 18.60 | 1     | 1     | 4     | 2     | \n",
       "\n",
       "\n"
      ],
      "text/plain": [
       "                    mpg  cyl disp  hp  drat wt    qsec  vs am gear carb\n",
       "Mazda RX4           21.0 6   160.0 110 3.90 2.620 16.46 0  1  4    4   \n",
       "Mazda RX4 Wag       21.0 6   160.0 110 3.90 2.875 17.02 0  1  4    4   \n",
       "Datsun 710          22.8 4   108.0  93 3.85 2.320 18.61 1  1  4    1   \n",
       "Hornet 4 Drive      21.4 6   258.0 110 3.08 3.215 19.44 1  0  3    1   \n",
       "Hornet Sportabout   18.7 8   360.0 175 3.15 3.440 17.02 0  0  3    2   \n",
       "Valiant             18.1 6   225.0 105 2.76 3.460 20.22 1  0  3    1   \n",
       "Duster 360          14.3 8   360.0 245 3.21 3.570 15.84 0  0  3    4   \n",
       "Merc 240D           24.4 4   146.7  62 3.69 3.190 20.00 1  0  4    2   \n",
       "Merc 230            22.8 4   140.8  95 3.92 3.150 22.90 1  0  4    2   \n",
       "Merc 280            19.2 6   167.6 123 3.92 3.440 18.30 1  0  4    4   \n",
       "Merc 280C           17.8 6   167.6 123 3.92 3.440 18.90 1  0  4    4   \n",
       "Merc 450SE          16.4 8   275.8 180 3.07 4.070 17.40 0  0  3    3   \n",
       "Merc 450SL          17.3 8   275.8 180 3.07 3.730 17.60 0  0  3    3   \n",
       "Merc 450SLC         15.2 8   275.8 180 3.07 3.780 18.00 0  0  3    3   \n",
       "Cadillac Fleetwood  10.4 8   472.0 205 2.93 5.250 17.98 0  0  3    4   \n",
       "Lincoln Continental 10.4 8   460.0 215 3.00 5.424 17.82 0  0  3    4   \n",
       "Chrysler Imperial   14.7 8   440.0 230 3.23 5.345 17.42 0  0  3    4   \n",
       "Fiat 128            32.4 4    78.7  66 4.08 2.200 19.47 1  1  4    1   \n",
       "Honda Civic         30.4 4    75.7  52 4.93 1.615 18.52 1  1  4    2   \n",
       "Toyota Corolla      33.9 4    71.1  65 4.22 1.835 19.90 1  1  4    1   \n",
       "Toyota Corona       21.5 4   120.1  97 3.70 2.465 20.01 1  0  3    1   \n",
       "Dodge Challenger    15.5 8   318.0 150 2.76 3.520 16.87 0  0  3    2   \n",
       "AMC Javelin         15.2 8   304.0 150 3.15 3.435 17.30 0  0  3    2   \n",
       "Camaro Z28          13.3 8   350.0 245 3.73 3.840 15.41 0  0  3    4   \n",
       "Pontiac Firebird    19.2 8   400.0 175 3.08 3.845 17.05 0  0  3    2   \n",
       "Fiat X1-9           27.3 4    79.0  66 4.08 1.935 18.90 1  1  4    1   \n",
       "Porsche 914-2       26.0 4   120.3  91 4.43 2.140 16.70 0  1  5    2   \n",
       "Lotus Europa        30.4 4    95.1 113 3.77 1.513 16.90 1  1  5    2   \n",
       "Ford Pantera L      15.8 8   351.0 264 4.22 3.170 14.50 0  1  5    4   \n",
       "Ferrari Dino        19.7 6   145.0 175 3.62 2.770 15.50 0  1  5    6   \n",
       "Maserati Bora       15.0 8   301.0 335 3.54 3.570 14.60 0  1  5    8   \n",
       "Volvo 142E          21.4 4   121.0 109 4.11 2.780 18.60 1  1  4    2   "
      ]
     },
     "metadata": {},
     "output_type": "display_data"
    }
   ],
   "source": [
    "mtcars"
   ]
  },
  {
   "cell_type": "code",
   "execution_count": 38,
   "metadata": {},
   "outputs": [
    {
     "data": {
      "text/html": [
       "<table>\n",
       "<thead><tr><th></th><th scope=col>mpg</th><th scope=col>cyl</th><th scope=col>disp</th><th scope=col>hp</th><th scope=col>drat</th><th scope=col>wt</th><th scope=col>qsec</th><th scope=col>vs</th><th scope=col>am</th><th scope=col>gear</th><th scope=col>carb</th></tr></thead>\n",
       "<tbody>\n",
       "\t<tr><th scope=row>Mazda RX4</th><td>21.0 </td><td>6    </td><td>160  </td><td>110  </td><td>3.90 </td><td>2.620</td><td>16.46</td><td>0    </td><td>1    </td><td>4    </td><td>4    </td></tr>\n",
       "\t<tr><th scope=row>Mazda RX4 Wag</th><td>21.0 </td><td>6    </td><td>160  </td><td>110  </td><td>3.90 </td><td>2.875</td><td>17.02</td><td>0    </td><td>1    </td><td>4    </td><td>4    </td></tr>\n",
       "\t<tr><th scope=row>Datsun 710</th><td>22.8 </td><td>4    </td><td>108  </td><td> 93  </td><td>3.85 </td><td>2.320</td><td>18.61</td><td>1    </td><td>1    </td><td>4    </td><td>1    </td></tr>\n",
       "\t<tr><th scope=row>Hornet 4 Drive</th><td>21.4 </td><td>6    </td><td>258  </td><td>110  </td><td>3.08 </td><td>3.215</td><td>19.44</td><td>1    </td><td>0    </td><td>3    </td><td>1    </td></tr>\n",
       "\t<tr><th scope=row>Hornet Sportabout</th><td>18.7 </td><td>8    </td><td>360  </td><td>175  </td><td>3.15 </td><td>3.440</td><td>17.02</td><td>0    </td><td>0    </td><td>3    </td><td>2    </td></tr>\n",
       "\t<tr><th scope=row>Valiant</th><td>18.1 </td><td>6    </td><td>225  </td><td>105  </td><td>2.76 </td><td>3.460</td><td>20.22</td><td>1    </td><td>0    </td><td>3    </td><td>1    </td></tr>\n",
       "</tbody>\n",
       "</table>\n"
      ],
      "text/latex": [
       "\\begin{tabular}{r|lllllllllll}\n",
       "  & mpg & cyl & disp & hp & drat & wt & qsec & vs & am & gear & carb\\\\\n",
       "\\hline\n",
       "\tMazda RX4 & 21.0  & 6     & 160   & 110   & 3.90  & 2.620 & 16.46 & 0     & 1     & 4     & 4    \\\\\n",
       "\tMazda RX4 Wag & 21.0  & 6     & 160   & 110   & 3.90  & 2.875 & 17.02 & 0     & 1     & 4     & 4    \\\\\n",
       "\tDatsun 710 & 22.8  & 4     & 108   &  93   & 3.85  & 2.320 & 18.61 & 1     & 1     & 4     & 1    \\\\\n",
       "\tHornet 4 Drive & 21.4  & 6     & 258   & 110   & 3.08  & 3.215 & 19.44 & 1     & 0     & 3     & 1    \\\\\n",
       "\tHornet Sportabout & 18.7  & 8     & 360   & 175   & 3.15  & 3.440 & 17.02 & 0     & 0     & 3     & 2    \\\\\n",
       "\tValiant & 18.1  & 6     & 225   & 105   & 2.76  & 3.460 & 20.22 & 1     & 0     & 3     & 1    \\\\\n",
       "\\end{tabular}\n"
      ],
      "text/markdown": [
       "\n",
       "| <!--/--> | mpg | cyl | disp | hp | drat | wt | qsec | vs | am | gear | carb | \n",
       "|---|---|---|---|---|---|\n",
       "| Mazda RX4 | 21.0  | 6     | 160   | 110   | 3.90  | 2.620 | 16.46 | 0     | 1     | 4     | 4     | \n",
       "| Mazda RX4 Wag | 21.0  | 6     | 160   | 110   | 3.90  | 2.875 | 17.02 | 0     | 1     | 4     | 4     | \n",
       "| Datsun 710 | 22.8  | 4     | 108   |  93   | 3.85  | 2.320 | 18.61 | 1     | 1     | 4     | 1     | \n",
       "| Hornet 4 Drive | 21.4  | 6     | 258   | 110   | 3.08  | 3.215 | 19.44 | 1     | 0     | 3     | 1     | \n",
       "| Hornet Sportabout | 18.7  | 8     | 360   | 175   | 3.15  | 3.440 | 17.02 | 0     | 0     | 3     | 2     | \n",
       "| Valiant | 18.1  | 6     | 225   | 105   | 2.76  | 3.460 | 20.22 | 1     | 0     | 3     | 1     | \n",
       "\n",
       "\n"
      ],
      "text/plain": [
       "                  mpg  cyl disp hp  drat wt    qsec  vs am gear carb\n",
       "Mazda RX4         21.0 6   160  110 3.90 2.620 16.46 0  1  4    4   \n",
       "Mazda RX4 Wag     21.0 6   160  110 3.90 2.875 17.02 0  1  4    4   \n",
       "Datsun 710        22.8 4   108   93 3.85 2.320 18.61 1  1  4    1   \n",
       "Hornet 4 Drive    21.4 6   258  110 3.08 3.215 19.44 1  0  3    1   \n",
       "Hornet Sportabout 18.7 8   360  175 3.15 3.440 17.02 0  0  3    2   \n",
       "Valiant           18.1 6   225  105 2.76 3.460 20.22 1  0  3    1   "
      ]
     },
     "metadata": {},
     "output_type": "display_data"
    }
   ],
   "source": [
    "#-- show the first 6 lines\n",
    "head(mtcars, 6)"
   ]
  },
  {
   "cell_type": "markdown",
   "metadata": {},
   "source": [
    "If you could not find mtcars, use these commands:  \n",
    "* library(datasets)  \n",
    "* attach(mtcars)  "
   ]
  },
  {
   "cell_type": "markdown",
   "metadata": {},
   "source": [
    "### Write a csv/tsv file\n",
    "\n",
    "csv: comma separated values  \n",
    "tsv: tab separated values  \n",
    "  \n",
    "?write.csv"
   ]
  },
  {
   "cell_type": "code",
   "execution_count": 42,
   "metadata": {},
   "outputs": [],
   "source": [
    "write.csv(mtcars, \"data/mtcars.csv\")"
   ]
  },
  {
   "cell_type": "code",
   "execution_count": 43,
   "metadata": {},
   "outputs": [],
   "source": [
    "write.table(mtcars, \"data/mtcars2.tsv\", sep=\"\\t\")"
   ]
  },
  {
   "cell_type": "code",
   "execution_count": 40,
   "metadata": {},
   "outputs": [
    {
     "data": {
      "text/html": [
       "TRUE"
      ],
      "text/latex": [
       "TRUE"
      ],
      "text/markdown": [
       "TRUE"
      ],
      "text/plain": [
       "[1] TRUE"
      ]
     },
     "metadata": {},
     "output_type": "display_data"
    }
   ],
   "source": [
    "file.exists(\"data/mtcars.csv\")"
   ]
  },
  {
   "cell_type": "code",
   "execution_count": 44,
   "metadata": {},
   "outputs": [
    {
     "data": {
      "text/html": [
       "<ol class=list-inline>\n",
       "\t<li>'Activation of TNF-alpha-dependent pro-tumoral effect in colorectal cancer g1 h6 h12 interactions.csv'</li>\n",
       "\t<li>'Activation of TNF-alpha-dependent pro-tumoral effect in colorectal cancer g1 h6 h12 interactions.xls'</li>\n",
       "\t<li>'femaleControlsPopulation.csv'</li>\n",
       "\t<li>'iris.csv'</li>\n",
       "\t<li>'mtcars.csv'</li>\n",
       "\t<li>'mtcars.tsv'</li>\n",
       "\t<li>'mtcars2.tsv'</li>\n",
       "\t<li>'netscix2016'</li>\n",
       "\t<li>'netscix2016.zip'</li>\n",
       "</ol>\n"
      ],
      "text/latex": [
       "\\begin{enumerate*}\n",
       "\\item 'Activation of TNF-alpha-dependent pro-tumoral effect in colorectal cancer g1 h6 h12 interactions.csv'\n",
       "\\item 'Activation of TNF-alpha-dependent pro-tumoral effect in colorectal cancer g1 h6 h12 interactions.xls'\n",
       "\\item 'femaleControlsPopulation.csv'\n",
       "\\item 'iris.csv'\n",
       "\\item 'mtcars.csv'\n",
       "\\item 'mtcars.tsv'\n",
       "\\item 'mtcars2.tsv'\n",
       "\\item 'netscix2016'\n",
       "\\item 'netscix2016.zip'\n",
       "\\end{enumerate*}\n"
      ],
      "text/markdown": [
       "1. 'Activation of TNF-alpha-dependent pro-tumoral effect in colorectal cancer g1 h6 h12 interactions.csv'\n",
       "2. 'Activation of TNF-alpha-dependent pro-tumoral effect in colorectal cancer g1 h6 h12 interactions.xls'\n",
       "3. 'femaleControlsPopulation.csv'\n",
       "4. 'iris.csv'\n",
       "5. 'mtcars.csv'\n",
       "6. 'mtcars.tsv'\n",
       "7. 'mtcars2.tsv'\n",
       "8. 'netscix2016'\n",
       "9. 'netscix2016.zip'\n",
       "\n",
       "\n"
      ],
      "text/plain": [
       "[1] \"Activation of TNF-alpha-dependent pro-tumoral effect in colorectal cancer g1 h6 h12 interactions.csv\"\n",
       "[2] \"Activation of TNF-alpha-dependent pro-tumoral effect in colorectal cancer g1 h6 h12 interactions.xls\"\n",
       "[3] \"femaleControlsPopulation.csv\"                                                                        \n",
       "[4] \"iris.csv\"                                                                                            \n",
       "[5] \"mtcars.csv\"                                                                                          \n",
       "[6] \"mtcars.tsv\"                                                                                          \n",
       "[7] \"mtcars2.tsv\"                                                                                         \n",
       "[8] \"netscix2016\"                                                                                         \n",
       "[9] \"netscix2016.zip\"                                                                                     "
      ]
     },
     "metadata": {},
     "output_type": "display_data"
    }
   ],
   "source": [
    "list.files(path=\"data\")"
   ]
  },
  {
   "cell_type": "code",
   "execution_count": 28,
   "metadata": {},
   "outputs": [
    {
     "data": {
      "text/html": [
       "FALSE"
      ],
      "text/latex": [
       "FALSE"
      ],
      "text/markdown": [
       "FALSE"
      ],
      "text/plain": [
       "[1] FALSE"
      ]
     },
     "metadata": {},
     "output_type": "display_data"
    }
   ],
   "source": [
    "file.exists(\"mtcars.csv\")"
   ]
  },
  {
   "cell_type": "code",
   "execution_count": 29,
   "metadata": {},
   "outputs": [
    {
     "data": {
      "text/html": [
       "TRUE"
      ],
      "text/latex": [
       "TRUE"
      ],
      "text/markdown": [
       "TRUE"
      ],
      "text/plain": [
       "[1] TRUE"
      ]
     },
     "metadata": {},
     "output_type": "display_data"
    }
   ],
   "source": [
    "file.exists(\"data/mtcars.csv\")"
   ]
  },
  {
   "cell_type": "markdown",
   "metadata": {},
   "source": []
  }
 ],
 "metadata": {
  "kernelspec": {
   "display_name": "R",
   "language": "R",
   "name": "ir"
  },
  "language_info": {
   "codemirror_mode": "r",
   "file_extension": ".r",
   "mimetype": "text/x-r-source",
   "name": "R",
   "pygments_lexer": "r",
   "version": "3.5.1"
  }
 },
 "nbformat": 4,
 "nbformat_minor": 2
}
