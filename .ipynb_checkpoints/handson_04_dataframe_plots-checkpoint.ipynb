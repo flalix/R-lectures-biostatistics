{
 "cells": [
  {
   "cell_type": "markdown",
   "metadata": {},
   "source": [
    "author: Flavio Lichtenstein  \n",
    "data update: 2019/01/26  \n",
    "data created: 2016/07/20  \n",
    "local: Molecular Biology/Inovation & CENTD - Butantan Institute  \n",
    "\n",
    "### Lecture 04 - Dataframe & Plots\n",
    "\n",
    "**from matrix do dataframe**"
   ]
  },
  {
   "cell_type": "code",
   "execution_count": 7,
   "metadata": {},
   "outputs": [
    {
     "data": {
      "text/html": [
       "<table>\n",
       "<tbody>\n",
       "\t<tr><td>17</td><td>80</td><td>38</td></tr>\n",
       "\t<tr><td>33</td><td>60</td><td>99</td></tr>\n",
       "\t<tr><td>13</td><td>30</td><td>57</td></tr>\n",
       "</tbody>\n",
       "</table>\n"
      ],
      "text/latex": [
       "\\begin{tabular}{lll}\n",
       "\t 17 & 80 & 38\\\\\n",
       "\t 33 & 60 & 99\\\\\n",
       "\t 13 & 30 & 57\\\\\n",
       "\\end{tabular}\n"
      ],
      "text/markdown": [
       "\n",
       "| 17 | 80 | 38 | \n",
       "| 33 | 60 | 99 | \n",
       "| 13 | 30 | 57 | \n",
       "\n",
       "\n"
      ],
      "text/plain": [
       "     [,1] [,2] [,3]\n",
       "[1,] 17   80   38  \n",
       "[2,] 33   60   99  \n",
       "[3,] 13   30   57  "
      ]
     },
     "metadata": {},
     "output_type": "display_data"
    }
   ],
   "source": [
    "set.seed(3)\n",
    "\n",
    "v1 = sample.int(100, 3)\n",
    "v2 = sample.int(100, 3)\n",
    "v3 = sample.int(100, 3)\n",
    "\n",
    "#--- creating a matrix, be careful with byrow\n",
    "mat = matrix( c(v1,v2,v3), ncol=3, nrow=3, byrow = T)\n",
    "mat"
   ]
  },
  {
   "cell_type": "code",
   "execution_count": 8,
   "metadata": {},
   "outputs": [
    {
     "data": {
      "text/html": [
       "<table>\n",
       "<tbody>\n",
       "\t<tr><td>17</td><td>33</td><td>13</td></tr>\n",
       "\t<tr><td>80</td><td>60</td><td>30</td></tr>\n",
       "\t<tr><td>38</td><td>99</td><td>57</td></tr>\n",
       "</tbody>\n",
       "</table>\n"
      ],
      "text/latex": [
       "\\begin{tabular}{lll}\n",
       "\t 17 & 33 & 13\\\\\n",
       "\t 80 & 60 & 30\\\\\n",
       "\t 38 & 99 & 57\\\\\n",
       "\\end{tabular}\n"
      ],
      "text/markdown": [
       "\n",
       "| 17 | 33 | 13 | \n",
       "| 80 | 60 | 30 | \n",
       "| 38 | 99 | 57 | \n",
       "\n",
       "\n"
      ],
      "text/plain": [
       "     [,1] [,2] [,3]\n",
       "[1,] 17   33   13  \n",
       "[2,] 80   60   30  \n",
       "[3,] 38   99   57  "
      ]
     },
     "metadata": {},
     "output_type": "display_data"
    }
   ],
   "source": [
    "#-- byrow=F is the transpose of byrow=T\n",
    "matrix( c(v1,v2,v3), ncol=3, nrow=3, byrow = F)"
   ]
  },
  {
   "cell_type": "code",
   "execution_count": 9,
   "metadata": {},
   "outputs": [
    {
     "data": {
      "text/plain": [
       "NULL"
      ]
     },
     "metadata": {},
     "output_type": "display_data"
    }
   ],
   "source": [
    "#--- matrix that was built is naked without rownames and colnames\n",
    "rownames(mat)"
   ]
  },
  {
   "cell_type": "code",
   "execution_count": 10,
   "metadata": {},
   "outputs": [],
   "source": [
    "rownames(mat) = c(\"cust1\", \"cust2\", \"cust3\")"
   ]
  },
  {
   "cell_type": "code",
   "execution_count": 11,
   "metadata": {},
   "outputs": [
    {
     "data": {
      "text/html": [
       "<table>\n",
       "<tbody>\n",
       "\t<tr><th scope=row>cust1</th><td>17</td><td>80</td><td>38</td></tr>\n",
       "\t<tr><th scope=row>cust2</th><td>33</td><td>60</td><td>99</td></tr>\n",
       "\t<tr><th scope=row>cust3</th><td>13</td><td>30</td><td>57</td></tr>\n",
       "</tbody>\n",
       "</table>\n"
      ],
      "text/latex": [
       "\\begin{tabular}{r|lll}\n",
       "\tcust1 & 17 & 80 & 38\\\\\n",
       "\tcust2 & 33 & 60 & 99\\\\\n",
       "\tcust3 & 13 & 30 & 57\\\\\n",
       "\\end{tabular}\n"
      ],
      "text/markdown": [
       "\n",
       "| cust1 | 17 | 80 | 38 | \n",
       "| cust2 | 33 | 60 | 99 | \n",
       "| cust3 | 13 | 30 | 57 | \n",
       "\n",
       "\n"
      ],
      "text/plain": [
       "      [,1] [,2] [,3]\n",
       "cust1 17   80   38  \n",
       "cust2 33   60   99  \n",
       "cust3 13   30   57  "
      ]
     },
     "metadata": {},
     "output_type": "display_data"
    }
   ],
   "source": [
    "mat"
   ]
  },
  {
   "cell_type": "code",
   "execution_count": 12,
   "metadata": {},
   "outputs": [
    {
     "data": {
      "text/plain": [
       "NULL"
      ]
     },
     "metadata": {},
     "output_type": "display_data"
    }
   ],
   "source": [
    "colnames(mat)"
   ]
  },
  {
   "cell_type": "code",
   "execution_count": 13,
   "metadata": {},
   "outputs": [
    {
     "data": {
      "text/html": [
       "<table>\n",
       "<thead><tr><th></th><th scope=col>week1</th><th scope=col>week2</th><th scope=col>week3</th></tr></thead>\n",
       "<tbody>\n",
       "\t<tr><th scope=row>cust1</th><td>17</td><td>80</td><td>38</td></tr>\n",
       "\t<tr><th scope=row>cust2</th><td>33</td><td>60</td><td>99</td></tr>\n",
       "\t<tr><th scope=row>cust3</th><td>13</td><td>30</td><td>57</td></tr>\n",
       "</tbody>\n",
       "</table>\n"
      ],
      "text/latex": [
       "\\begin{tabular}{r|lll}\n",
       "  & week1 & week2 & week3\\\\\n",
       "\\hline\n",
       "\tcust1 & 17 & 80 & 38\\\\\n",
       "\tcust2 & 33 & 60 & 99\\\\\n",
       "\tcust3 & 13 & 30 & 57\\\\\n",
       "\\end{tabular}\n"
      ],
      "text/markdown": [
       "\n",
       "| <!--/--> | week1 | week2 | week3 | \n",
       "|---|---|---|\n",
       "| cust1 | 17 | 80 | 38 | \n",
       "| cust2 | 33 | 60 | 99 | \n",
       "| cust3 | 13 | 30 | 57 | \n",
       "\n",
       "\n"
      ],
      "text/plain": [
       "      week1 week2 week3\n",
       "cust1 17    80    38   \n",
       "cust2 33    60    99   \n",
       "cust3 13    30    57   "
      ]
     },
     "metadata": {},
     "output_type": "display_data"
    }
   ],
   "source": [
    "colnames(mat) = c(\"week1\", \"week2\", \"week3\")\n",
    "mat"
   ]
  },
  {
   "cell_type": "code",
   "execution_count": 14,
   "metadata": {},
   "outputs": [
    {
     "data": {
      "text/html": [
       "<ol class=list-inline>\n",
       "\t<li>'cust1'</li>\n",
       "\t<li>'cust2'</li>\n",
       "\t<li>'cust3'</li>\n",
       "</ol>\n"
      ],
      "text/latex": [
       "\\begin{enumerate*}\n",
       "\\item 'cust1'\n",
       "\\item 'cust2'\n",
       "\\item 'cust3'\n",
       "\\end{enumerate*}\n"
      ],
      "text/markdown": [
       "1. 'cust1'\n",
       "2. 'cust2'\n",
       "3. 'cust3'\n",
       "\n",
       "\n"
      ],
      "text/plain": [
       "[1] \"cust1\" \"cust2\" \"cust3\""
      ]
     },
     "metadata": {},
     "output_type": "display_data"
    }
   ],
   "source": [
    "rownames(mat)"
   ]
  },
  {
   "cell_type": "code",
   "execution_count": 15,
   "metadata": {},
   "outputs": [
    {
     "data": {
      "text/html": [
       "<ol class=list-inline>\n",
       "\t<li>'week1'</li>\n",
       "\t<li>'week2'</li>\n",
       "\t<li>'week3'</li>\n",
       "</ol>\n"
      ],
      "text/latex": [
       "\\begin{enumerate*}\n",
       "\\item 'week1'\n",
       "\\item 'week2'\n",
       "\\item 'week3'\n",
       "\\end{enumerate*}\n"
      ],
      "text/markdown": [
       "1. 'week1'\n",
       "2. 'week2'\n",
       "3. 'week3'\n",
       "\n",
       "\n"
      ],
      "text/plain": [
       "[1] \"week1\" \"week2\" \"week3\""
      ]
     },
     "metadata": {},
     "output_type": "display_data"
    }
   ],
   "source": [
    "colnames(mat)"
   ]
  },
  {
   "cell_type": "code",
   "execution_count": 16,
   "metadata": {},
   "outputs": [
    {
     "data": {
      "text/html": [
       "<table>\n",
       "<thead><tr><th></th><th scope=col>week1</th><th scope=col>week2</th><th scope=col>week3</th></tr></thead>\n",
       "<tbody>\n",
       "\t<tr><th scope=row>cust1</th><td>17</td><td>80</td><td>38</td></tr>\n",
       "\t<tr><th scope=row>cust2</th><td>33</td><td>60</td><td>99</td></tr>\n",
       "\t<tr><th scope=row>cust3</th><td>13</td><td>30</td><td>57</td></tr>\n",
       "</tbody>\n",
       "</table>\n"
      ],
      "text/latex": [
       "\\begin{tabular}{r|lll}\n",
       "  & week1 & week2 & week3\\\\\n",
       "\\hline\n",
       "\tcust1 & 17 & 80 & 38\\\\\n",
       "\tcust2 & 33 & 60 & 99\\\\\n",
       "\tcust3 & 13 & 30 & 57\\\\\n",
       "\\end{tabular}\n"
      ],
      "text/markdown": [
       "\n",
       "| <!--/--> | week1 | week2 | week3 | \n",
       "|---|---|---|\n",
       "| cust1 | 17 | 80 | 38 | \n",
       "| cust2 | 33 | 60 | 99 | \n",
       "| cust3 | 13 | 30 | 57 | \n",
       "\n",
       "\n"
      ],
      "text/plain": [
       "      week1 week2 week3\n",
       "cust1 17    80    38   \n",
       "cust2 33    60    99   \n",
       "cust3 13    30    57   "
      ]
     },
     "metadata": {},
     "output_type": "display_data"
    }
   ],
   "source": [
    "df = as.data.frame(mat)\n",
    "df"
   ]
  },
  {
   "cell_type": "code",
   "execution_count": 17,
   "metadata": {},
   "outputs": [
    {
     "ename": "ERROR",
     "evalue": "Error in parse(text = x, srcfile = src): <text>:3:0: unexpected end of input\n1: # You cannot call a column with $, but in datrame is possible\n2: mat$\n  ^\n",
     "output_type": "error",
     "traceback": [
      "Error in parse(text = x, srcfile = src): <text>:3:0: unexpected end of input\n1: # You cannot call a column with $, but in datrame is possible\n2: mat$\n  ^\nTraceback:\n"
     ]
    }
   ],
   "source": [
    "# You cannot call a column with $, but in datrame is possible\n",
    "mat$"
   ]
  },
  {
   "cell_type": "code",
   "execution_count": 18,
   "metadata": {},
   "outputs": [
    {
     "data": {
      "text/html": [
       "<ol class=list-inline>\n",
       "\t<li>17</li>\n",
       "\t<li>33</li>\n",
       "\t<li>13</li>\n",
       "</ol>\n"
      ],
      "text/latex": [
       "\\begin{enumerate*}\n",
       "\\item 17\n",
       "\\item 33\n",
       "\\item 13\n",
       "\\end{enumerate*}\n"
      ],
      "text/markdown": [
       "1. 17\n",
       "2. 33\n",
       "3. 13\n",
       "\n",
       "\n"
      ],
      "text/plain": [
       "[1] 17 33 13"
      ]
     },
     "metadata": {},
     "output_type": "display_data"
    }
   ],
   "source": [
    "#-- filter the column week1\n",
    "df$week1"
   ]
  },
  {
   "cell_type": "code",
   "execution_count": 19,
   "metadata": {},
   "outputs": [
    {
     "data": {
      "text/html": [
       "<ol class=list-inline>\n",
       "\t<li>17</li>\n",
       "\t<li>33</li>\n",
       "\t<li>13</li>\n",
       "</ol>\n"
      ],
      "text/latex": [
       "\\begin{enumerate*}\n",
       "\\item 17\n",
       "\\item 33\n",
       "\\item 13\n",
       "\\end{enumerate*}\n"
      ],
      "text/markdown": [
       "1. 17\n",
       "2. 33\n",
       "3. 13\n",
       "\n",
       "\n"
      ],
      "text/plain": [
       "[1] 17 33 13"
      ]
     },
     "metadata": {},
     "output_type": "display_data"
    }
   ],
   "source": [
    "#-- filter the first column (week1)\n",
    "df[,1]"
   ]
  },
  {
   "cell_type": "code",
   "execution_count": 20,
   "metadata": {},
   "outputs": [
    {
     "data": {
      "text/html": [
       "<table>\n",
       "<thead><tr><th></th><th scope=col>week1</th><th scope=col>week2</th><th scope=col>week3</th></tr></thead>\n",
       "<tbody>\n",
       "\t<tr><th scope=row>cust2</th><td>33</td><td>60</td><td>99</td></tr>\n",
       "</tbody>\n",
       "</table>\n"
      ],
      "text/latex": [
       "\\begin{tabular}{r|lll}\n",
       "  & week1 & week2 & week3\\\\\n",
       "\\hline\n",
       "\tcust2 & 33 & 60 & 99\\\\\n",
       "\\end{tabular}\n"
      ],
      "text/markdown": [
       "\n",
       "| <!--/--> | week1 | week2 | week3 | \n",
       "|---|\n",
       "| cust2 | 33 | 60 | 99 | \n",
       "\n",
       "\n"
      ],
      "text/plain": [
       "      week1 week2 week3\n",
       "cust2 33    60    99   "
      ]
     },
     "metadata": {},
     "output_type": "display_data"
    }
   ],
   "source": [
    "#--- filter the line cust2\n",
    "df[\"cust2\", ]"
   ]
  },
  {
   "cell_type": "code",
   "execution_count": 21,
   "metadata": {},
   "outputs": [
    {
     "data": {
      "text/html": [
       "<table>\n",
       "<thead><tr><th></th><th scope=col>week1</th><th scope=col>week2</th><th scope=col>week3</th></tr></thead>\n",
       "<tbody>\n",
       "\t<tr><th scope=row>cust2</th><td>33</td><td>60</td><td>99</td></tr>\n",
       "</tbody>\n",
       "</table>\n"
      ],
      "text/latex": [
       "\\begin{tabular}{r|lll}\n",
       "  & week1 & week2 & week3\\\\\n",
       "\\hline\n",
       "\tcust2 & 33 & 60 & 99\\\\\n",
       "\\end{tabular}\n"
      ],
      "text/markdown": [
       "\n",
       "| <!--/--> | week1 | week2 | week3 | \n",
       "|---|\n",
       "| cust2 | 33 | 60 | 99 | \n",
       "\n",
       "\n"
      ],
      "text/plain": [
       "      week1 week2 week3\n",
       "cust2 33    60    99   "
      ]
     },
     "metadata": {},
     "output_type": "display_data"
    }
   ],
   "source": [
    "#--- filter the second line (cust2)\n",
    "df[2, ]"
   ]
  },
  {
   "cell_type": "code",
   "execution_count": 22,
   "metadata": {},
   "outputs": [
    {
     "data": {
      "text/html": [
       "<table>\n",
       "<thead><tr><th></th><th scope=col>week1</th><th scope=col>week2</th><th scope=col>week3</th></tr></thead>\n",
       "<tbody>\n",
       "\t<tr><th scope=row>cust1</th><td>17</td><td>80</td><td>38</td></tr>\n",
       "</tbody>\n",
       "</table>\n"
      ],
      "text/latex": [
       "\\begin{tabular}{r|lll}\n",
       "  & week1 & week2 & week3\\\\\n",
       "\\hline\n",
       "\tcust1 & 17 & 80 & 38\\\\\n",
       "\\end{tabular}\n"
      ],
      "text/markdown": [
       "\n",
       "| <!--/--> | week1 | week2 | week3 | \n",
       "|---|\n",
       "| cust1 | 17 | 80 | 38 | \n",
       "\n",
       "\n"
      ],
      "text/plain": [
       "      week1 week2 week3\n",
       "cust1 17    80    38   "
      ]
     },
     "metadata": {},
     "output_type": "display_data"
    }
   ],
   "source": [
    "#--- find lines that week1 is equal (==) 17\n",
    "df[df$week1 == 17, ]"
   ]
  },
  {
   "cell_type": "code",
   "execution_count": null,
   "metadata": {},
   "outputs": [],
   "source": []
  },
  {
   "cell_type": "code",
   "execution_count": 23,
   "metadata": {},
   "outputs": [
    {
     "data": {
      "text/html": [
       "<table>\n",
       "<thead><tr><th></th><th scope=col>week1</th><th scope=col>week2</th><th scope=col>week3</th></tr></thead>\n",
       "<tbody>\n",
       "\t<tr><th scope=row>cust1</th><td>17</td><td>80</td><td>38</td></tr>\n",
       "\t<tr><th scope=row>cust3</th><td>13</td><td>30</td><td>57</td></tr>\n",
       "</tbody>\n",
       "</table>\n"
      ],
      "text/latex": [
       "\\begin{tabular}{r|lll}\n",
       "  & week1 & week2 & week3\\\\\n",
       "\\hline\n",
       "\tcust1 & 17 & 80 & 38\\\\\n",
       "\tcust3 & 13 & 30 & 57\\\\\n",
       "\\end{tabular}\n"
      ],
      "text/markdown": [
       "\n",
       "| <!--/--> | week1 | week2 | week3 | \n",
       "|---|---|\n",
       "| cust1 | 17 | 80 | 38 | \n",
       "| cust3 | 13 | 30 | 57 | \n",
       "\n",
       "\n"
      ],
      "text/plain": [
       "      week1 week2 week3\n",
       "cust1 17    80    38   \n",
       "cust3 13    30    57   "
      ]
     },
     "metadata": {},
     "output_type": "display_data"
    }
   ],
   "source": [
    "#--- find lines that week1 contains 17\n",
    "df[df$week1 <= 17, ]"
   ]
  },
  {
   "cell_type": "markdown",
   "metadata": {},
   "source": [
    "## Internal Datasets\n",
    "\n",
    "mtcars is a little interesting table that comes in R and is used as example\n",
    "\n",
    "there are others like: \n"
   ]
  },
  {
   "cell_type": "code",
   "execution_count": 24,
   "metadata": {},
   "outputs": [],
   "source": [
    "data()"
   ]
  },
  {
   "cell_type": "markdown",
   "metadata": {},
   "source": [
    "### Download datasets\n",
    "\n",
    "[datasets to download](https://vincentarelbundock.github.io/Rdatasets/datasets.html)"
   ]
  },
  {
   "cell_type": "markdown",
   "metadata": {},
   "source": [
    "### We will work with\n",
    "\n",
    "  * AirPassengers\n",
    "  * mtcars\n",
    "  * iris"
   ]
  },
  {
   "cell_type": "markdown",
   "metadata": {},
   "source": [
    "### AirPassengers\n",
    "\n",
    "[AirPassengers](https://rpubs.com/emb90/137525)"
   ]
  },
  {
   "cell_type": "code",
   "execution_count": 25,
   "metadata": {},
   "outputs": [
    {
     "name": "stdout",
     "output_type": "stream",
     "text": [
      " Time-Series [1:144] from 1949 to 1961: 112 118 132 129 121 135 148 148 136 119 ...\n"
     ]
    },
    {
     "data": {
      "image/png": "[encoded data removed]",
      "text/plain": [
       "plot without title"
      ]
     },
     "metadata": {},
     "output_type": "display_data"
    }
   ],
   "source": [
    "#-- time series: ts\n",
    "data(\"AirPassengers\")\n",
    "AP <- AirPassengers\n",
    "str(AP)\n",
    "\n",
    "plot(AP, ylab=\"Passengers (1000s)\", type=\"o\", pch =20)"
   ]
  },
  {
   "cell_type": "code",
   "execution_count": 26,
   "metadata": {},
   "outputs": [
    {
     "data": {
      "image/png": "[encoded data removed]",
      "text/plain": [
       "plot without title"
      ]
     },
     "metadata": {},
     "output_type": "display_data"
    }
   ],
   "source": [
    "#--- signal decompositions\n",
    "AP.decompM <- decompose(AP, type = \"multiplicative\")\n",
    "plot(AP.decompM)"
   ]
  },
  {
   "cell_type": "markdown",
   "metadata": {},
   "source": [
    "### Dataset: CO2"
   ]
  },
  {
   "cell_type": "code",
   "execution_count": 27,
   "metadata": {},
   "outputs": [
    {
     "data": {
      "text/html": [
       "<table>\n",
       "<thead><tr><th scope=col>Plant</th><th scope=col>Type</th><th scope=col>Treatment</th><th scope=col>conc</th><th scope=col>uptake</th></tr></thead>\n",
       "<tbody>\n",
       "\t<tr><td>Qn1       </td><td>Quebec    </td><td>nonchilled</td><td> 95       </td><td>16,0      </td></tr>\n",
       "\t<tr><td>Qn1       </td><td>Quebec    </td><td>nonchilled</td><td>175       </td><td>30,4      </td></tr>\n",
       "\t<tr><td>Qn1       </td><td>Quebec    </td><td>nonchilled</td><td>250       </td><td>34,8      </td></tr>\n",
       "\t<tr><td>Qn1       </td><td>Quebec    </td><td>nonchilled</td><td>350       </td><td>37,2      </td></tr>\n",
       "\t<tr><td>Qn1       </td><td>Quebec    </td><td>nonchilled</td><td>500       </td><td>35,3      </td></tr>\n",
       "\t<tr><td>Qn1       </td><td>Quebec    </td><td>nonchilled</td><td>675       </td><td>39,2      </td></tr>\n",
       "</tbody>\n",
       "</table>\n"
      ],
      "text/latex": [
       "\\begin{tabular}{r|lllll}\n",
       " Plant & Type & Treatment & conc & uptake\\\\\n",
       "\\hline\n",
       "\t Qn1        & Quebec     & nonchilled &  95        & 16,0      \\\\\n",
       "\t Qn1        & Quebec     & nonchilled & 175        & 30,4      \\\\\n",
       "\t Qn1        & Quebec     & nonchilled & 250        & 34,8      \\\\\n",
       "\t Qn1        & Quebec     & nonchilled & 350        & 37,2      \\\\\n",
       "\t Qn1        & Quebec     & nonchilled & 500        & 35,3      \\\\\n",
       "\t Qn1        & Quebec     & nonchilled & 675        & 39,2      \\\\\n",
       "\\end{tabular}\n"
      ],
      "text/markdown": [
       "\n",
       "Plant | Type | Treatment | conc | uptake | \n",
       "|---|---|---|---|---|---|\n",
       "| Qn1        | Quebec     | nonchilled |  95        | 16,0       | \n",
       "| Qn1        | Quebec     | nonchilled | 175        | 30,4       | \n",
       "| Qn1        | Quebec     | nonchilled | 250        | 34,8       | \n",
       "| Qn1        | Quebec     | nonchilled | 350        | 37,2       | \n",
       "| Qn1        | Quebec     | nonchilled | 500        | 35,3       | \n",
       "| Qn1        | Quebec     | nonchilled | 675        | 39,2       | \n",
       "\n",
       "\n"
      ],
      "text/plain": [
       "  Plant Type   Treatment  conc uptake\n",
       "1 Qn1   Quebec nonchilled  95  16,0  \n",
       "2 Qn1   Quebec nonchilled 175  30,4  \n",
       "3 Qn1   Quebec nonchilled 250  34,8  \n",
       "4 Qn1   Quebec nonchilled 350  37,2  \n",
       "5 Qn1   Quebec nonchilled 500  35,3  \n",
       "6 Qn1   Quebec nonchilled 675  39,2  "
      ]
     },
     "metadata": {},
     "output_type": "display_data"
    }
   ],
   "source": [
    "head(CO2)"
   ]
  },
  {
   "cell_type": "code",
   "execution_count": 28,
   "metadata": {},
   "outputs": [
    {
     "data": {
      "text/plain": [
       "      conc          uptake     \n",
       " Min.   :  95   Min.   : 7,70  \n",
       " 1st Qu.: 175   1st Qu.:17,90  \n",
       " Median : 350   Median :28,30  \n",
       " Mean   : 435   Mean   :27,21  \n",
       " 3rd Qu.: 675   3rd Qu.:37,12  \n",
       " Max.   :1000   Max.   :45,50  "
      ]
     },
     "metadata": {},
     "output_type": "display_data"
    }
   ],
   "source": [
    "summary(CO2[,c(4,5)])"
   ]
  },
  {
   "cell_type": "markdown",
   "metadata": {},
   "source": [
    "### mtcars"
   ]
  },
  {
   "cell_type": "code",
   "execution_count": 29,
   "metadata": {},
   "outputs": [],
   "source": [
    "?mtcars"
   ]
  },
  {
   "cell_type": "code",
   "execution_count": 30,
   "metadata": {},
   "outputs": [
    {
     "data": {
      "text/html": [
       "<table>\n",
       "<thead><tr><th></th><th scope=col>mpg</th><th scope=col>cyl</th><th scope=col>disp</th><th scope=col>hp</th><th scope=col>drat</th><th scope=col>wt</th><th scope=col>qsec</th><th scope=col>vs</th><th scope=col>am</th><th scope=col>gear</th><th scope=col>carb</th></tr></thead>\n",
       "<tbody>\n",
       "\t<tr><th scope=row>Mazda RX4</th><td>21,0 </td><td>6    </td><td>160  </td><td>110  </td><td>3,90 </td><td>2,620</td><td>16,46</td><td>0    </td><td>1    </td><td>4    </td><td>4    </td></tr>\n",
       "\t<tr><th scope=row>Mazda RX4 Wag</th><td>21,0 </td><td>6    </td><td>160  </td><td>110  </td><td>3,90 </td><td>2,875</td><td>17,02</td><td>0    </td><td>1    </td><td>4    </td><td>4    </td></tr>\n",
       "\t<tr><th scope=row>Datsun 710</th><td>22,8 </td><td>4    </td><td>108  </td><td> 93  </td><td>3,85 </td><td>2,320</td><td>18,61</td><td>1    </td><td>1    </td><td>4    </td><td>1    </td></tr>\n",
       "\t<tr><th scope=row>Hornet 4 Drive</th><td>21,4 </td><td>6    </td><td>258  </td><td>110  </td><td>3,08 </td><td>3,215</td><td>19,44</td><td>1    </td><td>0    </td><td>3    </td><td>1    </td></tr>\n",
       "\t<tr><th scope=row>Hornet Sportabout</th><td>18,7 </td><td>8    </td><td>360  </td><td>175  </td><td>3,15 </td><td>3,440</td><td>17,02</td><td>0    </td><td>0    </td><td>3    </td><td>2    </td></tr>\n",
       "\t<tr><th scope=row>Valiant</th><td>18,1 </td><td>6    </td><td>225  </td><td>105  </td><td>2,76 </td><td>3,460</td><td>20,22</td><td>1    </td><td>0    </td><td>3    </td><td>1    </td></tr>\n",
       "</tbody>\n",
       "</table>\n"
      ],
      "text/latex": [
       "\\begin{tabular}{r|lllllllllll}\n",
       "  & mpg & cyl & disp & hp & drat & wt & qsec & vs & am & gear & carb\\\\\n",
       "\\hline\n",
       "\tMazda RX4 & 21,0  & 6     & 160   & 110   & 3,90  & 2,620 & 16,46 & 0     & 1     & 4     & 4    \\\\\n",
       "\tMazda RX4 Wag & 21,0  & 6     & 160   & 110   & 3,90  & 2,875 & 17,02 & 0     & 1     & 4     & 4    \\\\\n",
       "\tDatsun 710 & 22,8  & 4     & 108   &  93   & 3,85  & 2,320 & 18,61 & 1     & 1     & 4     & 1    \\\\\n",
       "\tHornet 4 Drive & 21,4  & 6     & 258   & 110   & 3,08  & 3,215 & 19,44 & 1     & 0     & 3     & 1    \\\\\n",
       "\tHornet Sportabout & 18,7  & 8     & 360   & 175   & 3,15  & 3,440 & 17,02 & 0     & 0     & 3     & 2    \\\\\n",
       "\tValiant & 18,1  & 6     & 225   & 105   & 2,76  & 3,460 & 20,22 & 1     & 0     & 3     & 1    \\\\\n",
       "\\end{tabular}\n"
      ],
      "text/markdown": [
       "\n",
       "| <!--/--> | mpg | cyl | disp | hp | drat | wt | qsec | vs | am | gear | carb | \n",
       "|---|---|---|---|---|---|\n",
       "| Mazda RX4 | 21,0  | 6     | 160   | 110   | 3,90  | 2,620 | 16,46 | 0     | 1     | 4     | 4     | \n",
       "| Mazda RX4 Wag | 21,0  | 6     | 160   | 110   | 3,90  | 2,875 | 17,02 | 0     | 1     | 4     | 4     | \n",
       "| Datsun 710 | 22,8  | 4     | 108   |  93   | 3,85  | 2,320 | 18,61 | 1     | 1     | 4     | 1     | \n",
       "| Hornet 4 Drive | 21,4  | 6     | 258   | 110   | 3,08  | 3,215 | 19,44 | 1     | 0     | 3     | 1     | \n",
       "| Hornet Sportabout | 18,7  | 8     | 360   | 175   | 3,15  | 3,440 | 17,02 | 0     | 0     | 3     | 2     | \n",
       "| Valiant | 18,1  | 6     | 225   | 105   | 2,76  | 3,460 | 20,22 | 1     | 0     | 3     | 1     | \n",
       "\n",
       "\n"
      ],
      "text/plain": [
       "                  mpg  cyl disp hp  drat wt    qsec  vs am gear carb\n",
       "Mazda RX4         21,0 6   160  110 3,90 2,620 16,46 0  1  4    4   \n",
       "Mazda RX4 Wag     21,0 6   160  110 3,90 2,875 17,02 0  1  4    4   \n",
       "Datsun 710        22,8 4   108   93 3,85 2,320 18,61 1  1  4    1   \n",
       "Hornet 4 Drive    21,4 6   258  110 3,08 3,215 19,44 1  0  3    1   \n",
       "Hornet Sportabout 18,7 8   360  175 3,15 3,440 17,02 0  0  3    2   \n",
       "Valiant           18,1 6   225  105 2,76 3,460 20,22 1  0  3    1   "
      ]
     },
     "metadata": {},
     "output_type": "display_data"
    }
   ],
   "source": [
    "head(mtcars)"
   ]
  },
  {
   "cell_type": "code",
   "execution_count": 31,
   "metadata": {},
   "outputs": [
    {
     "data": {
      "text/plain": [
       "      mpg             cyl             disp             hp       \n",
       " Min.   :10,40   Min.   :4,000   Min.   : 71,1   Min.   : 52,0  \n",
       " 1st Qu.:15,43   1st Qu.:4,000   1st Qu.:120,8   1st Qu.: 96,5  \n",
       " Median :19,20   Median :6,000   Median :196,3   Median :123,0  \n",
       " Mean   :20,09   Mean   :6,188   Mean   :230,7   Mean   :146,7  \n",
       " 3rd Qu.:22,80   3rd Qu.:8,000   3rd Qu.:326,0   3rd Qu.:180,0  \n",
       " Max.   :33,90   Max.   :8,000   Max.   :472,0   Max.   :335,0  \n",
       "      drat             wt             qsec             vs        \n",
       " Min.   :2,760   Min.   :1,513   Min.   :14,50   Min.   :0,0000  \n",
       " 1st Qu.:3,080   1st Qu.:2,581   1st Qu.:16,89   1st Qu.:0,0000  \n",
       " Median :3,695   Median :3,325   Median :17,71   Median :0,0000  \n",
       " Mean   :3,597   Mean   :3,217   Mean   :17,85   Mean   :0,4375  \n",
       " 3rd Qu.:3,920   3rd Qu.:3,610   3rd Qu.:18,90   3rd Qu.:1,0000  \n",
       " Max.   :4,930   Max.   :5,424   Max.   :22,90   Max.   :1,0000  \n",
       "       am              gear            carb      \n",
       " Min.   :0,0000   Min.   :3,000   Min.   :1,000  \n",
       " 1st Qu.:0,0000   1st Qu.:3,000   1st Qu.:2,000  \n",
       " Median :0,0000   Median :4,000   Median :2,000  \n",
       " Mean   :0,4062   Mean   :3,688   Mean   :2,812  \n",
       " 3rd Qu.:1,0000   3rd Qu.:4,000   3rd Qu.:4,000  \n",
       " Max.   :1,0000   Max.   :5,000   Max.   :8,000  "
      ]
     },
     "metadata": {},
     "output_type": "display_data"
    }
   ],
   "source": [
    "summary(mtcars)"
   ]
  },
  {
   "cell_type": "code",
   "execution_count": 32,
   "metadata": {},
   "outputs": [
    {
     "data": {
      "text/html": [
       "<ol class=list-inline>\n",
       "\t<li>'mpg'</li>\n",
       "\t<li>'cyl'</li>\n",
       "\t<li>'disp'</li>\n",
       "\t<li>'hp'</li>\n",
       "\t<li>'drat'</li>\n",
       "\t<li>'wt'</li>\n",
       "\t<li>'qsec'</li>\n",
       "\t<li>'vs'</li>\n",
       "\t<li>'am'</li>\n",
       "\t<li>'gear'</li>\n",
       "\t<li>'carb'</li>\n",
       "</ol>\n"
      ],
      "text/latex": [
       "\\begin{enumerate*}\n",
       "\\item 'mpg'\n",
       "\\item 'cyl'\n",
       "\\item 'disp'\n",
       "\\item 'hp'\n",
       "\\item 'drat'\n",
       "\\item 'wt'\n",
       "\\item 'qsec'\n",
       "\\item 'vs'\n",
       "\\item 'am'\n",
       "\\item 'gear'\n",
       "\\item 'carb'\n",
       "\\end{enumerate*}\n"
      ],
      "text/markdown": [
       "1. 'mpg'\n",
       "2. 'cyl'\n",
       "3. 'disp'\n",
       "4. 'hp'\n",
       "5. 'drat'\n",
       "6. 'wt'\n",
       "7. 'qsec'\n",
       "8. 'vs'\n",
       "9. 'am'\n",
       "10. 'gear'\n",
       "11. 'carb'\n",
       "\n",
       "\n"
      ],
      "text/plain": [
       " [1] \"mpg\"  \"cyl\"  \"disp\" \"hp\"   \"drat\" \"wt\"   \"qsec\" \"vs\"   \"am\"   \"gear\"\n",
       "[11] \"carb\""
      ]
     },
     "metadata": {},
     "output_type": "display_data"
    }
   ],
   "source": [
    "#-- colnames are the measures - parameters\n",
    "colnames(mtcars)"
   ]
  },
  {
   "cell_type": "code",
   "execution_count": 33,
   "metadata": {},
   "outputs": [
    {
     "data": {
      "text/html": [
       "<ol class=list-inline>\n",
       "\t<li>'Mazda RX4'</li>\n",
       "\t<li>'Mazda RX4 Wag'</li>\n",
       "\t<li>'Datsun 710'</li>\n",
       "\t<li>'Hornet 4 Drive'</li>\n",
       "\t<li>'Hornet Sportabout'</li>\n",
       "\t<li>'Valiant'</li>\n",
       "\t<li>'Duster 360'</li>\n",
       "\t<li>'Merc 240D'</li>\n",
       "\t<li>'Merc 230'</li>\n",
       "\t<li>'Merc 280'</li>\n",
       "\t<li>'Merc 280C'</li>\n",
       "\t<li>'Merc 450SE'</li>\n",
       "\t<li>'Merc 450SL'</li>\n",
       "\t<li>'Merc 450SLC'</li>\n",
       "\t<li>'Cadillac Fleetwood'</li>\n",
       "\t<li>'Lincoln Continental'</li>\n",
       "\t<li>'Chrysler Imperial'</li>\n",
       "\t<li>'Fiat 128'</li>\n",
       "\t<li>'Honda Civic'</li>\n",
       "\t<li>'Toyota Corolla'</li>\n",
       "\t<li>'Toyota Corona'</li>\n",
       "\t<li>'Dodge Challenger'</li>\n",
       "\t<li>'AMC Javelin'</li>\n",
       "\t<li>'Camaro Z28'</li>\n",
       "\t<li>'Pontiac Firebird'</li>\n",
       "\t<li>'Fiat X1-9'</li>\n",
       "\t<li>'Porsche 914-2'</li>\n",
       "\t<li>'Lotus Europa'</li>\n",
       "\t<li>'Ford Pantera L'</li>\n",
       "\t<li>'Ferrari Dino'</li>\n",
       "\t<li>'Maserati Bora'</li>\n",
       "\t<li>'Volvo 142E'</li>\n",
       "</ol>\n"
      ],
      "text/latex": [
       "\\begin{enumerate*}\n",
       "\\item 'Mazda RX4'\n",
       "\\item 'Mazda RX4 Wag'\n",
       "\\item 'Datsun 710'\n",
       "\\item 'Hornet 4 Drive'\n",
       "\\item 'Hornet Sportabout'\n",
       "\\item 'Valiant'\n",
       "\\item 'Duster 360'\n",
       "\\item 'Merc 240D'\n",
       "\\item 'Merc 230'\n",
       "\\item 'Merc 280'\n",
       "\\item 'Merc 280C'\n",
       "\\item 'Merc 450SE'\n",
       "\\item 'Merc 450SL'\n",
       "\\item 'Merc 450SLC'\n",
       "\\item 'Cadillac Fleetwood'\n",
       "\\item 'Lincoln Continental'\n",
       "\\item 'Chrysler Imperial'\n",
       "\\item 'Fiat 128'\n",
       "\\item 'Honda Civic'\n",
       "\\item 'Toyota Corolla'\n",
       "\\item 'Toyota Corona'\n",
       "\\item 'Dodge Challenger'\n",
       "\\item 'AMC Javelin'\n",
       "\\item 'Camaro Z28'\n",
       "\\item 'Pontiac Firebird'\n",
       "\\item 'Fiat X1-9'\n",
       "\\item 'Porsche 914-2'\n",
       "\\item 'Lotus Europa'\n",
       "\\item 'Ford Pantera L'\n",
       "\\item 'Ferrari Dino'\n",
       "\\item 'Maserati Bora'\n",
       "\\item 'Volvo 142E'\n",
       "\\end{enumerate*}\n"
      ],
      "text/markdown": [
       "1. 'Mazda RX4'\n",
       "2. 'Mazda RX4 Wag'\n",
       "3. 'Datsun 710'\n",
       "4. 'Hornet 4 Drive'\n",
       "5. 'Hornet Sportabout'\n",
       "6. 'Valiant'\n",
       "7. 'Duster 360'\n",
       "8. 'Merc 240D'\n",
       "9. 'Merc 230'\n",
       "10. 'Merc 280'\n",
       "11. 'Merc 280C'\n",
       "12. 'Merc 450SE'\n",
       "13. 'Merc 450SL'\n",
       "14. 'Merc 450SLC'\n",
       "15. 'Cadillac Fleetwood'\n",
       "16. 'Lincoln Continental'\n",
       "17. 'Chrysler Imperial'\n",
       "18. 'Fiat 128'\n",
       "19. 'Honda Civic'\n",
       "20. 'Toyota Corolla'\n",
       "21. 'Toyota Corona'\n",
       "22. 'Dodge Challenger'\n",
       "23. 'AMC Javelin'\n",
       "24. 'Camaro Z28'\n",
       "25. 'Pontiac Firebird'\n",
       "26. 'Fiat X1-9'\n",
       "27. 'Porsche 914-2'\n",
       "28. 'Lotus Europa'\n",
       "29. 'Ford Pantera L'\n",
       "30. 'Ferrari Dino'\n",
       "31. 'Maserati Bora'\n",
       "32. 'Volvo 142E'\n",
       "\n",
       "\n"
      ],
      "text/plain": [
       " [1] \"Mazda RX4\"           \"Mazda RX4 Wag\"       \"Datsun 710\"         \n",
       " [4] \"Hornet 4 Drive\"      \"Hornet Sportabout\"   \"Valiant\"            \n",
       " [7] \"Duster 360\"          \"Merc 240D\"           \"Merc 230\"           \n",
       "[10] \"Merc 280\"            \"Merc 280C\"           \"Merc 450SE\"         \n",
       "[13] \"Merc 450SL\"          \"Merc 450SLC\"         \"Cadillac Fleetwood\" \n",
       "[16] \"Lincoln Continental\" \"Chrysler Imperial\"   \"Fiat 128\"           \n",
       "[19] \"Honda Civic\"         \"Toyota Corolla\"      \"Toyota Corona\"      \n",
       "[22] \"Dodge Challenger\"    \"AMC Javelin\"         \"Camaro Z28\"         \n",
       "[25] \"Pontiac Firebird\"    \"Fiat X1-9\"           \"Porsche 914-2\"      \n",
       "[28] \"Lotus Europa\"        \"Ford Pantera L\"      \"Ferrari Dino\"       \n",
       "[31] \"Maserati Bora\"       \"Volvo 142E\"         "
      ]
     },
     "metadata": {},
     "output_type": "display_data"
    }
   ],
   "source": [
    "#--- rownames are the car names\n",
    "rownames(mtcars)"
   ]
  },
  {
   "cell_type": "code",
   "execution_count": 34,
   "metadata": {},
   "outputs": [
    {
     "data": {
      "text/html": [
       "<table>\n",
       "<thead><tr><th></th><th scope=col>mpg</th><th scope=col>cyl</th><th scope=col>disp</th><th scope=col>hp</th></tr></thead>\n",
       "<tbody>\n",
       "\t<tr><th scope=row>Mazda RX4</th><td>21,0</td><td>6   </td><td>160 </td><td>110 </td></tr>\n",
       "\t<tr><th scope=row>Mazda RX4 Wag</th><td>21,0</td><td>6   </td><td>160 </td><td>110 </td></tr>\n",
       "\t<tr><th scope=row>Datsun 710</th><td>22,8</td><td>4   </td><td>108 </td><td> 93 </td></tr>\n",
       "\t<tr><th scope=row>Hornet 4 Drive</th><td>21,4</td><td>6   </td><td>258 </td><td>110 </td></tr>\n",
       "\t<tr><th scope=row>Hornet Sportabout</th><td>18,7</td><td>8   </td><td>360 </td><td>175 </td></tr>\n",
       "\t<tr><th scope=row>Valiant</th><td>18,1</td><td>6   </td><td>225 </td><td>105 </td></tr>\n",
       "</tbody>\n",
       "</table>\n"
      ],
      "text/latex": [
       "\\begin{tabular}{r|llll}\n",
       "  & mpg & cyl & disp & hp\\\\\n",
       "\\hline\n",
       "\tMazda RX4 & 21,0 & 6    & 160  & 110 \\\\\n",
       "\tMazda RX4 Wag & 21,0 & 6    & 160  & 110 \\\\\n",
       "\tDatsun 710 & 22,8 & 4    & 108  &  93 \\\\\n",
       "\tHornet 4 Drive & 21,4 & 6    & 258  & 110 \\\\\n",
       "\tHornet Sportabout & 18,7 & 8    & 360  & 175 \\\\\n",
       "\tValiant & 18,1 & 6    & 225  & 105 \\\\\n",
       "\\end{tabular}\n"
      ],
      "text/markdown": [
       "\n",
       "| <!--/--> | mpg | cyl | disp | hp | \n",
       "|---|---|---|---|---|---|\n",
       "| Mazda RX4 | 21,0 | 6    | 160  | 110  | \n",
       "| Mazda RX4 Wag | 21,0 | 6    | 160  | 110  | \n",
       "| Datsun 710 | 22,8 | 4    | 108  |  93  | \n",
       "| Hornet 4 Drive | 21,4 | 6    | 258  | 110  | \n",
       "| Hornet Sportabout | 18,7 | 8    | 360  | 175  | \n",
       "| Valiant | 18,1 | 6    | 225  | 105  | \n",
       "\n",
       "\n"
      ],
      "text/plain": [
       "                  mpg  cyl disp hp \n",
       "Mazda RX4         21,0 6   160  110\n",
       "Mazda RX4 Wag     21,0 6   160  110\n",
       "Datsun 710        22,8 4   108   93\n",
       "Hornet 4 Drive    21,4 6   258  110\n",
       "Hornet Sportabout 18,7 8   360  175\n",
       "Valiant           18,1 6   225  105"
      ]
     },
     "metadata": {},
     "output_type": "display_data"
    }
   ],
   "source": [
    "#--- one can filter columns and put them in another database\n",
    "mtc2 = mtcars[, c('mpg','cyl','disp','hp')]\n",
    "head(mtc2)"
   ]
  },
  {
   "cell_type": "code",
   "execution_count": 35,
   "metadata": {},
   "outputs": [
    {
     "data": {
      "text/html": [
       "<table>\n",
       "<thead><tr><th></th><th scope=col>miles.per.gear</th><th scope=col>cylinder</th><th scope=col>displacement</th><th scope=col>hp</th></tr></thead>\n",
       "<tbody>\n",
       "\t<tr><th scope=row>Mazda RX4</th><td>21,0</td><td>6   </td><td>160 </td><td>110 </td></tr>\n",
       "\t<tr><th scope=row>Mazda RX4 Wag</th><td>21,0</td><td>6   </td><td>160 </td><td>110 </td></tr>\n",
       "\t<tr><th scope=row>Datsun 710</th><td>22,8</td><td>4   </td><td>108 </td><td> 93 </td></tr>\n",
       "\t<tr><th scope=row>Hornet 4 Drive</th><td>21,4</td><td>6   </td><td>258 </td><td>110 </td></tr>\n",
       "\t<tr><th scope=row>Hornet Sportabout</th><td>18,7</td><td>8   </td><td>360 </td><td>175 </td></tr>\n",
       "\t<tr><th scope=row>Valiant</th><td>18,1</td><td>6   </td><td>225 </td><td>105 </td></tr>\n",
       "</tbody>\n",
       "</table>\n"
      ],
      "text/latex": [
       "\\begin{tabular}{r|llll}\n",
       "  & miles.per.gear & cylinder & displacement & hp\\\\\n",
       "\\hline\n",
       "\tMazda RX4 & 21,0 & 6    & 160  & 110 \\\\\n",
       "\tMazda RX4 Wag & 21,0 & 6    & 160  & 110 \\\\\n",
       "\tDatsun 710 & 22,8 & 4    & 108  &  93 \\\\\n",
       "\tHornet 4 Drive & 21,4 & 6    & 258  & 110 \\\\\n",
       "\tHornet Sportabout & 18,7 & 8    & 360  & 175 \\\\\n",
       "\tValiant & 18,1 & 6    & 225  & 105 \\\\\n",
       "\\end{tabular}\n"
      ],
      "text/markdown": [
       "\n",
       "| <!--/--> | miles.per.gear | cylinder | displacement | hp | \n",
       "|---|---|---|---|---|---|\n",
       "| Mazda RX4 | 21,0 | 6    | 160  | 110  | \n",
       "| Mazda RX4 Wag | 21,0 | 6    | 160  | 110  | \n",
       "| Datsun 710 | 22,8 | 4    | 108  |  93  | \n",
       "| Hornet 4 Drive | 21,4 | 6    | 258  | 110  | \n",
       "| Hornet Sportabout | 18,7 | 8    | 360  | 175  | \n",
       "| Valiant | 18,1 | 6    | 225  | 105  | \n",
       "\n",
       "\n"
      ],
      "text/plain": [
       "                  miles.per.gear cylinder displacement hp \n",
       "Mazda RX4         21,0           6        160          110\n",
       "Mazda RX4 Wag     21,0           6        160          110\n",
       "Datsun 710        22,8           4        108           93\n",
       "Hornet 4 Drive    21,4           6        258          110\n",
       "Hornet Sportabout 18,7           8        360          175\n",
       "Valiant           18,1           6        225          105"
      ]
     },
     "metadata": {},
     "output_type": "display_data"
    }
   ],
   "source": [
    "#-- one can rename columns\n",
    "colnames(mtc2) = c('miles.per.gear','cylinder','displacement','hp')\n",
    "head(mtc2)"
   ]
  },
  {
   "cell_type": "code",
   "execution_count": 36,
   "metadata": {},
   "outputs": [
    {
     "data": {
      "text/html": [
       "<table>\n",
       "<thead><tr><th></th><th scope=col>cylinder</th><th scope=col>hp</th><th scope=col>miles.per.gear</th><th scope=col>displacement</th></tr></thead>\n",
       "<tbody>\n",
       "\t<tr><th scope=row>Mazda RX4</th><td>6   </td><td>110 </td><td>21,0</td><td>160 </td></tr>\n",
       "\t<tr><th scope=row>Mazda RX4 Wag</th><td>6   </td><td>110 </td><td>21,0</td><td>160 </td></tr>\n",
       "\t<tr><th scope=row>Datsun 710</th><td>4   </td><td> 93 </td><td>22,8</td><td>108 </td></tr>\n",
       "\t<tr><th scope=row>Hornet 4 Drive</th><td>6   </td><td>110 </td><td>21,4</td><td>258 </td></tr>\n",
       "\t<tr><th scope=row>Hornet Sportabout</th><td>8   </td><td>175 </td><td>18,7</td><td>360 </td></tr>\n",
       "\t<tr><th scope=row>Valiant</th><td>6   </td><td>105 </td><td>18,1</td><td>225 </td></tr>\n",
       "</tbody>\n",
       "</table>\n"
      ],
      "text/latex": [
       "\\begin{tabular}{r|llll}\n",
       "  & cylinder & hp & miles.per.gear & displacement\\\\\n",
       "\\hline\n",
       "\tMazda RX4 & 6    & 110  & 21,0 & 160 \\\\\n",
       "\tMazda RX4 Wag & 6    & 110  & 21,0 & 160 \\\\\n",
       "\tDatsun 710 & 4    &  93  & 22,8 & 108 \\\\\n",
       "\tHornet 4 Drive & 6    & 110  & 21,4 & 258 \\\\\n",
       "\tHornet Sportabout & 8    & 175  & 18,7 & 360 \\\\\n",
       "\tValiant & 6    & 105  & 18,1 & 225 \\\\\n",
       "\\end{tabular}\n"
      ],
      "text/markdown": [
       "\n",
       "| <!--/--> | cylinder | hp | miles.per.gear | displacement | \n",
       "|---|---|---|---|---|---|\n",
       "| Mazda RX4 | 6    | 110  | 21,0 | 160  | \n",
       "| Mazda RX4 Wag | 6    | 110  | 21,0 | 160  | \n",
       "| Datsun 710 | 4    |  93  | 22,8 | 108  | \n",
       "| Hornet 4 Drive | 6    | 110  | 21,4 | 258  | \n",
       "| Hornet Sportabout | 8    | 175  | 18,7 | 360  | \n",
       "| Valiant | 6    | 105  | 18,1 | 225  | \n",
       "\n",
       "\n"
      ],
      "text/plain": [
       "                  cylinder hp  miles.per.gear displacement\n",
       "Mazda RX4         6        110 21,0           160         \n",
       "Mazda RX4 Wag     6        110 21,0           160         \n",
       "Datsun 710        4         93 22,8           108         \n",
       "Hornet 4 Drive    6        110 21,4           258         \n",
       "Hornet Sportabout 8        175 18,7           360         \n",
       "Valiant           6        105 18,1           225         "
      ]
     },
     "metadata": {},
     "output_type": "display_data"
    }
   ],
   "source": [
    "#--- one can reorder the columns\n",
    "\n",
    "mtc2 = mtc2[ , c('cylinder', 'hp', 'miles.per.gear','displacement')]\n",
    "head(mtc2)"
   ]
  },
  {
   "cell_type": "code",
   "execution_count": 37,
   "metadata": {},
   "outputs": [],
   "source": [
    "#-- one can merge lines"
   ]
  },
  {
   "cell_type": "code",
   "execution_count": 38,
   "metadata": {},
   "outputs": [
    {
     "data": {
      "text/html": [
       "<table>\n",
       "<thead><tr><th></th><th scope=col>cylinder</th><th scope=col>hp</th><th scope=col>miles.per.gear</th><th scope=col>displacement</th></tr></thead>\n",
       "<tbody>\n",
       "\t<tr><th scope=row>Mazda RX4</th><td>6   </td><td>110 </td><td>21,0</td><td>160 </td></tr>\n",
       "\t<tr><th scope=row>Mazda RX4 Wag</th><td>6   </td><td>110 </td><td>21,0</td><td>160 </td></tr>\n",
       "\t<tr><th scope=row>Datsun 710</th><td>4   </td><td> 93 </td><td>22,8</td><td>108 </td></tr>\n",
       "\t<tr><th scope=row>Hornet 4 Drive</th><td>6   </td><td>110 </td><td>21,4</td><td>258 </td></tr>\n",
       "\t<tr><th scope=row>Hornet Sportabout</th><td>8   </td><td>175 </td><td>18,7</td><td>360 </td></tr>\n",
       "</tbody>\n",
       "</table>\n"
      ],
      "text/latex": [
       "\\begin{tabular}{r|llll}\n",
       "  & cylinder & hp & miles.per.gear & displacement\\\\\n",
       "\\hline\n",
       "\tMazda RX4 & 6    & 110  & 21,0 & 160 \\\\\n",
       "\tMazda RX4 Wag & 6    & 110  & 21,0 & 160 \\\\\n",
       "\tDatsun 710 & 4    &  93  & 22,8 & 108 \\\\\n",
       "\tHornet 4 Drive & 6    & 110  & 21,4 & 258 \\\\\n",
       "\tHornet Sportabout & 8    & 175  & 18,7 & 360 \\\\\n",
       "\\end{tabular}\n"
      ],
      "text/markdown": [
       "\n",
       "| <!--/--> | cylinder | hp | miles.per.gear | displacement | \n",
       "|---|---|---|---|---|\n",
       "| Mazda RX4 | 6    | 110  | 21,0 | 160  | \n",
       "| Mazda RX4 Wag | 6    | 110  | 21,0 | 160  | \n",
       "| Datsun 710 | 4    |  93  | 22,8 | 108  | \n",
       "| Hornet 4 Drive | 6    | 110  | 21,4 | 258  | \n",
       "| Hornet Sportabout | 8    | 175  | 18,7 | 360  | \n",
       "\n",
       "\n"
      ],
      "text/plain": [
       "                  cylinder hp  miles.per.gear displacement\n",
       "Mazda RX4         6        110 21,0           160         \n",
       "Mazda RX4 Wag     6        110 21,0           160         \n",
       "Datsun 710        4         93 22,8           108         \n",
       "Hornet 4 Drive    6        110 21,4           258         \n",
       "Hornet Sportabout 8        175 18,7           360         "
      ]
     },
     "metadata": {},
     "output_type": "display_data"
    }
   ],
   "source": [
    "m1 = mtc2[1:5, ]\n",
    "m1"
   ]
  },
  {
   "cell_type": "code",
   "execution_count": 39,
   "metadata": {},
   "outputs": [
    {
     "data": {
      "text/html": [
       "<table>\n",
       "<thead><tr><th></th><th scope=col>cylinder</th><th scope=col>hp</th><th scope=col>miles.per.gear</th><th scope=col>displacement</th></tr></thead>\n",
       "<tbody>\n",
       "\t<tr><th scope=row>Merc 280C</th><td>6    </td><td>123  </td><td>17,8 </td><td>167,6</td></tr>\n",
       "\t<tr><th scope=row>Merc 450SE</th><td>8    </td><td>180  </td><td>16,4 </td><td>275,8</td></tr>\n",
       "\t<tr><th scope=row>Merc 450SL</th><td>8    </td><td>180  </td><td>17,3 </td><td>275,8</td></tr>\n",
       "\t<tr><th scope=row>Merc 450SLC</th><td>8    </td><td>180  </td><td>15,2 </td><td>275,8</td></tr>\n",
       "\t<tr><th scope=row>Cadillac Fleetwood</th><td>8    </td><td>205  </td><td>10,4 </td><td>472,0</td></tr>\n",
       "</tbody>\n",
       "</table>\n"
      ],
      "text/latex": [
       "\\begin{tabular}{r|llll}\n",
       "  & cylinder & hp & miles.per.gear & displacement\\\\\n",
       "\\hline\n",
       "\tMerc 280C & 6     & 123   & 17,8  & 167,6\\\\\n",
       "\tMerc 450SE & 8     & 180   & 16,4  & 275,8\\\\\n",
       "\tMerc 450SL & 8     & 180   & 17,3  & 275,8\\\\\n",
       "\tMerc 450SLC & 8     & 180   & 15,2  & 275,8\\\\\n",
       "\tCadillac Fleetwood & 8     & 205   & 10,4  & 472,0\\\\\n",
       "\\end{tabular}\n"
      ],
      "text/markdown": [
       "\n",
       "| <!--/--> | cylinder | hp | miles.per.gear | displacement | \n",
       "|---|---|---|---|---|\n",
       "| Merc 280C | 6     | 123   | 17,8  | 167,6 | \n",
       "| Merc 450SE | 8     | 180   | 16,4  | 275,8 | \n",
       "| Merc 450SL | 8     | 180   | 17,3  | 275,8 | \n",
       "| Merc 450SLC | 8     | 180   | 15,2  | 275,8 | \n",
       "| Cadillac Fleetwood | 8     | 205   | 10,4  | 472,0 | \n",
       "\n",
       "\n"
      ],
      "text/plain": [
       "                   cylinder hp  miles.per.gear displacement\n",
       "Merc 280C          6        123 17,8           167,6       \n",
       "Merc 450SE         8        180 16,4           275,8       \n",
       "Merc 450SL         8        180 17,3           275,8       \n",
       "Merc 450SLC        8        180 15,2           275,8       \n",
       "Cadillac Fleetwood 8        205 10,4           472,0       "
      ]
     },
     "metadata": {},
     "output_type": "display_data"
    }
   ],
   "source": [
    "m2 = mtc2[11:15, ]\n",
    "m2"
   ]
  },
  {
   "cell_type": "code",
   "execution_count": 40,
   "metadata": {},
   "outputs": [
    {
     "data": {
      "text/html": [
       "<table>\n",
       "<thead><tr><th></th><th scope=col>cylinder</th><th scope=col>hp</th><th scope=col>miles.per.gear</th><th scope=col>displacement</th></tr></thead>\n",
       "<tbody>\n",
       "\t<tr><th scope=row>Mazda RX4</th><td>6    </td><td>110  </td><td>21,0 </td><td>160,0</td></tr>\n",
       "\t<tr><th scope=row>Mazda RX4 Wag</th><td>6    </td><td>110  </td><td>21,0 </td><td>160,0</td></tr>\n",
       "\t<tr><th scope=row>Datsun 710</th><td>4    </td><td> 93  </td><td>22,8 </td><td>108,0</td></tr>\n",
       "\t<tr><th scope=row>Hornet 4 Drive</th><td>6    </td><td>110  </td><td>21,4 </td><td>258,0</td></tr>\n",
       "\t<tr><th scope=row>Hornet Sportabout</th><td>8    </td><td>175  </td><td>18,7 </td><td>360,0</td></tr>\n",
       "\t<tr><th scope=row>Merc 280C</th><td>6    </td><td>123  </td><td>17,8 </td><td>167,6</td></tr>\n",
       "\t<tr><th scope=row>Merc 450SE</th><td>8    </td><td>180  </td><td>16,4 </td><td>275,8</td></tr>\n",
       "\t<tr><th scope=row>Merc 450SL</th><td>8    </td><td>180  </td><td>17,3 </td><td>275,8</td></tr>\n",
       "\t<tr><th scope=row>Merc 450SLC</th><td>8    </td><td>180  </td><td>15,2 </td><td>275,8</td></tr>\n",
       "\t<tr><th scope=row>Cadillac Fleetwood</th><td>8    </td><td>205  </td><td>10,4 </td><td>472,0</td></tr>\n",
       "</tbody>\n",
       "</table>\n"
      ],
      "text/latex": [
       "\\begin{tabular}{r|llll}\n",
       "  & cylinder & hp & miles.per.gear & displacement\\\\\n",
       "\\hline\n",
       "\tMazda RX4 & 6     & 110   & 21,0  & 160,0\\\\\n",
       "\tMazda RX4 Wag & 6     & 110   & 21,0  & 160,0\\\\\n",
       "\tDatsun 710 & 4     &  93   & 22,8  & 108,0\\\\\n",
       "\tHornet 4 Drive & 6     & 110   & 21,4  & 258,0\\\\\n",
       "\tHornet Sportabout & 8     & 175   & 18,7  & 360,0\\\\\n",
       "\tMerc 280C & 6     & 123   & 17,8  & 167,6\\\\\n",
       "\tMerc 450SE & 8     & 180   & 16,4  & 275,8\\\\\n",
       "\tMerc 450SL & 8     & 180   & 17,3  & 275,8\\\\\n",
       "\tMerc 450SLC & 8     & 180   & 15,2  & 275,8\\\\\n",
       "\tCadillac Fleetwood & 8     & 205   & 10,4  & 472,0\\\\\n",
       "\\end{tabular}\n"
      ],
      "text/markdown": [
       "\n",
       "| <!--/--> | cylinder | hp | miles.per.gear | displacement | \n",
       "|---|---|---|---|---|---|---|---|---|---|\n",
       "| Mazda RX4 | 6     | 110   | 21,0  | 160,0 | \n",
       "| Mazda RX4 Wag | 6     | 110   | 21,0  | 160,0 | \n",
       "| Datsun 710 | 4     |  93   | 22,8  | 108,0 | \n",
       "| Hornet 4 Drive | 6     | 110   | 21,4  | 258,0 | \n",
       "| Hornet Sportabout | 8     | 175   | 18,7  | 360,0 | \n",
       "| Merc 280C | 6     | 123   | 17,8  | 167,6 | \n",
       "| Merc 450SE | 8     | 180   | 16,4  | 275,8 | \n",
       "| Merc 450SL | 8     | 180   | 17,3  | 275,8 | \n",
       "| Merc 450SLC | 8     | 180   | 15,2  | 275,8 | \n",
       "| Cadillac Fleetwood | 8     | 205   | 10,4  | 472,0 | \n",
       "\n",
       "\n"
      ],
      "text/plain": [
       "                   cylinder hp  miles.per.gear displacement\n",
       "Mazda RX4          6        110 21,0           160,0       \n",
       "Mazda RX4 Wag      6        110 21,0           160,0       \n",
       "Datsun 710         4         93 22,8           108,0       \n",
       "Hornet 4 Drive     6        110 21,4           258,0       \n",
       "Hornet Sportabout  8        175 18,7           360,0       \n",
       "Merc 280C          6        123 17,8           167,6       \n",
       "Merc 450SE         8        180 16,4           275,8       \n",
       "Merc 450SL         8        180 17,3           275,8       \n",
       "Merc 450SLC        8        180 15,2           275,8       \n",
       "Cadillac Fleetwood 8        205 10,4           472,0       "
      ]
     },
     "metadata": {},
     "output_type": "display_data"
    }
   ],
   "source": [
    "rbind(m1, m2)"
   ]
  },
  {
   "cell_type": "code",
   "execution_count": 41,
   "metadata": {},
   "outputs": [],
   "source": [
    "#-- on can merge columns"
   ]
  },
  {
   "cell_type": "code",
   "execution_count": 42,
   "metadata": {},
   "outputs": [
    {
     "data": {
      "text/html": [
       "<table>\n",
       "<thead><tr><th></th><th scope=col>cylinder</th><th scope=col>hp</th></tr></thead>\n",
       "<tbody>\n",
       "\t<tr><th scope=row>Mazda RX4</th><td>6  </td><td>110</td></tr>\n",
       "\t<tr><th scope=row>Mazda RX4 Wag</th><td>6  </td><td>110</td></tr>\n",
       "\t<tr><th scope=row>Datsun 710</th><td>4  </td><td> 93</td></tr>\n",
       "\t<tr><th scope=row>Hornet 4 Drive</th><td>6  </td><td>110</td></tr>\n",
       "\t<tr><th scope=row>Hornet Sportabout</th><td>8  </td><td>175</td></tr>\n",
       "</tbody>\n",
       "</table>\n"
      ],
      "text/latex": [
       "\\begin{tabular}{r|ll}\n",
       "  & cylinder & hp\\\\\n",
       "\\hline\n",
       "\tMazda RX4 & 6   & 110\\\\\n",
       "\tMazda RX4 Wag & 6   & 110\\\\\n",
       "\tDatsun 710 & 4   &  93\\\\\n",
       "\tHornet 4 Drive & 6   & 110\\\\\n",
       "\tHornet Sportabout & 8   & 175\\\\\n",
       "\\end{tabular}\n"
      ],
      "text/markdown": [
       "\n",
       "| <!--/--> | cylinder | hp | \n",
       "|---|---|---|---|---|\n",
       "| Mazda RX4 | 6   | 110 | \n",
       "| Mazda RX4 Wag | 6   | 110 | \n",
       "| Datsun 710 | 4   |  93 | \n",
       "| Hornet 4 Drive | 6   | 110 | \n",
       "| Hornet Sportabout | 8   | 175 | \n",
       "\n",
       "\n"
      ],
      "text/plain": [
       "                  cylinder hp \n",
       "Mazda RX4         6        110\n",
       "Mazda RX4 Wag     6        110\n",
       "Datsun 710        4         93\n",
       "Hornet 4 Drive    6        110\n",
       "Hornet Sportabout 8        175"
      ]
     },
     "metadata": {},
     "output_type": "display_data"
    }
   ],
   "source": [
    "m1 <- mtc2[1:5, 1:2]\n",
    "m1"
   ]
  },
  {
   "cell_type": "code",
   "execution_count": 43,
   "metadata": {},
   "outputs": [
    {
     "data": {
      "text/html": [
       "<table>\n",
       "<thead><tr><th></th><th scope=col>miles.per.gear</th><th scope=col>displacement</th></tr></thead>\n",
       "<tbody>\n",
       "\t<tr><th scope=row>Mazda RX4</th><td>21,0</td><td>160 </td></tr>\n",
       "\t<tr><th scope=row>Mazda RX4 Wag</th><td>21,0</td><td>160 </td></tr>\n",
       "\t<tr><th scope=row>Datsun 710</th><td>22,8</td><td>108 </td></tr>\n",
       "\t<tr><th scope=row>Hornet 4 Drive</th><td>21,4</td><td>258 </td></tr>\n",
       "\t<tr><th scope=row>Hornet Sportabout</th><td>18,7</td><td>360 </td></tr>\n",
       "</tbody>\n",
       "</table>\n"
      ],
      "text/latex": [
       "\\begin{tabular}{r|ll}\n",
       "  & miles.per.gear & displacement\\\\\n",
       "\\hline\n",
       "\tMazda RX4 & 21,0 & 160 \\\\\n",
       "\tMazda RX4 Wag & 21,0 & 160 \\\\\n",
       "\tDatsun 710 & 22,8 & 108 \\\\\n",
       "\tHornet 4 Drive & 21,4 & 258 \\\\\n",
       "\tHornet Sportabout & 18,7 & 360 \\\\\n",
       "\\end{tabular}\n"
      ],
      "text/markdown": [
       "\n",
       "| <!--/--> | miles.per.gear | displacement | \n",
       "|---|---|---|---|---|\n",
       "| Mazda RX4 | 21,0 | 160  | \n",
       "| Mazda RX4 Wag | 21,0 | 160  | \n",
       "| Datsun 710 | 22,8 | 108  | \n",
       "| Hornet 4 Drive | 21,4 | 258  | \n",
       "| Hornet Sportabout | 18,7 | 360  | \n",
       "\n",
       "\n"
      ],
      "text/plain": [
       "                  miles.per.gear displacement\n",
       "Mazda RX4         21,0           160         \n",
       "Mazda RX4 Wag     21,0           160         \n",
       "Datsun 710        22,8           108         \n",
       "Hornet 4 Drive    21,4           258         \n",
       "Hornet Sportabout 18,7           360         "
      ]
     },
     "metadata": {},
     "output_type": "display_data"
    }
   ],
   "source": [
    "m2 = mtc2[1:5, 3:4]\n",
    "m2"
   ]
  },
  {
   "cell_type": "code",
   "execution_count": 44,
   "metadata": {},
   "outputs": [
    {
     "data": {
      "text/html": [
       "<table>\n",
       "<thead><tr><th></th><th scope=col>cylinder</th><th scope=col>hp</th><th scope=col>miles.per.gear</th><th scope=col>displacement</th></tr></thead>\n",
       "<tbody>\n",
       "\t<tr><th scope=row>Mazda RX4</th><td>6   </td><td>110 </td><td>21,0</td><td>160 </td></tr>\n",
       "\t<tr><th scope=row>Mazda RX4 Wag</th><td>6   </td><td>110 </td><td>21,0</td><td>160 </td></tr>\n",
       "\t<tr><th scope=row>Datsun 710</th><td>4   </td><td> 93 </td><td>22,8</td><td>108 </td></tr>\n",
       "\t<tr><th scope=row>Hornet 4 Drive</th><td>6   </td><td>110 </td><td>21,4</td><td>258 </td></tr>\n",
       "\t<tr><th scope=row>Hornet Sportabout</th><td>8   </td><td>175 </td><td>18,7</td><td>360 </td></tr>\n",
       "</tbody>\n",
       "</table>\n"
      ],
      "text/latex": [
       "\\begin{tabular}{r|llll}\n",
       "  & cylinder & hp & miles.per.gear & displacement\\\\\n",
       "\\hline\n",
       "\tMazda RX4 & 6    & 110  & 21,0 & 160 \\\\\n",
       "\tMazda RX4 Wag & 6    & 110  & 21,0 & 160 \\\\\n",
       "\tDatsun 710 & 4    &  93  & 22,8 & 108 \\\\\n",
       "\tHornet 4 Drive & 6    & 110  & 21,4 & 258 \\\\\n",
       "\tHornet Sportabout & 8    & 175  & 18,7 & 360 \\\\\n",
       "\\end{tabular}\n"
      ],
      "text/markdown": [
       "\n",
       "| <!--/--> | cylinder | hp | miles.per.gear | displacement | \n",
       "|---|---|---|---|---|\n",
       "| Mazda RX4 | 6    | 110  | 21,0 | 160  | \n",
       "| Mazda RX4 Wag | 6    | 110  | 21,0 | 160  | \n",
       "| Datsun 710 | 4    |  93  | 22,8 | 108  | \n",
       "| Hornet 4 Drive | 6    | 110  | 21,4 | 258  | \n",
       "| Hornet Sportabout | 8    | 175  | 18,7 | 360  | \n",
       "\n",
       "\n"
      ],
      "text/plain": [
       "                  cylinder hp  miles.per.gear displacement\n",
       "Mazda RX4         6        110 21,0           160         \n",
       "Mazda RX4 Wag     6        110 21,0           160         \n",
       "Datsun 710        4         93 22,8           108         \n",
       "Hornet 4 Drive    6        110 21,4           258         \n",
       "Hornet Sportabout 8        175 18,7           360         "
      ]
     },
     "metadata": {},
     "output_type": "display_data"
    }
   ],
   "source": [
    "cbind(m1,m2)"
   ]
  },
  {
   "cell_type": "code",
   "execution_count": 45,
   "metadata": {},
   "outputs": [
    {
     "name": "stdout",
     "output_type": "stream",
     "text": [
      "    a  b  c\n",
      "r1 17 80 38\n",
      "r2 33 60 99\n",
      "r3 13 30 57\n",
      "    a  b  c\n",
      "r1 51 59 80\n",
      "r2 73 16 94\n",
      "r3 76 85 66\n"
     ]
    }
   ],
   "source": [
    "#-- these operations can be also used in matrices\n",
    "\n",
    "\n",
    "set.seed(3)\n",
    "\n",
    "v1 = sample.int(100, 3)\n",
    "v2 = sample.int(100, 3)\n",
    "v3 = sample.int(100, 3)\n",
    "\n",
    "mat1 = matrix( c(v1,v2,v3), ncol=3, nrow=3, byrow = T)\n",
    "colnames(mat1) = c(\"a\", \"b\", \"c\")\n",
    "rownames(mat1) = c(\"r1\", \"r2\", \"r3\")\n",
    "\n",
    "\n",
    "set.seed(32)\n",
    "\n",
    "v1 = sample.int(100, 3)\n",
    "v2 = sample.int(100, 3)\n",
    "v3 = sample.int(100, 3)\n",
    "\n",
    "mat2 = matrix( c(v1,v2,v3), ncol=3, nrow=3, byrow = T)\n",
    "\n",
    "colnames(mat2) = c(\"a\", \"b\", \"c\")\n",
    "rownames(mat2) = c(\"r1\", \"r2\", \"r3\")\n",
    "\n",
    "print(mat1)\n",
    "print(mat2)"
   ]
  },
  {
   "cell_type": "markdown",
   "metadata": {},
   "source": [
    "### Binding by rows or by columns"
   ]
  },
  {
   "cell_type": "code",
   "execution_count": 46,
   "metadata": {},
   "outputs": [
    {
     "data": {
      "text/html": [
       "<table>\n",
       "<thead><tr><th></th><th scope=col>a</th><th scope=col>b</th><th scope=col>c</th></tr></thead>\n",
       "<tbody>\n",
       "\t<tr><th scope=row>r1</th><td>17</td><td>80</td><td>38</td></tr>\n",
       "\t<tr><th scope=row>r2</th><td>33</td><td>60</td><td>99</td></tr>\n",
       "\t<tr><th scope=row>r3</th><td>13</td><td>30</td><td>57</td></tr>\n",
       "\t<tr><th scope=row>r1</th><td>51</td><td>59</td><td>80</td></tr>\n",
       "\t<tr><th scope=row>r2</th><td>73</td><td>16</td><td>94</td></tr>\n",
       "\t<tr><th scope=row>r3</th><td>76</td><td>85</td><td>66</td></tr>\n",
       "</tbody>\n",
       "</table>\n"
      ],
      "text/latex": [
       "\\begin{tabular}{r|lll}\n",
       "  & a & b & c\\\\\n",
       "\\hline\n",
       "\tr1 & 17 & 80 & 38\\\\\n",
       "\tr2 & 33 & 60 & 99\\\\\n",
       "\tr3 & 13 & 30 & 57\\\\\n",
       "\tr1 & 51 & 59 & 80\\\\\n",
       "\tr2 & 73 & 16 & 94\\\\\n",
       "\tr3 & 76 & 85 & 66\\\\\n",
       "\\end{tabular}\n"
      ],
      "text/markdown": [
       "\n",
       "| <!--/--> | a | b | c | \n",
       "|---|---|---|---|---|---|\n",
       "| r1 | 17 | 80 | 38 | \n",
       "| r2 | 33 | 60 | 99 | \n",
       "| r3 | 13 | 30 | 57 | \n",
       "| r1 | 51 | 59 | 80 | \n",
       "| r2 | 73 | 16 | 94 | \n",
       "| r3 | 76 | 85 | 66 | \n",
       "\n",
       "\n"
      ],
      "text/plain": [
       "   a  b  c \n",
       "r1 17 80 38\n",
       "r2 33 60 99\n",
       "r3 13 30 57\n",
       "r1 51 59 80\n",
       "r2 73 16 94\n",
       "r3 76 85 66"
      ]
     },
     "metadata": {},
     "output_type": "display_data"
    }
   ],
   "source": [
    "#--- row binding\n",
    "rbind(mat1, mat2)"
   ]
  },
  {
   "cell_type": "code",
   "execution_count": 47,
   "metadata": {},
   "outputs": [
    {
     "data": {
      "text/html": [
       "<table>\n",
       "<thead><tr><th></th><th scope=col>a</th><th scope=col>b</th><th scope=col>c</th><th scope=col>a</th><th scope=col>b</th><th scope=col>c</th></tr></thead>\n",
       "<tbody>\n",
       "\t<tr><th scope=row>r1</th><td>17</td><td>80</td><td>38</td><td>51</td><td>59</td><td>80</td></tr>\n",
       "\t<tr><th scope=row>r2</th><td>33</td><td>60</td><td>99</td><td>73</td><td>16</td><td>94</td></tr>\n",
       "\t<tr><th scope=row>r3</th><td>13</td><td>30</td><td>57</td><td>76</td><td>85</td><td>66</td></tr>\n",
       "</tbody>\n",
       "</table>\n"
      ],
      "text/latex": [
       "\\begin{tabular}{r|llllll}\n",
       "  & a & b & c & a & b & c\\\\\n",
       "\\hline\n",
       "\tr1 & 17 & 80 & 38 & 51 & 59 & 80\\\\\n",
       "\tr2 & 33 & 60 & 99 & 73 & 16 & 94\\\\\n",
       "\tr3 & 13 & 30 & 57 & 76 & 85 & 66\\\\\n",
       "\\end{tabular}\n"
      ],
      "text/markdown": [
       "\n",
       "| <!--/--> | a | b | c | a | b | c | \n",
       "|---|---|---|\n",
       "| r1 | 17 | 80 | 38 | 51 | 59 | 80 | \n",
       "| r2 | 33 | 60 | 99 | 73 | 16 | 94 | \n",
       "| r3 | 13 | 30 | 57 | 76 | 85 | 66 | \n",
       "\n",
       "\n"
      ],
      "text/plain": [
       "   a  b  c  a  b  c \n",
       "r1 17 80 38 51 59 80\n",
       "r2 33 60 99 73 16 94\n",
       "r3 13 30 57 76 85 66"
      ]
     },
     "metadata": {},
     "output_type": "display_data"
    }
   ],
   "source": [
    "#--- column binding\n",
    "cbind(mat1, mat2)"
   ]
  },
  {
   "cell_type": "markdown",
   "metadata": {},
   "source": [
    "### Lets complicate a little with dataframe"
   ]
  },
  {
   "cell_type": "code",
   "execution_count": 48,
   "metadata": {},
   "outputs": [
    {
     "data": {
      "text/html": [
       "<ol class=list-inline>\n",
       "\t<li>'mpg'</li>\n",
       "\t<li>'cyl'</li>\n",
       "\t<li>'disp'</li>\n",
       "\t<li>'hp'</li>\n",
       "\t<li>'drat'</li>\n",
       "\t<li>'wt'</li>\n",
       "\t<li>'qsec'</li>\n",
       "\t<li>'vs'</li>\n",
       "\t<li>'am'</li>\n",
       "\t<li>'gear'</li>\n",
       "\t<li>'carb'</li>\n",
       "</ol>\n"
      ],
      "text/latex": [
       "\\begin{enumerate*}\n",
       "\\item 'mpg'\n",
       "\\item 'cyl'\n",
       "\\item 'disp'\n",
       "\\item 'hp'\n",
       "\\item 'drat'\n",
       "\\item 'wt'\n",
       "\\item 'qsec'\n",
       "\\item 'vs'\n",
       "\\item 'am'\n",
       "\\item 'gear'\n",
       "\\item 'carb'\n",
       "\\end{enumerate*}\n"
      ],
      "text/markdown": [
       "1. 'mpg'\n",
       "2. 'cyl'\n",
       "3. 'disp'\n",
       "4. 'hp'\n",
       "5. 'drat'\n",
       "6. 'wt'\n",
       "7. 'qsec'\n",
       "8. 'vs'\n",
       "9. 'am'\n",
       "10. 'gear'\n",
       "11. 'carb'\n",
       "\n",
       "\n"
      ],
      "text/plain": [
       " [1] \"mpg\"  \"cyl\"  \"disp\" \"hp\"   \"drat\" \"wt\"   \"qsec\" \"vs\"   \"am\"   \"gear\"\n",
       "[11] \"carb\""
      ]
     },
     "metadata": {},
     "output_type": "display_data"
    }
   ],
   "source": [
    "colnames(mtcars)"
   ]
  },
  {
   "cell_type": "code",
   "execution_count": 49,
   "metadata": {},
   "outputs": [
    {
     "data": {
      "text/plain": [
       "\n",
       " 4  6  8 \n",
       "11  7 14 "
      ]
     },
     "metadata": {},
     "output_type": "display_data"
    }
   ],
   "source": [
    "#-- Did you understand this command? \n",
    "table(mtcars$cyl)"
   ]
  },
  {
   "cell_type": "markdown",
   "metadata": {},
   "source": [
    "### cyl = cylinder - cars with 4, 6, and 8 cylinders\n",
    "\n",
    "one can expect that:  \n",
    "  * a car with 4 cylinders is more economic, less power, high autonomy  \n",
    "  * a car with 8 cylinders is less economic (spe)  "
   ]
  },
  {
   "cell_type": "code",
   "execution_count": 50,
   "metadata": {},
   "outputs": [
    {
     "data": {
      "image/png": "[encoded data removed]",
      "text/plain": [
       "plot without title"
      ]
     },
     "metadata": {},
     "output_type": "display_data"
    }
   ],
   "source": [
    "barplot(table(mtcars$cyl), col=rainbow(n=3))"
   ]
  },
  {
   "cell_type": "code",
   "execution_count": 51,
   "metadata": {},
   "outputs": [
    {
     "data": {
      "text/plain": [
       "\n",
       "1,513 1,615 1,835 1,935  2,14   2,2  2,32 2,465  2,62  2,77  2,78 2,875  3,15 \n",
       "    1     1     1     1     1     1     1     1     1     1     1     1     1 \n",
       " 3,17  3,19 3,215 3,435  3,44  3,46  3,52  3,57  3,73  3,78  3,84 3,845  4,07 \n",
       "    1     1     1     1     3     1     1     2     1     1     1     1     1 \n",
       " 5,25 5,345 5,424 \n",
       "    1     1     1 "
      ]
     },
     "metadata": {},
     "output_type": "display_data"
    }
   ],
   "source": [
    "#-- Weight in 1000 lbs\n",
    "table(mtcars$wt)"
   ]
  },
  {
   "cell_type": "code",
   "execution_count": 52,
   "metadata": {},
   "outputs": [
    {
     "data": {
      "text/plain": [
       "\n",
       " 0  1 \n",
       "18 14 "
      ]
     },
     "metadata": {},
     "output_type": "display_data"
    }
   ],
   "source": [
    "#-- engine: 0 = v-shaped    1 = straight\n",
    "table(mtcars$vs)"
   ]
  },
  {
   "cell_type": "code",
   "execution_count": 53,
   "metadata": {},
   "outputs": [
    {
     "data": {
      "text/plain": [
       "   \n",
       "     4  6  8\n",
       "  0  1  3 14\n",
       "  1 10  4  0"
      ]
     },
     "metadata": {},
     "output_type": "display_data"
    }
   ],
   "source": [
    "#-- one can store table in a variable\n",
    "tt <- table(mtcars$vs, mtcars$cyl)\n",
    "tt"
   ]
  },
  {
   "cell_type": "code",
   "execution_count": 54,
   "metadata": {},
   "outputs": [
    {
     "data": {
      "text/html": [
       "<dl class=dl-horizontal>\n",
       "\t<dt>4</dt>\n",
       "\t\t<dd>1</dd>\n",
       "\t<dt>6</dt>\n",
       "\t\t<dd>3</dd>\n",
       "\t<dt>8</dt>\n",
       "\t\t<dd>14</dd>\n",
       "</dl>\n"
      ],
      "text/latex": [
       "\\begin{description*}\n",
       "\\item[4] 1\n",
       "\\item[6] 3\n",
       "\\item[8] 14\n",
       "\\end{description*}\n"
      ],
      "text/markdown": [
       "4\n",
       ":   16\n",
       ":   38\n",
       ":   14\n",
       "\n"
      ],
      "text/plain": [
       " 4  6  8 \n",
       " 1  3 14 "
      ]
     },
     "metadata": {},
     "output_type": "display_data"
    }
   ],
   "source": [
    "tt[1,]"
   ]
  },
  {
   "cell_type": "code",
   "execution_count": 55,
   "metadata": {},
   "outputs": [
    {
     "data": {
      "text/html": [
       "<dl class=dl-horizontal>\n",
       "\t<dt>4</dt>\n",
       "\t\t<dd>10</dd>\n",
       "\t<dt>6</dt>\n",
       "\t\t<dd>4</dd>\n",
       "\t<dt>8</dt>\n",
       "\t\t<dd>0</dd>\n",
       "</dl>\n"
      ],
      "text/latex": [
       "\\begin{description*}\n",
       "\\item[4] 10\n",
       "\\item[6] 4\n",
       "\\item[8] 0\n",
       "\\end{description*}\n"
      ],
      "text/markdown": [
       "4\n",
       ":   106\n",
       ":   48\n",
       ":   0\n",
       "\n"
      ],
      "text/plain": [
       " 4  6  8 \n",
       "10  4  0 "
      ]
     },
     "metadata": {},
     "output_type": "display_data"
    }
   ],
   "source": [
    "tt[2,]"
   ]
  },
  {
   "cell_type": "code",
   "execution_count": 56,
   "metadata": {},
   "outputs": [
    {
     "data": {
      "text/html": [
       "<table>\n",
       "<thead><tr><th scope=col>V1</th><th scope=col>V2</th><th scope=col>V3</th></tr></thead>\n",
       "<tbody>\n",
       "\t<tr><td> 1</td><td>3 </td><td>14</td></tr>\n",
       "\t<tr><td>10</td><td>4 </td><td> 0</td></tr>\n",
       "</tbody>\n",
       "</table>\n"
      ],
      "text/latex": [
       "\\begin{tabular}{r|lll}\n",
       " V1 & V2 & V3\\\\\n",
       "\\hline\n",
       "\t  1 & 3  & 14\\\\\n",
       "\t 10 & 4  &  0\\\\\n",
       "\\end{tabular}\n"
      ],
      "text/markdown": [
       "\n",
       "V1 | V2 | V3 | \n",
       "|---|---|\n",
       "|  1 | 3  | 14 | \n",
       "| 10 | 4  |  0 | \n",
       "\n",
       "\n"
      ],
      "text/plain": [
       "  V1 V2 V3\n",
       "1  1 3  14\n",
       "2 10 4   0"
      ]
     },
     "metadata": {},
     "output_type": "display_data"
    }
   ],
   "source": [
    "mat = matrix( c(tt[1,], tt[2,]), nrow=3, byrow=F)\n",
    "df = as.data.frame(t(mat))\n",
    "\n",
    "df"
   ]
  },
  {
   "cell_type": "code",
   "execution_count": 57,
   "metadata": {},
   "outputs": [
    {
     "data": {
      "text/html": [
       "<table>\n",
       "<thead><tr><th></th><th scope=col>4cyl</th><th scope=col>6cyl</th><th scope=col>8cyl</th></tr></thead>\n",
       "<tbody>\n",
       "\t<tr><th scope=row>vshape</th><td> 1</td><td>3 </td><td>14</td></tr>\n",
       "\t<tr><th scope=row>straight</th><td>10</td><td>4 </td><td> 0</td></tr>\n",
       "</tbody>\n",
       "</table>\n"
      ],
      "text/latex": [
       "\\begin{tabular}{r|lll}\n",
       "  & 4cyl & 6cyl & 8cyl\\\\\n",
       "\\hline\n",
       "\tvshape &  1 & 3  & 14\\\\\n",
       "\tstraight & 10 & 4  &  0\\\\\n",
       "\\end{tabular}\n"
      ],
      "text/markdown": [
       "\n",
       "| <!--/--> | 4cyl | 6cyl | 8cyl | \n",
       "|---|---|\n",
       "| vshape |  1 | 3  | 14 | \n",
       "| straight | 10 | 4  |  0 | \n",
       "\n",
       "\n"
      ],
      "text/plain": [
       "         4cyl 6cyl 8cyl\n",
       "vshape    1   3    14  \n",
       "straight 10   4     0  "
      ]
     },
     "metadata": {},
     "output_type": "display_data"
    }
   ],
   "source": [
    "rownames(df) = c(\"vshape\", \"straight\")\n",
    "colnames(df) = c(\"4cyl\", \"6cyl\", \"8cyl\")\n",
    "df\n"
   ]
  },
  {
   "cell_type": "code",
   "execution_count": 58,
   "metadata": {},
   "outputs": [
    {
     "data": {
      "text/html": [
       "<ol class=list-inline>\n",
       "\t<li>'mpg'</li>\n",
       "\t<li>'cyl'</li>\n",
       "\t<li>'disp'</li>\n",
       "\t<li>'hp'</li>\n",
       "\t<li>'drat'</li>\n",
       "\t<li>'wt'</li>\n",
       "\t<li>'qsec'</li>\n",
       "\t<li>'vs'</li>\n",
       "\t<li>'am'</li>\n",
       "\t<li>'gear'</li>\n",
       "\t<li>'carb'</li>\n",
       "</ol>\n"
      ],
      "text/latex": [
       "\\begin{enumerate*}\n",
       "\\item 'mpg'\n",
       "\\item 'cyl'\n",
       "\\item 'disp'\n",
       "\\item 'hp'\n",
       "\\item 'drat'\n",
       "\\item 'wt'\n",
       "\\item 'qsec'\n",
       "\\item 'vs'\n",
       "\\item 'am'\n",
       "\\item 'gear'\n",
       "\\item 'carb'\n",
       "\\end{enumerate*}\n"
      ],
      "text/markdown": [
       "1. 'mpg'\n",
       "2. 'cyl'\n",
       "3. 'disp'\n",
       "4. 'hp'\n",
       "5. 'drat'\n",
       "6. 'wt'\n",
       "7. 'qsec'\n",
       "8. 'vs'\n",
       "9. 'am'\n",
       "10. 'gear'\n",
       "11. 'carb'\n",
       "\n",
       "\n"
      ],
      "text/plain": [
       " [1] \"mpg\"  \"cyl\"  \"disp\" \"hp\"   \"drat\" \"wt\"   \"qsec\" \"vs\"   \"am\"   \"gear\"\n",
       "[11] \"carb\""
      ]
     },
     "metadata": {},
     "output_type": "display_data"
    }
   ],
   "source": [
    "colnames(mtcars)"
   ]
  },
  {
   "cell_type": "code",
   "execution_count": 59,
   "metadata": {},
   "outputs": [
    {
     "data": {
      "text/html": [
       "<table>\n",
       "<thead><tr><th></th><th scope=col>vs</th><th scope=col>hp</th><th scope=col>cyl</th></tr></thead>\n",
       "<tbody>\n",
       "\t<tr><th scope=row>Mazda RX4</th><td>0  </td><td>110</td><td>6  </td></tr>\n",
       "\t<tr><th scope=row>Mazda RX4 Wag</th><td>0  </td><td>110</td><td>6  </td></tr>\n",
       "\t<tr><th scope=row>Datsun 710</th><td>1  </td><td> 93</td><td>4  </td></tr>\n",
       "\t<tr><th scope=row>Hornet 4 Drive</th><td>1  </td><td>110</td><td>6  </td></tr>\n",
       "\t<tr><th scope=row>Hornet Sportabout</th><td>0  </td><td>175</td><td>8  </td></tr>\n",
       "\t<tr><th scope=row>Valiant</th><td>1  </td><td>105</td><td>6  </td></tr>\n",
       "\t<tr><th scope=row>Duster 360</th><td>0  </td><td>245</td><td>8  </td></tr>\n",
       "\t<tr><th scope=row>Merc 240D</th><td>1  </td><td> 62</td><td>4  </td></tr>\n",
       "\t<tr><th scope=row>Merc 230</th><td>1  </td><td> 95</td><td>4  </td></tr>\n",
       "\t<tr><th scope=row>Merc 280</th><td>1  </td><td>123</td><td>6  </td></tr>\n",
       "\t<tr><th scope=row>Merc 280C</th><td>1  </td><td>123</td><td>6  </td></tr>\n",
       "\t<tr><th scope=row>Merc 450SE</th><td>0  </td><td>180</td><td>8  </td></tr>\n",
       "</tbody>\n",
       "</table>\n"
      ],
      "text/latex": [
       "\\begin{tabular}{r|lll}\n",
       "  & vs & hp & cyl\\\\\n",
       "\\hline\n",
       "\tMazda RX4 & 0   & 110 & 6  \\\\\n",
       "\tMazda RX4 Wag & 0   & 110 & 6  \\\\\n",
       "\tDatsun 710 & 1   &  93 & 4  \\\\\n",
       "\tHornet 4 Drive & 1   & 110 & 6  \\\\\n",
       "\tHornet Sportabout & 0   & 175 & 8  \\\\\n",
       "\tValiant & 1   & 105 & 6  \\\\\n",
       "\tDuster 360 & 0   & 245 & 8  \\\\\n",
       "\tMerc 240D & 1   &  62 & 4  \\\\\n",
       "\tMerc 230 & 1   &  95 & 4  \\\\\n",
       "\tMerc 280 & 1   & 123 & 6  \\\\\n",
       "\tMerc 280C & 1   & 123 & 6  \\\\\n",
       "\tMerc 450SE & 0   & 180 & 8  \\\\\n",
       "\\end{tabular}\n"
      ],
      "text/markdown": [
       "\n",
       "| <!--/--> | vs | hp | cyl | \n",
       "|---|---|---|---|---|---|---|---|---|---|---|---|\n",
       "| Mazda RX4 | 0   | 110 | 6   | \n",
       "| Mazda RX4 Wag | 0   | 110 | 6   | \n",
       "| Datsun 710 | 1   |  93 | 4   | \n",
       "| Hornet 4 Drive | 1   | 110 | 6   | \n",
       "| Hornet Sportabout | 0   | 175 | 8   | \n",
       "| Valiant | 1   | 105 | 6   | \n",
       "| Duster 360 | 0   | 245 | 8   | \n",
       "| Merc 240D | 1   |  62 | 4   | \n",
       "| Merc 230 | 1   |  95 | 4   | \n",
       "| Merc 280 | 1   | 123 | 6   | \n",
       "| Merc 280C | 1   | 123 | 6   | \n",
       "| Merc 450SE | 0   | 180 | 8   | \n",
       "\n",
       "\n"
      ],
      "text/plain": [
       "                  vs hp  cyl\n",
       "Mazda RX4         0  110 6  \n",
       "Mazda RX4 Wag     0  110 6  \n",
       "Datsun 710        1   93 4  \n",
       "Hornet 4 Drive    1  110 6  \n",
       "Hornet Sportabout 0  175 8  \n",
       "Valiant           1  105 6  \n",
       "Duster 360        0  245 8  \n",
       "Merc 240D         1   62 4  \n",
       "Merc 230          1   95 4  \n",
       "Merc 280          1  123 6  \n",
       "Merc 280C         1  123 6  \n",
       "Merc 450SE        0  180 8  "
      ]
     },
     "metadata": {},
     "output_type": "display_data"
    }
   ],
   "source": [
    "mtcars[1:12, c(\"vs\", \"hp\", \"cyl\")]"
   ]
  },
  {
   "cell_type": "code",
   "execution_count": 60,
   "metadata": {},
   "outputs": [
    {
     "data": {
      "text/html": [
       "<table>\n",
       "<thead><tr><th></th><th scope=col>vs</th><th scope=col>hp</th><th scope=col>cyl</th></tr></thead>\n",
       "<tbody>\n",
       "\t<tr><th scope=row>Mazda RX4</th><td>0  </td><td>110</td><td>6  </td></tr>\n",
       "\t<tr><th scope=row>Mazda RX4 Wag</th><td>0  </td><td>110</td><td>6  </td></tr>\n",
       "\t<tr><th scope=row>Datsun 710</th><td>1  </td><td> 93</td><td>4  </td></tr>\n",
       "\t<tr><th scope=row>Hornet 4 Drive</th><td>1  </td><td>110</td><td>6  </td></tr>\n",
       "\t<tr><th scope=row>Hornet Sportabout</th><td>0  </td><td>175</td><td>8  </td></tr>\n",
       "\t<tr><th scope=row>Valiant</th><td>1  </td><td>105</td><td>6  </td></tr>\n",
       "</tbody>\n",
       "</table>\n"
      ],
      "text/latex": [
       "\\begin{tabular}{r|lll}\n",
       "  & vs & hp & cyl\\\\\n",
       "\\hline\n",
       "\tMazda RX4 & 0   & 110 & 6  \\\\\n",
       "\tMazda RX4 Wag & 0   & 110 & 6  \\\\\n",
       "\tDatsun 710 & 1   &  93 & 4  \\\\\n",
       "\tHornet 4 Drive & 1   & 110 & 6  \\\\\n",
       "\tHornet Sportabout & 0   & 175 & 8  \\\\\n",
       "\tValiant & 1   & 105 & 6  \\\\\n",
       "\\end{tabular}\n"
      ],
      "text/markdown": [
       "\n",
       "| <!--/--> | vs | hp | cyl | \n",
       "|---|---|---|---|---|---|\n",
       "| Mazda RX4 | 0   | 110 | 6   | \n",
       "| Mazda RX4 Wag | 0   | 110 | 6   | \n",
       "| Datsun 710 | 1   |  93 | 4   | \n",
       "| Hornet 4 Drive | 1   | 110 | 6   | \n",
       "| Hornet Sportabout | 0   | 175 | 8   | \n",
       "| Valiant | 1   | 105 | 6   | \n",
       "\n",
       "\n"
      ],
      "text/plain": [
       "                  vs hp  cyl\n",
       "Mazda RX4         0  110 6  \n",
       "Mazda RX4 Wag     0  110 6  \n",
       "Datsun 710        1   93 4  \n",
       "Hornet 4 Drive    1  110 6  \n",
       "Hornet Sportabout 0  175 8  \n",
       "Valiant           1  105 6  "
      ]
     },
     "metadata": {},
     "output_type": "display_data"
    }
   ],
   "source": [
    "head(mtcars[, c(\"vs\", \"hp\", \"cyl\")])"
   ]
  },
  {
   "cell_type": "code",
   "execution_count": 61,
   "metadata": {},
   "outputs": [
    {
     "ename": "ERROR",
     "evalue": "Error in `[.data.frame`(mtcars, , c(\"vs\", \"hp\", 2)): undefined columns selected\n",
     "output_type": "error",
     "traceback": [
      "Error in `[.data.frame`(mtcars, , c(\"vs\", \"hp\", 2)): undefined columns selected\nTraceback:\n",
      "1. head(mtcars[, c(\"vs\", \"hp\", 2)])",
      "2. mtcars[, c(\"vs\", \"hp\", 2)]",
      "3. `[.data.frame`(mtcars, , c(\"vs\", \"hp\", 2))",
      "4. stop(\"undefined columns selected\")"
     ]
    }
   ],
   "source": [
    "# we cannot do this - columns in a vector of names or vector of numbers\n",
    "head(mtcars[, c(\"vs\", \"hp\", 2)])\n"
   ]
  },
  {
   "cell_type": "code",
   "execution_count": 62,
   "metadata": {},
   "outputs": [
    {
     "data": {
      "text/html": [
       "<table>\n",
       "<thead><tr><th></th><th scope=col>vs</th><th scope=col>hp</th><th scope=col>cyl</th></tr></thead>\n",
       "<tbody>\n",
       "\t<tr><th scope=row>Mazda RX4</th><td>0  </td><td>110</td><td>6  </td></tr>\n",
       "\t<tr><th scope=row>Mazda RX4 Wag</th><td>0  </td><td>110</td><td>6  </td></tr>\n",
       "\t<tr><th scope=row>Datsun 710</th><td>1  </td><td> 93</td><td>4  </td></tr>\n",
       "\t<tr><th scope=row>Hornet 4 Drive</th><td>1  </td><td>110</td><td>6  </td></tr>\n",
       "\t<tr><th scope=row>Hornet Sportabout</th><td>0  </td><td>175</td><td>8  </td></tr>\n",
       "\t<tr><th scope=row>Valiant</th><td>1  </td><td>105</td><td>6  </td></tr>\n",
       "</tbody>\n",
       "</table>\n"
      ],
      "text/latex": [
       "\\begin{tabular}{r|lll}\n",
       "  & vs & hp & cyl\\\\\n",
       "\\hline\n",
       "\tMazda RX4 & 0   & 110 & 6  \\\\\n",
       "\tMazda RX4 Wag & 0   & 110 & 6  \\\\\n",
       "\tDatsun 710 & 1   &  93 & 4  \\\\\n",
       "\tHornet 4 Drive & 1   & 110 & 6  \\\\\n",
       "\tHornet Sportabout & 0   & 175 & 8  \\\\\n",
       "\tValiant & 1   & 105 & 6  \\\\\n",
       "\\end{tabular}\n"
      ],
      "text/markdown": [
       "\n",
       "| <!--/--> | vs | hp | cyl | \n",
       "|---|---|---|---|---|---|\n",
       "| Mazda RX4 | 0   | 110 | 6   | \n",
       "| Mazda RX4 Wag | 0   | 110 | 6   | \n",
       "| Datsun 710 | 1   |  93 | 4   | \n",
       "| Hornet 4 Drive | 1   | 110 | 6   | \n",
       "| Hornet Sportabout | 0   | 175 | 8   | \n",
       "| Valiant | 1   | 105 | 6   | \n",
       "\n",
       "\n"
      ],
      "text/plain": [
       "                  vs hp  cyl\n",
       "Mazda RX4         0  110 6  \n",
       "Mazda RX4 Wag     0  110 6  \n",
       "Datsun 710        1   93 4  \n",
       "Hornet 4 Drive    1  110 6  \n",
       "Hornet Sportabout 0  175 8  \n",
       "Valiant           1  105 6  "
      ]
     },
     "metadata": {},
     "output_type": "display_data"
    }
   ],
   "source": [
    "# but we can do this: vector of numbers\n",
    "head(mtcars[, c(8, 4, 2)])"
   ]
  },
  {
   "cell_type": "code",
   "execution_count": 63,
   "metadata": {},
   "outputs": [
    {
     "data": {
      "text/html": [
       "<table>\n",
       "<thead><tr><th></th><th scope=col>vs</th><th scope=col>hp</th><th scope=col>cyl</th></tr></thead>\n",
       "<tbody>\n",
       "\t<tr><th scope=row>Mazda RX4</th><td>0  </td><td>110</td><td>6  </td></tr>\n",
       "\t<tr><th scope=row>Mazda RX4 Wag</th><td>0  </td><td>110</td><td>6  </td></tr>\n",
       "\t<tr><th scope=row>Datsun 710</th><td>1  </td><td> 93</td><td>4  </td></tr>\n",
       "\t<tr><th scope=row>Hornet 4 Drive</th><td>1  </td><td>110</td><td>6  </td></tr>\n",
       "\t<tr><th scope=row>Hornet Sportabout</th><td>0  </td><td>175</td><td>8  </td></tr>\n",
       "\t<tr><th scope=row>Valiant</th><td>1  </td><td>105</td><td>6  </td></tr>\n",
       "</tbody>\n",
       "</table>\n"
      ],
      "text/latex": [
       "\\begin{tabular}{r|lll}\n",
       "  & vs & hp & cyl\\\\\n",
       "\\hline\n",
       "\tMazda RX4 & 0   & 110 & 6  \\\\\n",
       "\tMazda RX4 Wag & 0   & 110 & 6  \\\\\n",
       "\tDatsun 710 & 1   &  93 & 4  \\\\\n",
       "\tHornet 4 Drive & 1   & 110 & 6  \\\\\n",
       "\tHornet Sportabout & 0   & 175 & 8  \\\\\n",
       "\tValiant & 1   & 105 & 6  \\\\\n",
       "\\end{tabular}\n"
      ],
      "text/markdown": [
       "\n",
       "| <!--/--> | vs | hp | cyl | \n",
       "|---|---|---|---|---|---|\n",
       "| Mazda RX4 | 0   | 110 | 6   | \n",
       "| Mazda RX4 Wag | 0   | 110 | 6   | \n",
       "| Datsun 710 | 1   |  93 | 4   | \n",
       "| Hornet 4 Drive | 1   | 110 | 6   | \n",
       "| Hornet Sportabout | 0   | 175 | 8   | \n",
       "| Valiant | 1   | 105 | 6   | \n",
       "\n",
       "\n"
      ],
      "text/plain": [
       "                  vs hp  cyl\n",
       "Mazda RX4         0  110 6  \n",
       "Mazda RX4 Wag     0  110 6  \n",
       "Datsun 710        1   93 4  \n",
       "Hornet 4 Drive    1  110 6  \n",
       "Hornet Sportabout 0  175 8  \n",
       "Valiant           1  105 6  "
      ]
     },
     "metadata": {},
     "output_type": "display_data"
    }
   ],
   "source": [
    "# but we can do this: vector of names\n",
    "head(mtcars[, c(\"vs\", \"hp\", \"cyl\")])"
   ]
  },
  {
   "cell_type": "code",
   "execution_count": 64,
   "metadata": {},
   "outputs": [
    {
     "data": {
      "text/html": [
       "4"
      ],
      "text/latex": [
       "4"
      ],
      "text/markdown": [
       "4"
      ],
      "text/plain": [
       "[1] 4"
      ]
     },
     "metadata": {},
     "output_type": "display_data"
    }
   ],
   "source": [
    "#-- grep is a function that find a string in a text or matrix\n",
    "grep(\"hp\", colnames(mtcars))"
   ]
  },
  {
   "cell_type": "code",
   "execution_count": 65,
   "metadata": {},
   "outputs": [
    {
     "name": "stdout",
     "output_type": "stream",
     "text": [
      "[1] 8 4 2\n"
     ]
    },
    {
     "data": {
      "text/html": [
       "<table>\n",
       "<thead><tr><th></th><th scope=col>vs</th><th scope=col>hp</th><th scope=col>cyl</th></tr></thead>\n",
       "<tbody>\n",
       "\t<tr><th scope=row>Mazda RX4</th><td>0  </td><td>110</td><td>6  </td></tr>\n",
       "\t<tr><th scope=row>Mazda RX4 Wag</th><td>0  </td><td>110</td><td>6  </td></tr>\n",
       "\t<tr><th scope=row>Datsun 710</th><td>1  </td><td> 93</td><td>4  </td></tr>\n",
       "\t<tr><th scope=row>Hornet 4 Drive</th><td>1  </td><td>110</td><td>6  </td></tr>\n",
       "\t<tr><th scope=row>Hornet Sportabout</th><td>0  </td><td>175</td><td>8  </td></tr>\n",
       "\t<tr><th scope=row>Valiant</th><td>1  </td><td>105</td><td>6  </td></tr>\n",
       "</tbody>\n",
       "</table>\n"
      ],
      "text/latex": [
       "\\begin{tabular}{r|lll}\n",
       "  & vs & hp & cyl\\\\\n",
       "\\hline\n",
       "\tMazda RX4 & 0   & 110 & 6  \\\\\n",
       "\tMazda RX4 Wag & 0   & 110 & 6  \\\\\n",
       "\tDatsun 710 & 1   &  93 & 4  \\\\\n",
       "\tHornet 4 Drive & 1   & 110 & 6  \\\\\n",
       "\tHornet Sportabout & 0   & 175 & 8  \\\\\n",
       "\tValiant & 1   & 105 & 6  \\\\\n",
       "\\end{tabular}\n"
      ],
      "text/markdown": [
       "\n",
       "| <!--/--> | vs | hp | cyl | \n",
       "|---|---|---|---|---|---|\n",
       "| Mazda RX4 | 0   | 110 | 6   | \n",
       "| Mazda RX4 Wag | 0   | 110 | 6   | \n",
       "| Datsun 710 | 1   |  93 | 4   | \n",
       "| Hornet 4 Drive | 1   | 110 | 6   | \n",
       "| Hornet Sportabout | 0   | 175 | 8   | \n",
       "| Valiant | 1   | 105 | 6   | \n",
       "\n",
       "\n"
      ],
      "text/plain": [
       "                  vs hp  cyl\n",
       "Mazda RX4         0  110 6  \n",
       "Mazda RX4 Wag     0  110 6  \n",
       "Datsun 710        1   93 4  \n",
       "Hornet 4 Drive    1  110 6  \n",
       "Hornet Sportabout 0  175 8  \n",
       "Valiant           1  105 6  "
      ]
     },
     "metadata": {},
     "output_type": "display_data"
    }
   ],
   "source": [
    "#--- sometime is useful find a column number with grepSS\n",
    "cols = colnames(mtcars)\n",
    "ns = c(grep(\"vs\",cols), grep(\"hp\",cols), grep(\"cyl\",cols))\n",
    "print(ns)\n",
    "\n",
    "head(mtcars[, ns])"
   ]
  },
  {
   "cell_type": "markdown",
   "metadata": {},
   "source": [
    "### Plots in R\n",
    "\n",
    "[see] (https://www.harding.edu/fmccown/r/)"
   ]
  },
  {
   "cell_type": "code",
   "execution_count": 66,
   "metadata": {},
   "outputs": [
    {
     "data": {
      "image/png": "[encoded data removed]",
      "text/plain": [
       "Plot with title “mtcars analysis”"
      ]
     },
     "metadata": {},
     "output_type": "display_data"
    }
   ],
   "source": [
    "plot(mtcars$mpg, mtcars$cyl, xlab=\"mpg\", ylab=\"cyl\", main=\"mtcars analysis\")"
   ]
  },
  {
   "cell_type": "code",
   "execution_count": 67,
   "metadata": {},
   "outputs": [
    {
     "data": {
      "image/png": "[encoded data removed]",
      "text/plain": [
       "Plot with title “mtcars analysis”"
      ]
     },
     "metadata": {},
     "output_type": "display_data"
    }
   ],
   "source": [
    "plot(mtcars$mpg, mtcars$wt, xlab=\"mpg\", ylab=\"weight\", main=\"mtcars analysis\")"
   ]
  },
  {
   "cell_type": "markdown",
   "metadata": {},
   "source": [
    "### Fitting Linear models"
   ]
  },
  {
   "cell_type": "code",
   "execution_count": 68,
   "metadata": {},
   "outputs": [
    {
     "data": {
      "text/plain": [
       "\n",
       "Call:\n",
       "lm(formula = mtcars$wt ~ mtcars$mpg)\n",
       "\n",
       "Coefficients:\n",
       "(Intercept)   mtcars$mpg  \n",
       "     6,0473      -0,1409  \n"
      ]
     },
     "metadata": {},
     "output_type": "display_data"
    }
   ],
   "source": [
    "#--- linear regression\n",
    "lm(mtcars$wt ~ mtcars$mpg)"
   ]
  },
  {
   "cell_type": "code",
   "execution_count": 69,
   "metadata": {},
   "outputs": [
    {
     "data": {
      "text/plain": [
       "\n",
       "Call:\n",
       "lm(formula = wt ~ mpg, data = mtcars)\n",
       "\n",
       "Coefficients:\n",
       "(Intercept)          mpg  \n",
       "     6,0473      -0,1409  \n"
      ]
     },
     "metadata": {},
     "output_type": "display_data"
    }
   ],
   "source": [
    "lm(wt~mpg, data=mtcars)"
   ]
  },
  {
   "cell_type": "code",
   "execution_count": 70,
   "metadata": {},
   "outputs": [
    {
     "data": {
      "text/plain": [
       "\n",
       "Call:\n",
       "lm(formula = wt ~ mpg, data = mtcars)\n",
       "\n",
       "Coefficients:\n",
       "(Intercept)          mpg  \n",
       "     6,0473      -0,1409  \n"
      ]
     },
     "metadata": {},
     "output_type": "display_data"
    }
   ],
   "source": [
    "lm(wt ~ mpg, data=mtcars)"
   ]
  },
  {
   "cell_type": "code",
   "execution_count": 71,
   "metadata": {},
   "outputs": [
    {
     "data": {
      "text/html": [
       "<ol class=list-inline>\n",
       "\t<li>'coefficients'</li>\n",
       "\t<li>'residuals'</li>\n",
       "\t<li>'effects'</li>\n",
       "\t<li>'rank'</li>\n",
       "\t<li>'fitted.values'</li>\n",
       "\t<li>'assign'</li>\n",
       "\t<li>'qr'</li>\n",
       "\t<li>'df.residual'</li>\n",
       "\t<li>'xlevels'</li>\n",
       "\t<li>'call'</li>\n",
       "\t<li>'terms'</li>\n",
       "\t<li>'model'</li>\n",
       "</ol>\n"
      ],
      "text/latex": [
       "\\begin{enumerate*}\n",
       "\\item 'coefficients'\n",
       "\\item 'residuals'\n",
       "\\item 'effects'\n",
       "\\item 'rank'\n",
       "\\item 'fitted.values'\n",
       "\\item 'assign'\n",
       "\\item 'qr'\n",
       "\\item 'df.residual'\n",
       "\\item 'xlevels'\n",
       "\\item 'call'\n",
       "\\item 'terms'\n",
       "\\item 'model'\n",
       "\\end{enumerate*}\n"
      ],
      "text/markdown": [
       "1. 'coefficients'\n",
       "2. 'residuals'\n",
       "3. 'effects'\n",
       "4. 'rank'\n",
       "5. 'fitted.values'\n",
       "6. 'assign'\n",
       "7. 'qr'\n",
       "8. 'df.residual'\n",
       "9. 'xlevels'\n",
       "10. 'call'\n",
       "11. 'terms'\n",
       "12. 'model'\n",
       "\n",
       "\n"
      ],
      "text/plain": [
       " [1] \"coefficients\"  \"residuals\"     \"effects\"       \"rank\"         \n",
       " [5] \"fitted.values\" \"assign\"        \"qr\"            \"df.residual\"  \n",
       " [9] \"xlevels\"       \"call\"          \"terms\"         \"model\"        "
      ]
     },
     "metadata": {},
     "output_type": "display_data"
    }
   ],
   "source": [
    "fit = lm(wt ~ mpg, data=mtcars)\n",
    "names(fit)"
   ]
  },
  {
   "cell_type": "code",
   "execution_count": 72,
   "metadata": {},
   "outputs": [
    {
     "data": {
      "text/html": [
       "<dl class=dl-horizontal>\n",
       "\t<dt>(Intercept)</dt>\n",
       "\t\t<dd>6,04725501345831</dd>\n",
       "\t<dt>mpg</dt>\n",
       "\t\t<dd>-0,140861969871933</dd>\n",
       "</dl>\n"
      ],
      "text/latex": [
       "\\begin{description*}\n",
       "\\item[(Intercept)] 6,04725501345831\n",
       "\\item[mpg] -0,140861969871933\n",
       "\\end{description*}\n"
      ],
      "text/markdown": [
       "(Intercept)\n",
       ":   6,04725501345831mpg\n",
       ":   -0,140861969871933\n",
       "\n"
      ],
      "text/plain": [
       "(Intercept)         mpg \n",
       "   6,047255   -0,140862 "
      ]
     },
     "metadata": {},
     "output_type": "display_data"
    }
   ],
   "source": [
    "#--- linear model - regression parameters  y = a + bx  (a, b) or (intercept x independent variable)\n",
    "fit[[\"coefficients\"]]"
   ]
  },
  {
   "cell_type": "code",
   "execution_count": 73,
   "metadata": {},
   "outputs": [
    {
     "data": {
      "image/png": "[encoded data removed]",
      "text/plain": [
       "Plot with title “mtcars analysis + linear regression”"
      ]
     },
     "metadata": {},
     "output_type": "display_data"
    }
   ],
   "source": [
    "plot(mtcars$mpg, mtcars$wt, xlab=\"mpg\", ylab=\"weight\", main=\"mtcars analysis + linear regression\")\n",
    "abline(fit[[\"coefficients\"]], col=\"red\")"
   ]
  },
  {
   "cell_type": "markdown",
   "metadata": {},
   "source": [
    "### Amazing and important dataset: IRIS (Ronald Fischer & Edgar Anderson)  \n",
    "\n",
    "[Iris dataset](https://en.wikipedia.org/wiki/Iris_flower_data_set)\n"
   ]
  },
  {
   "cell_type": "code",
   "execution_count": 74,
   "metadata": {},
   "outputs": [
    {
     "data": {
      "text/html": [
       "<table>\n",
       "<thead><tr><th scope=col>Sepal.Length</th><th scope=col>Sepal.Width</th><th scope=col>Petal.Length</th><th scope=col>Petal.Width</th><th scope=col>Species</th></tr></thead>\n",
       "<tbody>\n",
       "\t<tr><td>5,1   </td><td>3,5   </td><td>1,4   </td><td>0,2   </td><td>setosa</td></tr>\n",
       "\t<tr><td>4,9   </td><td>3,0   </td><td>1,4   </td><td>0,2   </td><td>setosa</td></tr>\n",
       "\t<tr><td>4,7   </td><td>3,2   </td><td>1,3   </td><td>0,2   </td><td>setosa</td></tr>\n",
       "\t<tr><td>4,6   </td><td>3,1   </td><td>1,5   </td><td>0,2   </td><td>setosa</td></tr>\n",
       "\t<tr><td>5,0   </td><td>3,6   </td><td>1,4   </td><td>0,2   </td><td>setosa</td></tr>\n",
       "\t<tr><td>5,4   </td><td>3,9   </td><td>1,7   </td><td>0,4   </td><td>setosa</td></tr>\n",
       "</tbody>\n",
       "</table>\n"
      ],
      "text/latex": [
       "\\begin{tabular}{r|lllll}\n",
       " Sepal.Length & Sepal.Width & Petal.Length & Petal.Width & Species\\\\\n",
       "\\hline\n",
       "\t 5,1    & 3,5    & 1,4    & 0,2    & setosa\\\\\n",
       "\t 4,9    & 3,0    & 1,4    & 0,2    & setosa\\\\\n",
       "\t 4,7    & 3,2    & 1,3    & 0,2    & setosa\\\\\n",
       "\t 4,6    & 3,1    & 1,5    & 0,2    & setosa\\\\\n",
       "\t 5,0    & 3,6    & 1,4    & 0,2    & setosa\\\\\n",
       "\t 5,4    & 3,9    & 1,7    & 0,4    & setosa\\\\\n",
       "\\end{tabular}\n"
      ],
      "text/markdown": [
       "\n",
       "Sepal.Length | Sepal.Width | Petal.Length | Petal.Width | Species | \n",
       "|---|---|---|---|---|---|\n",
       "| 5,1    | 3,5    | 1,4    | 0,2    | setosa | \n",
       "| 4,9    | 3,0    | 1,4    | 0,2    | setosa | \n",
       "| 4,7    | 3,2    | 1,3    | 0,2    | setosa | \n",
       "| 4,6    | 3,1    | 1,5    | 0,2    | setosa | \n",
       "| 5,0    | 3,6    | 1,4    | 0,2    | setosa | \n",
       "| 5,4    | 3,9    | 1,7    | 0,4    | setosa | \n",
       "\n",
       "\n"
      ],
      "text/plain": [
       "  Sepal.Length Sepal.Width Petal.Length Petal.Width Species\n",
       "1 5,1          3,5         1,4          0,2         setosa \n",
       "2 4,9          3,0         1,4          0,2         setosa \n",
       "3 4,7          3,2         1,3          0,2         setosa \n",
       "4 4,6          3,1         1,5          0,2         setosa \n",
       "5 5,0          3,6         1,4          0,2         setosa \n",
       "6 5,4          3,9         1,7          0,4         setosa "
      ]
     },
     "metadata": {},
     "output_type": "display_data"
    }
   ],
   "source": [
    "head(iris)"
   ]
  },
  {
   "cell_type": "code",
   "execution_count": 75,
   "metadata": {},
   "outputs": [
    {
     "data": {
      "text/html": [
       "<ol class=list-inline>\n",
       "\t<li>'Activation of TNF-alpha-dependent pro-tumoral effect in colorectal cancer g1 h6 h12 interactions.csv'</li>\n",
       "\t<li>'Activation of TNF-alpha-dependent pro-tumoral effect in colorectal cancer g1 h6 h12 interactions.xls'</li>\n",
       "\t<li>'femaleControlsPopulation.csv'</li>\n",
       "\t<li>'iris.csv'</li>\n",
       "\t<li>'mtcars.csv'</li>\n",
       "\t<li>'netscix2016'</li>\n",
       "\t<li>'netscix2016.zip'</li>\n",
       "</ol>\n"
      ],
      "text/latex": [
       "\\begin{enumerate*}\n",
       "\\item 'Activation of TNF-alpha-dependent pro-tumoral effect in colorectal cancer g1 h6 h12 interactions.csv'\n",
       "\\item 'Activation of TNF-alpha-dependent pro-tumoral effect in colorectal cancer g1 h6 h12 interactions.xls'\n",
       "\\item 'femaleControlsPopulation.csv'\n",
       "\\item 'iris.csv'\n",
       "\\item 'mtcars.csv'\n",
       "\\item 'netscix2016'\n",
       "\\item 'netscix2016.zip'\n",
       "\\end{enumerate*}\n"
      ],
      "text/markdown": [
       "1. 'Activation of TNF-alpha-dependent pro-tumoral effect in colorectal cancer g1 h6 h12 interactions.csv'\n",
       "2. 'Activation of TNF-alpha-dependent pro-tumoral effect in colorectal cancer g1 h6 h12 interactions.xls'\n",
       "3. 'femaleControlsPopulation.csv'\n",
       "4. 'iris.csv'\n",
       "5. 'mtcars.csv'\n",
       "6. 'netscix2016'\n",
       "7. 'netscix2016.zip'\n",
       "\n",
       "\n"
      ],
      "text/plain": [
       "[1] \"Activation of TNF-alpha-dependent pro-tumoral effect in colorectal cancer g1 h6 h12 interactions.csv\"\n",
       "[2] \"Activation of TNF-alpha-dependent pro-tumoral effect in colorectal cancer g1 h6 h12 interactions.xls\"\n",
       "[3] \"femaleControlsPopulation.csv\"                                                                        \n",
       "[4] \"iris.csv\"                                                                                            \n",
       "[5] \"mtcars.csv\"                                                                                          \n",
       "[6] \"netscix2016\"                                                                                         \n",
       "[7] \"netscix2016.zip\"                                                                                     "
      ]
     },
     "metadata": {},
     "output_type": "display_data"
    }
   ],
   "source": [
    "write.csv(iris, \"data/iris.csv\")\n",
    "dir(\"data\")"
   ]
  },
  {
   "cell_type": "markdown",
   "metadata": {},
   "source": [
    "### How to see an image?\n",
    "  \n",
    "What means sepal and petal?  "
   ]
  },
  {
   "cell_type": "markdown",
   "metadata": {},
   "source": [
    "![Mature flower diagram.png](images/Mature_flower_diagram.png)"
   ]
  },
  {
   "cell_type": "markdown",
   "metadata": {},
   "source": [
    "lets go beyond,  \n",
    "  \n",
    "### How many species (classes)?"
   ]
  },
  {
   "cell_type": "code",
   "execution_count": 76,
   "metadata": {},
   "outputs": [
    {
     "ename": "ERROR",
     "evalue": "Error in parse(text = x, srcfile = src): <text>:1:6: unexpected '<'\n1: iris$<\n         ^\n",
     "output_type": "error",
     "traceback": [
      "Error in parse(text = x, srcfile = src): <text>:1:6: unexpected '<'\n1: iris$<\n         ^\nTraceback:\n"
     ]
    }
   ],
   "source": [
    "iris$<tab complete>"
   ]
  },
  {
   "cell_type": "code",
   "execution_count": 77,
   "metadata": {},
   "outputs": [
    {
     "data": {
      "image/png": "[encoded data removed]",
      "text/plain": [
       "plot without title"
      ]
     },
     "metadata": {},
     "output_type": "display_data"
    }
   ],
   "source": [
    "pairs(iris)"
   ]
  },
  {
   "cell_type": "code",
   "execution_count": null,
   "metadata": {},
   "outputs": [],
   "source": []
  },
  {
   "cell_type": "code",
   "execution_count": null,
   "metadata": {},
   "outputs": [],
   "source": []
  }
 ],
 "metadata": {
  "kernelspec": {
   "display_name": "R",
   "language": "R",
   "name": "ir"
  },
  "language_info": {
   "codemirror_mode": "r",
   "file_extension": ".r",
   "mimetype": "text/x-r-source",
   "name": "R",
   "pygments_lexer": "r",
   "version": "3.5.1"
  }
 },
 "nbformat": 4,
 "nbformat_minor": 2
}
