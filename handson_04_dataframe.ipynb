{
 "cells": [
  {
   "cell_type": "markdown",
   "metadata": {},
   "source": [
    "author: Flavio Lichtenstein  \n",
    "data update: 2019/01/26  \n",
    "data created: 2016/07/20  \n",
    "local: Molecular Biology/Inovation & CENTD - Butantan Institute  \n",
    "\n",
    "### Lecture 04 - Dataframe\n",
    "\n",
    "**from matrix do dataframe**"
   ]
  },
  {
   "cell_type": "code",
   "execution_count": 2,
   "metadata": {},
   "outputs": [
    {
     "data": {
      "text/html": [
       "<table>\n",
       "<tbody>\n",
       "\t<tr><td>17</td><td>80</td><td>38</td></tr>\n",
       "\t<tr><td>33</td><td>60</td><td>99</td></tr>\n",
       "\t<tr><td>13</td><td>30</td><td>57</td></tr>\n",
       "</tbody>\n",
       "</table>\n"
      ],
      "text/latex": [
       "\\begin{tabular}{lll}\n",
       "\t 17 & 80 & 38\\\\\n",
       "\t 33 & 60 & 99\\\\\n",
       "\t 13 & 30 & 57\\\\\n",
       "\\end{tabular}\n"
      ],
      "text/markdown": [
       "\n",
       "| 17 | 80 | 38 | \n",
       "| 33 | 60 | 99 | \n",
       "| 13 | 30 | 57 | \n",
       "\n",
       "\n"
      ],
      "text/plain": [
       "     [,1] [,2] [,3]\n",
       "[1,] 17   80   38  \n",
       "[2,] 33   60   99  \n",
       "[3,] 13   30   57  "
      ]
     },
     "metadata": {},
     "output_type": "display_data"
    }
   ],
   "source": [
    "set.seed(3)\n",
    "\n",
    "v1 = sample.int(100, 3)\n",
    "v2 = sample.int(100, 3)\n",
    "v3 = sample.int(100, 3)\n",
    "\n",
    "mat = matrix( c(v1,v2,v3), ncol=3, nrow=3, byrow = T)\n",
    "mat"
   ]
  },
  {
   "cell_type": "code",
   "execution_count": 3,
   "metadata": {},
   "outputs": [
    {
     "data": {
      "text/plain": [
       "NULL"
      ]
     },
     "metadata": {},
     "output_type": "display_data"
    }
   ],
   "source": [
    "rownames(mat)"
   ]
  },
  {
   "cell_type": "code",
   "execution_count": 4,
   "metadata": {},
   "outputs": [],
   "source": [
    "rownames(mat) = c(\"cust1\", \"cust2\", \"cust3\")"
   ]
  },
  {
   "cell_type": "code",
   "execution_count": 5,
   "metadata": {},
   "outputs": [
    {
     "data": {
      "text/html": [
       "<table>\n",
       "<tbody>\n",
       "\t<tr><th scope=row>cust1</th><td>17</td><td>80</td><td>38</td></tr>\n",
       "\t<tr><th scope=row>cust2</th><td>33</td><td>60</td><td>99</td></tr>\n",
       "\t<tr><th scope=row>cust3</th><td>13</td><td>30</td><td>57</td></tr>\n",
       "</tbody>\n",
       "</table>\n"
      ],
      "text/latex": [
       "\\begin{tabular}{r|lll}\n",
       "\tcust1 & 17 & 80 & 38\\\\\n",
       "\tcust2 & 33 & 60 & 99\\\\\n",
       "\tcust3 & 13 & 30 & 57\\\\\n",
       "\\end{tabular}\n"
      ],
      "text/markdown": [
       "\n",
       "| cust1 | 17 | 80 | 38 | \n",
       "| cust2 | 33 | 60 | 99 | \n",
       "| cust3 | 13 | 30 | 57 | \n",
       "\n",
       "\n"
      ],
      "text/plain": [
       "      [,1] [,2] [,3]\n",
       "cust1 17   80   38  \n",
       "cust2 33   60   99  \n",
       "cust3 13   30   57  "
      ]
     },
     "metadata": {},
     "output_type": "display_data"
    }
   ],
   "source": [
    "mat"
   ]
  },
  {
   "cell_type": "code",
   "execution_count": 6,
   "metadata": {},
   "outputs": [
    {
     "data": {
      "text/plain": [
       "NULL"
      ]
     },
     "metadata": {},
     "output_type": "display_data"
    }
   ],
   "source": [
    "colnames(mat)"
   ]
  },
  {
   "cell_type": "code",
   "execution_count": 8,
   "metadata": {},
   "outputs": [
    {
     "data": {
      "text/html": [
       "<table>\n",
       "<thead><tr><th></th><th scope=col>week1</th><th scope=col>week2</th><th scope=col>week3</th></tr></thead>\n",
       "<tbody>\n",
       "\t<tr><th scope=row>cust1</th><td>17</td><td>80</td><td>38</td></tr>\n",
       "\t<tr><th scope=row>cust2</th><td>33</td><td>60</td><td>99</td></tr>\n",
       "\t<tr><th scope=row>cust3</th><td>13</td><td>30</td><td>57</td></tr>\n",
       "</tbody>\n",
       "</table>\n"
      ],
      "text/latex": [
       "\\begin{tabular}{r|lll}\n",
       "  & week1 & week2 & week3\\\\\n",
       "\\hline\n",
       "\tcust1 & 17 & 80 & 38\\\\\n",
       "\tcust2 & 33 & 60 & 99\\\\\n",
       "\tcust3 & 13 & 30 & 57\\\\\n",
       "\\end{tabular}\n"
      ],
      "text/markdown": [
       "\n",
       "| <!--/--> | week1 | week2 | week3 | \n",
       "|---|---|---|\n",
       "| cust1 | 17 | 80 | 38 | \n",
       "| cust2 | 33 | 60 | 99 | \n",
       "| cust3 | 13 | 30 | 57 | \n",
       "\n",
       "\n"
      ],
      "text/plain": [
       "      week1 week2 week3\n",
       "cust1 17    80    38   \n",
       "cust2 33    60    99   \n",
       "cust3 13    30    57   "
      ]
     },
     "metadata": {},
     "output_type": "display_data"
    }
   ],
   "source": [
    "colnames(mat) = c(\"week1\", \"week2\", \"week3\")\n",
    "mat"
   ]
  },
  {
   "cell_type": "code",
   "execution_count": 10,
   "metadata": {},
   "outputs": [
    {
     "data": {
      "text/html": [
       "<ol class=list-inline>\n",
       "\t<li>'cust1'</li>\n",
       "\t<li>'cust2'</li>\n",
       "\t<li>'cust3'</li>\n",
       "</ol>\n"
      ],
      "text/latex": [
       "\\begin{enumerate*}\n",
       "\\item 'cust1'\n",
       "\\item 'cust2'\n",
       "\\item 'cust3'\n",
       "\\end{enumerate*}\n"
      ],
      "text/markdown": [
       "1. 'cust1'\n",
       "2. 'cust2'\n",
       "3. 'cust3'\n",
       "\n",
       "\n"
      ],
      "text/plain": [
       "[1] \"cust1\" \"cust2\" \"cust3\""
      ]
     },
     "metadata": {},
     "output_type": "display_data"
    }
   ],
   "source": [
    "rownames(mat)"
   ]
  },
  {
   "cell_type": "code",
   "execution_count": 9,
   "metadata": {},
   "outputs": [
    {
     "data": {
      "text/html": [
       "<ol class=list-inline>\n",
       "\t<li>'week1'</li>\n",
       "\t<li>'week2'</li>\n",
       "\t<li>'week3'</li>\n",
       "</ol>\n"
      ],
      "text/latex": [
       "\\begin{enumerate*}\n",
       "\\item 'week1'\n",
       "\\item 'week2'\n",
       "\\item 'week3'\n",
       "\\end{enumerate*}\n"
      ],
      "text/markdown": [
       "1. 'week1'\n",
       "2. 'week2'\n",
       "3. 'week3'\n",
       "\n",
       "\n"
      ],
      "text/plain": [
       "[1] \"week1\" \"week2\" \"week3\""
      ]
     },
     "metadata": {},
     "output_type": "display_data"
    }
   ],
   "source": [
    "colnames(mat)"
   ]
  },
  {
   "cell_type": "code",
   "execution_count": 12,
   "metadata": {},
   "outputs": [
    {
     "data": {
      "text/html": [
       "<table>\n",
       "<thead><tr><th></th><th scope=col>week1</th><th scope=col>week2</th><th scope=col>week3</th></tr></thead>\n",
       "<tbody>\n",
       "\t<tr><th scope=row>cust1</th><td>17</td><td>80</td><td>38</td></tr>\n",
       "\t<tr><th scope=row>cust2</th><td>33</td><td>60</td><td>99</td></tr>\n",
       "\t<tr><th scope=row>cust3</th><td>13</td><td>30</td><td>57</td></tr>\n",
       "</tbody>\n",
       "</table>\n"
      ],
      "text/latex": [
       "\\begin{tabular}{r|lll}\n",
       "  & week1 & week2 & week3\\\\\n",
       "\\hline\n",
       "\tcust1 & 17 & 80 & 38\\\\\n",
       "\tcust2 & 33 & 60 & 99\\\\\n",
       "\tcust3 & 13 & 30 & 57\\\\\n",
       "\\end{tabular}\n"
      ],
      "text/markdown": [
       "\n",
       "| <!--/--> | week1 | week2 | week3 | \n",
       "|---|---|---|\n",
       "| cust1 | 17 | 80 | 38 | \n",
       "| cust2 | 33 | 60 | 99 | \n",
       "| cust3 | 13 | 30 | 57 | \n",
       "\n",
       "\n"
      ],
      "text/plain": [
       "      week1 week2 week3\n",
       "cust1 17    80    38   \n",
       "cust2 33    60    99   \n",
       "cust3 13    30    57   "
      ]
     },
     "metadata": {},
     "output_type": "display_data"
    }
   ],
   "source": [
    "df = as.data.frame(mat)\n",
    "df"
   ]
  },
  {
   "cell_type": "code",
   "execution_count": 15,
   "metadata": {},
   "outputs": [
    {
     "ename": "ERROR",
     "evalue": "Error in parse(text = x, srcfile = src): <text>:3:0: unexpected end of input\n1: # You cannot call a column with $, but in datrame is possible\n2: mat$\n  ^\n",
     "output_type": "error",
     "traceback": [
      "Error in parse(text = x, srcfile = src): <text>:3:0: unexpected end of input\n1: # You cannot call a column with $, but in datrame is possible\n2: mat$\n  ^\nTraceback:\n"
     ]
    }
   ],
   "source": [
    "# You cannot call a column with $, but in datrame is possible\n",
    "mat$"
   ]
  },
  {
   "cell_type": "code",
   "execution_count": 16,
   "metadata": {},
   "outputs": [
    {
     "data": {
      "text/html": [
       "<ol class=list-inline>\n",
       "\t<li>17</li>\n",
       "\t<li>33</li>\n",
       "\t<li>13</li>\n",
       "</ol>\n"
      ],
      "text/latex": [
       "\\begin{enumerate*}\n",
       "\\item 17\n",
       "\\item 33\n",
       "\\item 13\n",
       "\\end{enumerate*}\n"
      ],
      "text/markdown": [
       "1. 17\n",
       "2. 33\n",
       "3. 13\n",
       "\n",
       "\n"
      ],
      "text/plain": [
       "[1] 17 33 13"
      ]
     },
     "metadata": {},
     "output_type": "display_data"
    }
   ],
   "source": [
    "df$week1"
   ]
  },
  {
   "cell_type": "code",
   "execution_count": 18,
   "metadata": {},
   "outputs": [
    {
     "data": {
      "text/html": [
       "<table>\n",
       "<thead><tr><th></th><th scope=col>week1</th><th scope=col>week2</th><th scope=col>week3</th></tr></thead>\n",
       "<tbody>\n",
       "\t<tr><th scope=row>cust1</th><td>17</td><td>80</td><td>38</td></tr>\n",
       "</tbody>\n",
       "</table>\n"
      ],
      "text/latex": [
       "\\begin{tabular}{r|lll}\n",
       "  & week1 & week2 & week3\\\\\n",
       "\\hline\n",
       "\tcust1 & 17 & 80 & 38\\\\\n",
       "\\end{tabular}\n"
      ],
      "text/markdown": [
       "\n",
       "| <!--/--> | week1 | week2 | week3 | \n",
       "|---|\n",
       "| cust1 | 17 | 80 | 38 | \n",
       "\n",
       "\n"
      ],
      "text/plain": [
       "      week1 week2 week3\n",
       "cust1 17    80    38   "
      ]
     },
     "metadata": {},
     "output_type": "display_data"
    }
   ],
   "source": [
    "df[1,]"
   ]
  },
  {
   "cell_type": "code",
   "execution_count": 21,
   "metadata": {},
   "outputs": [
    {
     "data": {
      "text/html": [
       "<table>\n",
       "<thead><tr><th></th><th scope=col>week1</th><th scope=col>week2</th><th scope=col>week3</th></tr></thead>\n",
       "<tbody>\n",
       "\t<tr><th scope=row>cust1</th><td>17</td><td>80</td><td>38</td></tr>\n",
       "</tbody>\n",
       "</table>\n"
      ],
      "text/latex": [
       "\\begin{tabular}{r|lll}\n",
       "  & week1 & week2 & week3\\\\\n",
       "\\hline\n",
       "\tcust1 & 17 & 80 & 38\\\\\n",
       "\\end{tabular}\n"
      ],
      "text/markdown": [
       "\n",
       "| <!--/--> | week1 | week2 | week3 | \n",
       "|---|\n",
       "| cust1 | 17 | 80 | 38 | \n",
       "\n",
       "\n"
      ],
      "text/plain": [
       "      week1 week2 week3\n",
       "cust1 17    80    38   "
      ]
     },
     "metadata": {},
     "output_type": "display_data"
    }
   ],
   "source": [
    "df[\"cust1\", ]"
   ]
  },
  {
   "cell_type": "code",
   "execution_count": 23,
   "metadata": {},
   "outputs": [
    {
     "data": {
      "text/html": [
       "<table>\n",
       "<thead><tr><th></th><th scope=col>week1</th><th scope=col>week2</th><th scope=col>week3</th></tr></thead>\n",
       "<tbody>\n",
       "\t<tr><th scope=row>cust1</th><td>17</td><td>80</td><td>38</td></tr>\n",
       "</tbody>\n",
       "</table>\n"
      ],
      "text/latex": [
       "\\begin{tabular}{r|lll}\n",
       "  & week1 & week2 & week3\\\\\n",
       "\\hline\n",
       "\tcust1 & 17 & 80 & 38\\\\\n",
       "\\end{tabular}\n"
      ],
      "text/markdown": [
       "\n",
       "| <!--/--> | week1 | week2 | week3 | \n",
       "|---|\n",
       "| cust1 | 17 | 80 | 38 | \n",
       "\n",
       "\n"
      ],
      "text/plain": [
       "      week1 week2 week3\n",
       "cust1 17    80    38   "
      ]
     },
     "metadata": {},
     "output_type": "display_data"
    }
   ],
   "source": [
    "df[df$week1 == 17, ]"
   ]
  },
  {
   "cell_type": "markdown",
   "metadata": {},
   "source": [
    "## Operations with dataframe"
   ]
  },
  {
   "cell_type": "code",
   "execution_count": 85,
   "metadata": {},
   "outputs": [
    {
     "data": {
      "text/html": [
       "<ol class=list-inline>\n",
       "\t<li>'mpg'</li>\n",
       "\t<li>'cyl'</li>\n",
       "\t<li>'disp'</li>\n",
       "\t<li>'hp'</li>\n",
       "\t<li>'drat'</li>\n",
       "\t<li>'wt'</li>\n",
       "\t<li>'qsec'</li>\n",
       "\t<li>'vs'</li>\n",
       "\t<li>'am'</li>\n",
       "\t<li>'gear'</li>\n",
       "\t<li>'carb'</li>\n",
       "</ol>\n"
      ],
      "text/latex": [
       "\\begin{enumerate*}\n",
       "\\item 'mpg'\n",
       "\\item 'cyl'\n",
       "\\item 'disp'\n",
       "\\item 'hp'\n",
       "\\item 'drat'\n",
       "\\item 'wt'\n",
       "\\item 'qsec'\n",
       "\\item 'vs'\n",
       "\\item 'am'\n",
       "\\item 'gear'\n",
       "\\item 'carb'\n",
       "\\end{enumerate*}\n"
      ],
      "text/markdown": [
       "1. 'mpg'\n",
       "2. 'cyl'\n",
       "3. 'disp'\n",
       "4. 'hp'\n",
       "5. 'drat'\n",
       "6. 'wt'\n",
       "7. 'qsec'\n",
       "8. 'vs'\n",
       "9. 'am'\n",
       "10. 'gear'\n",
       "11. 'carb'\n",
       "\n",
       "\n"
      ],
      "text/plain": [
       " [1] \"mpg\"  \"cyl\"  \"disp\" \"hp\"   \"drat\" \"wt\"   \"qsec\" \"vs\"   \"am\"   \"gear\"\n",
       "[11] \"carb\""
      ]
     },
     "metadata": {},
     "output_type": "display_data"
    }
   ],
   "source": [
    "colnames(mtcars)"
   ]
  },
  {
   "cell_type": "code",
   "execution_count": 91,
   "metadata": {},
   "outputs": [
    {
     "data": {
      "text/html": [
       "<table>\n",
       "<thead><tr><th></th><th scope=col>mpg</th><th scope=col>cyl</th><th scope=col>disp</th><th scope=col>hp</th></tr></thead>\n",
       "<tbody>\n",
       "\t<tr><th scope=row>Mazda RX4</th><td>21,0</td><td>6   </td><td>160 </td><td>110 </td></tr>\n",
       "\t<tr><th scope=row>Mazda RX4 Wag</th><td>21,0</td><td>6   </td><td>160 </td><td>110 </td></tr>\n",
       "\t<tr><th scope=row>Datsun 710</th><td>22,8</td><td>4   </td><td>108 </td><td> 93 </td></tr>\n",
       "\t<tr><th scope=row>Hornet 4 Drive</th><td>21,4</td><td>6   </td><td>258 </td><td>110 </td></tr>\n",
       "\t<tr><th scope=row>Hornet Sportabout</th><td>18,7</td><td>8   </td><td>360 </td><td>175 </td></tr>\n",
       "\t<tr><th scope=row>Valiant</th><td>18,1</td><td>6   </td><td>225 </td><td>105 </td></tr>\n",
       "</tbody>\n",
       "</table>\n"
      ],
      "text/latex": [
       "\\begin{tabular}{r|llll}\n",
       "  & mpg & cyl & disp & hp\\\\\n",
       "\\hline\n",
       "\tMazda RX4 & 21,0 & 6    & 160  & 110 \\\\\n",
       "\tMazda RX4 Wag & 21,0 & 6    & 160  & 110 \\\\\n",
       "\tDatsun 710 & 22,8 & 4    & 108  &  93 \\\\\n",
       "\tHornet 4 Drive & 21,4 & 6    & 258  & 110 \\\\\n",
       "\tHornet Sportabout & 18,7 & 8    & 360  & 175 \\\\\n",
       "\tValiant & 18,1 & 6    & 225  & 105 \\\\\n",
       "\\end{tabular}\n"
      ],
      "text/markdown": [
       "\n",
       "| <!--/--> | mpg | cyl | disp | hp | \n",
       "|---|---|---|---|---|---|\n",
       "| Mazda RX4 | 21,0 | 6    | 160  | 110  | \n",
       "| Mazda RX4 Wag | 21,0 | 6    | 160  | 110  | \n",
       "| Datsun 710 | 22,8 | 4    | 108  |  93  | \n",
       "| Hornet 4 Drive | 21,4 | 6    | 258  | 110  | \n",
       "| Hornet Sportabout | 18,7 | 8    | 360  | 175  | \n",
       "| Valiant | 18,1 | 6    | 225  | 105  | \n",
       "\n",
       "\n"
      ],
      "text/plain": [
       "                  mpg  cyl disp hp \n",
       "Mazda RX4         21,0 6   160  110\n",
       "Mazda RX4 Wag     21,0 6   160  110\n",
       "Datsun 710        22,8 4   108   93\n",
       "Hornet 4 Drive    21,4 6   258  110\n",
       "Hornet Sportabout 18,7 8   360  175\n",
       "Valiant           18,1 6   225  105"
      ]
     },
     "metadata": {},
     "output_type": "display_data"
    }
   ],
   "source": [
    "#--- one can filter columns and put them in another database\n",
    "mtc2 = mtcars[, c('mpg','cyl','disp','hp')]\n",
    "head(mtc2)"
   ]
  },
  {
   "cell_type": "code",
   "execution_count": 92,
   "metadata": {},
   "outputs": [
    {
     "data": {
      "text/html": [
       "<table>\n",
       "<thead><tr><th></th><th scope=col>miles.per.gear</th><th scope=col>cylinder</th><th scope=col>displacement</th><th scope=col>hp</th></tr></thead>\n",
       "<tbody>\n",
       "\t<tr><th scope=row>Mazda RX4</th><td>21,0</td><td>6   </td><td>160 </td><td>110 </td></tr>\n",
       "\t<tr><th scope=row>Mazda RX4 Wag</th><td>21,0</td><td>6   </td><td>160 </td><td>110 </td></tr>\n",
       "\t<tr><th scope=row>Datsun 710</th><td>22,8</td><td>4   </td><td>108 </td><td> 93 </td></tr>\n",
       "\t<tr><th scope=row>Hornet 4 Drive</th><td>21,4</td><td>6   </td><td>258 </td><td>110 </td></tr>\n",
       "\t<tr><th scope=row>Hornet Sportabout</th><td>18,7</td><td>8   </td><td>360 </td><td>175 </td></tr>\n",
       "\t<tr><th scope=row>Valiant</th><td>18,1</td><td>6   </td><td>225 </td><td>105 </td></tr>\n",
       "</tbody>\n",
       "</table>\n"
      ],
      "text/latex": [
       "\\begin{tabular}{r|llll}\n",
       "  & miles.per.gear & cylinder & displacement & hp\\\\\n",
       "\\hline\n",
       "\tMazda RX4 & 21,0 & 6    & 160  & 110 \\\\\n",
       "\tMazda RX4 Wag & 21,0 & 6    & 160  & 110 \\\\\n",
       "\tDatsun 710 & 22,8 & 4    & 108  &  93 \\\\\n",
       "\tHornet 4 Drive & 21,4 & 6    & 258  & 110 \\\\\n",
       "\tHornet Sportabout & 18,7 & 8    & 360  & 175 \\\\\n",
       "\tValiant & 18,1 & 6    & 225  & 105 \\\\\n",
       "\\end{tabular}\n"
      ],
      "text/markdown": [
       "\n",
       "| <!--/--> | miles.per.gear | cylinder | displacement | hp | \n",
       "|---|---|---|---|---|---|\n",
       "| Mazda RX4 | 21,0 | 6    | 160  | 110  | \n",
       "| Mazda RX4 Wag | 21,0 | 6    | 160  | 110  | \n",
       "| Datsun 710 | 22,8 | 4    | 108  |  93  | \n",
       "| Hornet 4 Drive | 21,4 | 6    | 258  | 110  | \n",
       "| Hornet Sportabout | 18,7 | 8    | 360  | 175  | \n",
       "| Valiant | 18,1 | 6    | 225  | 105  | \n",
       "\n",
       "\n"
      ],
      "text/plain": [
       "                  miles.per.gear cylinder displacement hp \n",
       "Mazda RX4         21,0           6        160          110\n",
       "Mazda RX4 Wag     21,0           6        160          110\n",
       "Datsun 710        22,8           4        108           93\n",
       "Hornet 4 Drive    21,4           6        258          110\n",
       "Hornet Sportabout 18,7           8        360          175\n",
       "Valiant           18,1           6        225          105"
      ]
     },
     "metadata": {},
     "output_type": "display_data"
    }
   ],
   "source": [
    "#-- one can rename columns\n",
    "colnames(mtc2) = c('miles.per.gear','cylinder','displacement','hp')\n",
    "head(mtc2)"
   ]
  },
  {
   "cell_type": "code",
   "execution_count": 93,
   "metadata": {},
   "outputs": [
    {
     "data": {
      "text/html": [
       "<table>\n",
       "<thead><tr><th></th><th scope=col>cylinder</th><th scope=col>hp</th><th scope=col>miles.per.gear</th><th scope=col>displacement</th></tr></thead>\n",
       "<tbody>\n",
       "\t<tr><th scope=row>Mazda RX4</th><td>6   </td><td>110 </td><td>21,0</td><td>160 </td></tr>\n",
       "\t<tr><th scope=row>Mazda RX4 Wag</th><td>6   </td><td>110 </td><td>21,0</td><td>160 </td></tr>\n",
       "\t<tr><th scope=row>Datsun 710</th><td>4   </td><td> 93 </td><td>22,8</td><td>108 </td></tr>\n",
       "\t<tr><th scope=row>Hornet 4 Drive</th><td>6   </td><td>110 </td><td>21,4</td><td>258 </td></tr>\n",
       "\t<tr><th scope=row>Hornet Sportabout</th><td>8   </td><td>175 </td><td>18,7</td><td>360 </td></tr>\n",
       "\t<tr><th scope=row>Valiant</th><td>6   </td><td>105 </td><td>18,1</td><td>225 </td></tr>\n",
       "</tbody>\n",
       "</table>\n"
      ],
      "text/latex": [
       "\\begin{tabular}{r|llll}\n",
       "  & cylinder & hp & miles.per.gear & displacement\\\\\n",
       "\\hline\n",
       "\tMazda RX4 & 6    & 110  & 21,0 & 160 \\\\\n",
       "\tMazda RX4 Wag & 6    & 110  & 21,0 & 160 \\\\\n",
       "\tDatsun 710 & 4    &  93  & 22,8 & 108 \\\\\n",
       "\tHornet 4 Drive & 6    & 110  & 21,4 & 258 \\\\\n",
       "\tHornet Sportabout & 8    & 175  & 18,7 & 360 \\\\\n",
       "\tValiant & 6    & 105  & 18,1 & 225 \\\\\n",
       "\\end{tabular}\n"
      ],
      "text/markdown": [
       "\n",
       "| <!--/--> | cylinder | hp | miles.per.gear | displacement | \n",
       "|---|---|---|---|---|---|\n",
       "| Mazda RX4 | 6    | 110  | 21,0 | 160  | \n",
       "| Mazda RX4 Wag | 6    | 110  | 21,0 | 160  | \n",
       "| Datsun 710 | 4    |  93  | 22,8 | 108  | \n",
       "| Hornet 4 Drive | 6    | 110  | 21,4 | 258  | \n",
       "| Hornet Sportabout | 8    | 175  | 18,7 | 360  | \n",
       "| Valiant | 6    | 105  | 18,1 | 225  | \n",
       "\n",
       "\n"
      ],
      "text/plain": [
       "                  cylinder hp  miles.per.gear displacement\n",
       "Mazda RX4         6        110 21,0           160         \n",
       "Mazda RX4 Wag     6        110 21,0           160         \n",
       "Datsun 710        4         93 22,8           108         \n",
       "Hornet 4 Drive    6        110 21,4           258         \n",
       "Hornet Sportabout 8        175 18,7           360         \n",
       "Valiant           6        105 18,1           225         "
      ]
     },
     "metadata": {},
     "output_type": "display_data"
    }
   ],
   "source": [
    "#--- one can reorder the columns\n",
    "\n",
    "mtc2 = mtc2[ , c('cylinder', 'hp', 'miles.per.gear','displacement')]\n",
    "head(mtc2)"
   ]
  },
  {
   "cell_type": "code",
   "execution_count": null,
   "metadata": {},
   "outputs": [],
   "source": [
    "#-- one can merge lines"
   ]
  },
  {
   "cell_type": "code",
   "execution_count": 94,
   "metadata": {},
   "outputs": [
    {
     "data": {
      "text/html": [
       "<table>\n",
       "<thead><tr><th></th><th scope=col>cylinder</th><th scope=col>hp</th><th scope=col>miles.per.gear</th><th scope=col>displacement</th></tr></thead>\n",
       "<tbody>\n",
       "\t<tr><th scope=row>Mazda RX4</th><td>6   </td><td>110 </td><td>21,0</td><td>160 </td></tr>\n",
       "\t<tr><th scope=row>Mazda RX4 Wag</th><td>6   </td><td>110 </td><td>21,0</td><td>160 </td></tr>\n",
       "\t<tr><th scope=row>Datsun 710</th><td>4   </td><td> 93 </td><td>22,8</td><td>108 </td></tr>\n",
       "\t<tr><th scope=row>Hornet 4 Drive</th><td>6   </td><td>110 </td><td>21,4</td><td>258 </td></tr>\n",
       "\t<tr><th scope=row>Hornet Sportabout</th><td>8   </td><td>175 </td><td>18,7</td><td>360 </td></tr>\n",
       "</tbody>\n",
       "</table>\n"
      ],
      "text/latex": [
       "\\begin{tabular}{r|llll}\n",
       "  & cylinder & hp & miles.per.gear & displacement\\\\\n",
       "\\hline\n",
       "\tMazda RX4 & 6    & 110  & 21,0 & 160 \\\\\n",
       "\tMazda RX4 Wag & 6    & 110  & 21,0 & 160 \\\\\n",
       "\tDatsun 710 & 4    &  93  & 22,8 & 108 \\\\\n",
       "\tHornet 4 Drive & 6    & 110  & 21,4 & 258 \\\\\n",
       "\tHornet Sportabout & 8    & 175  & 18,7 & 360 \\\\\n",
       "\\end{tabular}\n"
      ],
      "text/markdown": [
       "\n",
       "| <!--/--> | cylinder | hp | miles.per.gear | displacement | \n",
       "|---|---|---|---|---|\n",
       "| Mazda RX4 | 6    | 110  | 21,0 | 160  | \n",
       "| Mazda RX4 Wag | 6    | 110  | 21,0 | 160  | \n",
       "| Datsun 710 | 4    |  93  | 22,8 | 108  | \n",
       "| Hornet 4 Drive | 6    | 110  | 21,4 | 258  | \n",
       "| Hornet Sportabout | 8    | 175  | 18,7 | 360  | \n",
       "\n",
       "\n"
      ],
      "text/plain": [
       "                  cylinder hp  miles.per.gear displacement\n",
       "Mazda RX4         6        110 21,0           160         \n",
       "Mazda RX4 Wag     6        110 21,0           160         \n",
       "Datsun 710        4         93 22,8           108         \n",
       "Hornet 4 Drive    6        110 21,4           258         \n",
       "Hornet Sportabout 8        175 18,7           360         "
      ]
     },
     "metadata": {},
     "output_type": "display_data"
    }
   ],
   "source": [
    "m1 = mtc2[1:5, ]\n",
    "m1"
   ]
  },
  {
   "cell_type": "code",
   "execution_count": 95,
   "metadata": {},
   "outputs": [
    {
     "data": {
      "text/html": [
       "<table>\n",
       "<thead><tr><th></th><th scope=col>cylinder</th><th scope=col>hp</th><th scope=col>miles.per.gear</th><th scope=col>displacement</th></tr></thead>\n",
       "<tbody>\n",
       "\t<tr><th scope=row>Merc 280C</th><td>6    </td><td>123  </td><td>17,8 </td><td>167,6</td></tr>\n",
       "\t<tr><th scope=row>Merc 450SE</th><td>8    </td><td>180  </td><td>16,4 </td><td>275,8</td></tr>\n",
       "\t<tr><th scope=row>Merc 450SL</th><td>8    </td><td>180  </td><td>17,3 </td><td>275,8</td></tr>\n",
       "\t<tr><th scope=row>Merc 450SLC</th><td>8    </td><td>180  </td><td>15,2 </td><td>275,8</td></tr>\n",
       "\t<tr><th scope=row>Cadillac Fleetwood</th><td>8    </td><td>205  </td><td>10,4 </td><td>472,0</td></tr>\n",
       "</tbody>\n",
       "</table>\n"
      ],
      "text/latex": [
       "\\begin{tabular}{r|llll}\n",
       "  & cylinder & hp & miles.per.gear & displacement\\\\\n",
       "\\hline\n",
       "\tMerc 280C & 6     & 123   & 17,8  & 167,6\\\\\n",
       "\tMerc 450SE & 8     & 180   & 16,4  & 275,8\\\\\n",
       "\tMerc 450SL & 8     & 180   & 17,3  & 275,8\\\\\n",
       "\tMerc 450SLC & 8     & 180   & 15,2  & 275,8\\\\\n",
       "\tCadillac Fleetwood & 8     & 205   & 10,4  & 472,0\\\\\n",
       "\\end{tabular}\n"
      ],
      "text/markdown": [
       "\n",
       "| <!--/--> | cylinder | hp | miles.per.gear | displacement | \n",
       "|---|---|---|---|---|\n",
       "| Merc 280C | 6     | 123   | 17,8  | 167,6 | \n",
       "| Merc 450SE | 8     | 180   | 16,4  | 275,8 | \n",
       "| Merc 450SL | 8     | 180   | 17,3  | 275,8 | \n",
       "| Merc 450SLC | 8     | 180   | 15,2  | 275,8 | \n",
       "| Cadillac Fleetwood | 8     | 205   | 10,4  | 472,0 | \n",
       "\n",
       "\n"
      ],
      "text/plain": [
       "                   cylinder hp  miles.per.gear displacement\n",
       "Merc 280C          6        123 17,8           167,6       \n",
       "Merc 450SE         8        180 16,4           275,8       \n",
       "Merc 450SL         8        180 17,3           275,8       \n",
       "Merc 450SLC        8        180 15,2           275,8       \n",
       "Cadillac Fleetwood 8        205 10,4           472,0       "
      ]
     },
     "metadata": {},
     "output_type": "display_data"
    }
   ],
   "source": [
    "m2 = mtc2[11:15, ]\n",
    "m2"
   ]
  },
  {
   "cell_type": "code",
   "execution_count": 96,
   "metadata": {},
   "outputs": [
    {
     "data": {
      "text/html": [
       "<table>\n",
       "<thead><tr><th></th><th scope=col>cylinder</th><th scope=col>hp</th><th scope=col>miles.per.gear</th><th scope=col>displacement</th></tr></thead>\n",
       "<tbody>\n",
       "\t<tr><th scope=row>Mazda RX4</th><td>6    </td><td>110  </td><td>21,0 </td><td>160,0</td></tr>\n",
       "\t<tr><th scope=row>Mazda RX4 Wag</th><td>6    </td><td>110  </td><td>21,0 </td><td>160,0</td></tr>\n",
       "\t<tr><th scope=row>Datsun 710</th><td>4    </td><td> 93  </td><td>22,8 </td><td>108,0</td></tr>\n",
       "\t<tr><th scope=row>Hornet 4 Drive</th><td>6    </td><td>110  </td><td>21,4 </td><td>258,0</td></tr>\n",
       "\t<tr><th scope=row>Hornet Sportabout</th><td>8    </td><td>175  </td><td>18,7 </td><td>360,0</td></tr>\n",
       "\t<tr><th scope=row>Merc 280C</th><td>6    </td><td>123  </td><td>17,8 </td><td>167,6</td></tr>\n",
       "\t<tr><th scope=row>Merc 450SE</th><td>8    </td><td>180  </td><td>16,4 </td><td>275,8</td></tr>\n",
       "\t<tr><th scope=row>Merc 450SL</th><td>8    </td><td>180  </td><td>17,3 </td><td>275,8</td></tr>\n",
       "\t<tr><th scope=row>Merc 450SLC</th><td>8    </td><td>180  </td><td>15,2 </td><td>275,8</td></tr>\n",
       "\t<tr><th scope=row>Cadillac Fleetwood</th><td>8    </td><td>205  </td><td>10,4 </td><td>472,0</td></tr>\n",
       "</tbody>\n",
       "</table>\n"
      ],
      "text/latex": [
       "\\begin{tabular}{r|llll}\n",
       "  & cylinder & hp & miles.per.gear & displacement\\\\\n",
       "\\hline\n",
       "\tMazda RX4 & 6     & 110   & 21,0  & 160,0\\\\\n",
       "\tMazda RX4 Wag & 6     & 110   & 21,0  & 160,0\\\\\n",
       "\tDatsun 710 & 4     &  93   & 22,8  & 108,0\\\\\n",
       "\tHornet 4 Drive & 6     & 110   & 21,4  & 258,0\\\\\n",
       "\tHornet Sportabout & 8     & 175   & 18,7  & 360,0\\\\\n",
       "\tMerc 280C & 6     & 123   & 17,8  & 167,6\\\\\n",
       "\tMerc 450SE & 8     & 180   & 16,4  & 275,8\\\\\n",
       "\tMerc 450SL & 8     & 180   & 17,3  & 275,8\\\\\n",
       "\tMerc 450SLC & 8     & 180   & 15,2  & 275,8\\\\\n",
       "\tCadillac Fleetwood & 8     & 205   & 10,4  & 472,0\\\\\n",
       "\\end{tabular}\n"
      ],
      "text/markdown": [
       "\n",
       "| <!--/--> | cylinder | hp | miles.per.gear | displacement | \n",
       "|---|---|---|---|---|---|---|---|---|---|\n",
       "| Mazda RX4 | 6     | 110   | 21,0  | 160,0 | \n",
       "| Mazda RX4 Wag | 6     | 110   | 21,0  | 160,0 | \n",
       "| Datsun 710 | 4     |  93   | 22,8  | 108,0 | \n",
       "| Hornet 4 Drive | 6     | 110   | 21,4  | 258,0 | \n",
       "| Hornet Sportabout | 8     | 175   | 18,7  | 360,0 | \n",
       "| Merc 280C | 6     | 123   | 17,8  | 167,6 | \n",
       "| Merc 450SE | 8     | 180   | 16,4  | 275,8 | \n",
       "| Merc 450SL | 8     | 180   | 17,3  | 275,8 | \n",
       "| Merc 450SLC | 8     | 180   | 15,2  | 275,8 | \n",
       "| Cadillac Fleetwood | 8     | 205   | 10,4  | 472,0 | \n",
       "\n",
       "\n"
      ],
      "text/plain": [
       "                   cylinder hp  miles.per.gear displacement\n",
       "Mazda RX4          6        110 21,0           160,0       \n",
       "Mazda RX4 Wag      6        110 21,0           160,0       \n",
       "Datsun 710         4         93 22,8           108,0       \n",
       "Hornet 4 Drive     6        110 21,4           258,0       \n",
       "Hornet Sportabout  8        175 18,7           360,0       \n",
       "Merc 280C          6        123 17,8           167,6       \n",
       "Merc 450SE         8        180 16,4           275,8       \n",
       "Merc 450SL         8        180 17,3           275,8       \n",
       "Merc 450SLC        8        180 15,2           275,8       \n",
       "Cadillac Fleetwood 8        205 10,4           472,0       "
      ]
     },
     "metadata": {},
     "output_type": "display_data"
    }
   ],
   "source": [
    "rbind(m1, m2)"
   ]
  },
  {
   "cell_type": "code",
   "execution_count": null,
   "metadata": {},
   "outputs": [],
   "source": [
    "#-- on can merge columns"
   ]
  },
  {
   "cell_type": "code",
   "execution_count": 97,
   "metadata": {},
   "outputs": [
    {
     "data": {
      "text/html": [
       "<table>\n",
       "<thead><tr><th></th><th scope=col>cylinder</th><th scope=col>hp</th></tr></thead>\n",
       "<tbody>\n",
       "\t<tr><th scope=row>Mazda RX4</th><td>6  </td><td>110</td></tr>\n",
       "\t<tr><th scope=row>Mazda RX4 Wag</th><td>6  </td><td>110</td></tr>\n",
       "\t<tr><th scope=row>Datsun 710</th><td>4  </td><td> 93</td></tr>\n",
       "\t<tr><th scope=row>Hornet 4 Drive</th><td>6  </td><td>110</td></tr>\n",
       "\t<tr><th scope=row>Hornet Sportabout</th><td>8  </td><td>175</td></tr>\n",
       "</tbody>\n",
       "</table>\n"
      ],
      "text/latex": [
       "\\begin{tabular}{r|ll}\n",
       "  & cylinder & hp\\\\\n",
       "\\hline\n",
       "\tMazda RX4 & 6   & 110\\\\\n",
       "\tMazda RX4 Wag & 6   & 110\\\\\n",
       "\tDatsun 710 & 4   &  93\\\\\n",
       "\tHornet 4 Drive & 6   & 110\\\\\n",
       "\tHornet Sportabout & 8   & 175\\\\\n",
       "\\end{tabular}\n"
      ],
      "text/markdown": [
       "\n",
       "| <!--/--> | cylinder | hp | \n",
       "|---|---|---|---|---|\n",
       "| Mazda RX4 | 6   | 110 | \n",
       "| Mazda RX4 Wag | 6   | 110 | \n",
       "| Datsun 710 | 4   |  93 | \n",
       "| Hornet 4 Drive | 6   | 110 | \n",
       "| Hornet Sportabout | 8   | 175 | \n",
       "\n",
       "\n"
      ],
      "text/plain": [
       "                  cylinder hp \n",
       "Mazda RX4         6        110\n",
       "Mazda RX4 Wag     6        110\n",
       "Datsun 710        4         93\n",
       "Hornet 4 Drive    6        110\n",
       "Hornet Sportabout 8        175"
      ]
     },
     "metadata": {},
     "output_type": "display_data"
    }
   ],
   "source": [
    "m1 <- mtc2[1:5, 1:2]\n",
    "m1"
   ]
  },
  {
   "cell_type": "code",
   "execution_count": 98,
   "metadata": {},
   "outputs": [
    {
     "data": {
      "text/html": [
       "<table>\n",
       "<thead><tr><th></th><th scope=col>miles.per.gear</th><th scope=col>displacement</th></tr></thead>\n",
       "<tbody>\n",
       "\t<tr><th scope=row>Mazda RX4</th><td>21,0</td><td>160 </td></tr>\n",
       "\t<tr><th scope=row>Mazda RX4 Wag</th><td>21,0</td><td>160 </td></tr>\n",
       "\t<tr><th scope=row>Datsun 710</th><td>22,8</td><td>108 </td></tr>\n",
       "\t<tr><th scope=row>Hornet 4 Drive</th><td>21,4</td><td>258 </td></tr>\n",
       "\t<tr><th scope=row>Hornet Sportabout</th><td>18,7</td><td>360 </td></tr>\n",
       "</tbody>\n",
       "</table>\n"
      ],
      "text/latex": [
       "\\begin{tabular}{r|ll}\n",
       "  & miles.per.gear & displacement\\\\\n",
       "\\hline\n",
       "\tMazda RX4 & 21,0 & 160 \\\\\n",
       "\tMazda RX4 Wag & 21,0 & 160 \\\\\n",
       "\tDatsun 710 & 22,8 & 108 \\\\\n",
       "\tHornet 4 Drive & 21,4 & 258 \\\\\n",
       "\tHornet Sportabout & 18,7 & 360 \\\\\n",
       "\\end{tabular}\n"
      ],
      "text/markdown": [
       "\n",
       "| <!--/--> | miles.per.gear | displacement | \n",
       "|---|---|---|---|---|\n",
       "| Mazda RX4 | 21,0 | 160  | \n",
       "| Mazda RX4 Wag | 21,0 | 160  | \n",
       "| Datsun 710 | 22,8 | 108  | \n",
       "| Hornet 4 Drive | 21,4 | 258  | \n",
       "| Hornet Sportabout | 18,7 | 360  | \n",
       "\n",
       "\n"
      ],
      "text/plain": [
       "                  miles.per.gear displacement\n",
       "Mazda RX4         21,0           160         \n",
       "Mazda RX4 Wag     21,0           160         \n",
       "Datsun 710        22,8           108         \n",
       "Hornet 4 Drive    21,4           258         \n",
       "Hornet Sportabout 18,7           360         "
      ]
     },
     "metadata": {},
     "output_type": "display_data"
    }
   ],
   "source": [
    "m2 = mtc2[1:5, 3:4]\n",
    "m2"
   ]
  },
  {
   "cell_type": "code",
   "execution_count": 99,
   "metadata": {},
   "outputs": [
    {
     "data": {
      "text/html": [
       "<table>\n",
       "<thead><tr><th></th><th scope=col>cylinder</th><th scope=col>hp</th><th scope=col>miles.per.gear</th><th scope=col>displacement</th></tr></thead>\n",
       "<tbody>\n",
       "\t<tr><th scope=row>Mazda RX4</th><td>6   </td><td>110 </td><td>21,0</td><td>160 </td></tr>\n",
       "\t<tr><th scope=row>Mazda RX4 Wag</th><td>6   </td><td>110 </td><td>21,0</td><td>160 </td></tr>\n",
       "\t<tr><th scope=row>Datsun 710</th><td>4   </td><td> 93 </td><td>22,8</td><td>108 </td></tr>\n",
       "\t<tr><th scope=row>Hornet 4 Drive</th><td>6   </td><td>110 </td><td>21,4</td><td>258 </td></tr>\n",
       "\t<tr><th scope=row>Hornet Sportabout</th><td>8   </td><td>175 </td><td>18,7</td><td>360 </td></tr>\n",
       "</tbody>\n",
       "</table>\n"
      ],
      "text/latex": [
       "\\begin{tabular}{r|llll}\n",
       "  & cylinder & hp & miles.per.gear & displacement\\\\\n",
       "\\hline\n",
       "\tMazda RX4 & 6    & 110  & 21,0 & 160 \\\\\n",
       "\tMazda RX4 Wag & 6    & 110  & 21,0 & 160 \\\\\n",
       "\tDatsun 710 & 4    &  93  & 22,8 & 108 \\\\\n",
       "\tHornet 4 Drive & 6    & 110  & 21,4 & 258 \\\\\n",
       "\tHornet Sportabout & 8    & 175  & 18,7 & 360 \\\\\n",
       "\\end{tabular}\n"
      ],
      "text/markdown": [
       "\n",
       "| <!--/--> | cylinder | hp | miles.per.gear | displacement | \n",
       "|---|---|---|---|---|\n",
       "| Mazda RX4 | 6    | 110  | 21,0 | 160  | \n",
       "| Mazda RX4 Wag | 6    | 110  | 21,0 | 160  | \n",
       "| Datsun 710 | 4    |  93  | 22,8 | 108  | \n",
       "| Hornet 4 Drive | 6    | 110  | 21,4 | 258  | \n",
       "| Hornet Sportabout | 8    | 175  | 18,7 | 360  | \n",
       "\n",
       "\n"
      ],
      "text/plain": [
       "                  cylinder hp  miles.per.gear displacement\n",
       "Mazda RX4         6        110 21,0           160         \n",
       "Mazda RX4 Wag     6        110 21,0           160         \n",
       "Datsun 710        4         93 22,8           108         \n",
       "Hornet 4 Drive    6        110 21,4           258         \n",
       "Hornet Sportabout 8        175 18,7           360         "
      ]
     },
     "metadata": {},
     "output_type": "display_data"
    }
   ],
   "source": [
    "cbind(m1,m2)"
   ]
  },
  {
   "cell_type": "code",
   "execution_count": 101,
   "metadata": {},
   "outputs": [
    {
     "name": "stdout",
     "output_type": "stream",
     "text": [
      "    a  b  c\n",
      "r1 17 80 38\n",
      "r2 33 60 99\n",
      "r3 13 30 57\n",
      "    a  b  c\n",
      "r1 51 59 80\n",
      "r2 73 16 94\n",
      "r3 76 85 66\n"
     ]
    }
   ],
   "source": [
    "#-- these operations can be also used in matrices\n",
    "\n",
    "\n",
    "set.seed(3)\n",
    "\n",
    "v1 = sample.int(100, 3)\n",
    "v2 = sample.int(100, 3)\n",
    "v3 = sample.int(100, 3)\n",
    "\n",
    "mat1 = matrix( c(v1,v2,v3), ncol=3, nrow=3, byrow = T)\n",
    "colnames(mat1) = c(\"a\", \"b\", \"c\")\n",
    "rownames(mat1) = c(\"r1\", \"r2\", \"r3\")\n",
    "\n",
    "\n",
    "set.seed(32)\n",
    "\n",
    "v1 = sample.int(100, 3)\n",
    "v2 = sample.int(100, 3)\n",
    "v3 = sample.int(100, 3)\n",
    "\n",
    "mat2 = matrix( c(v1,v2,v3), ncol=3, nrow=3, byrow = T)\n",
    "\n",
    "colnames(mat2) = c(\"a\", \"b\", \"c\")\n",
    "rownames(mat2) = c(\"r1\", \"r2\", \"r3\")\n",
    "\n",
    "print(mat1)\n",
    "print(mat2)"
   ]
  },
  {
   "cell_type": "code",
   "execution_count": 102,
   "metadata": {},
   "outputs": [
    {
     "data": {
      "text/html": [
       "<table>\n",
       "<thead><tr><th></th><th scope=col>a</th><th scope=col>b</th><th scope=col>c</th></tr></thead>\n",
       "<tbody>\n",
       "\t<tr><th scope=row>r1</th><td>17</td><td>80</td><td>38</td></tr>\n",
       "\t<tr><th scope=row>r2</th><td>33</td><td>60</td><td>99</td></tr>\n",
       "\t<tr><th scope=row>r3</th><td>13</td><td>30</td><td>57</td></tr>\n",
       "\t<tr><th scope=row>r1</th><td>51</td><td>59</td><td>80</td></tr>\n",
       "\t<tr><th scope=row>r2</th><td>73</td><td>16</td><td>94</td></tr>\n",
       "\t<tr><th scope=row>r3</th><td>76</td><td>85</td><td>66</td></tr>\n",
       "</tbody>\n",
       "</table>\n"
      ],
      "text/latex": [
       "\\begin{tabular}{r|lll}\n",
       "  & a & b & c\\\\\n",
       "\\hline\n",
       "\tr1 & 17 & 80 & 38\\\\\n",
       "\tr2 & 33 & 60 & 99\\\\\n",
       "\tr3 & 13 & 30 & 57\\\\\n",
       "\tr1 & 51 & 59 & 80\\\\\n",
       "\tr2 & 73 & 16 & 94\\\\\n",
       "\tr3 & 76 & 85 & 66\\\\\n",
       "\\end{tabular}\n"
      ],
      "text/markdown": [
       "\n",
       "| <!--/--> | a | b | c | \n",
       "|---|---|---|---|---|---|\n",
       "| r1 | 17 | 80 | 38 | \n",
       "| r2 | 33 | 60 | 99 | \n",
       "| r3 | 13 | 30 | 57 | \n",
       "| r1 | 51 | 59 | 80 | \n",
       "| r2 | 73 | 16 | 94 | \n",
       "| r3 | 76 | 85 | 66 | \n",
       "\n",
       "\n"
      ],
      "text/plain": [
       "   a  b  c \n",
       "r1 17 80 38\n",
       "r2 33 60 99\n",
       "r3 13 30 57\n",
       "r1 51 59 80\n",
       "r2 73 16 94\n",
       "r3 76 85 66"
      ]
     },
     "metadata": {},
     "output_type": "display_data"
    }
   ],
   "source": [
    "rbind(mat1, mat2)"
   ]
  },
  {
   "cell_type": "code",
   "execution_count": 103,
   "metadata": {},
   "outputs": [
    {
     "data": {
      "text/html": [
       "<table>\n",
       "<thead><tr><th></th><th scope=col>a</th><th scope=col>b</th><th scope=col>c</th><th scope=col>a</th><th scope=col>b</th><th scope=col>c</th></tr></thead>\n",
       "<tbody>\n",
       "\t<tr><th scope=row>r1</th><td>17</td><td>80</td><td>38</td><td>51</td><td>59</td><td>80</td></tr>\n",
       "\t<tr><th scope=row>r2</th><td>33</td><td>60</td><td>99</td><td>73</td><td>16</td><td>94</td></tr>\n",
       "\t<tr><th scope=row>r3</th><td>13</td><td>30</td><td>57</td><td>76</td><td>85</td><td>66</td></tr>\n",
       "</tbody>\n",
       "</table>\n"
      ],
      "text/latex": [
       "\\begin{tabular}{r|llllll}\n",
       "  & a & b & c & a & b & c\\\\\n",
       "\\hline\n",
       "\tr1 & 17 & 80 & 38 & 51 & 59 & 80\\\\\n",
       "\tr2 & 33 & 60 & 99 & 73 & 16 & 94\\\\\n",
       "\tr3 & 13 & 30 & 57 & 76 & 85 & 66\\\\\n",
       "\\end{tabular}\n"
      ],
      "text/markdown": [
       "\n",
       "| <!--/--> | a | b | c | a | b | c | \n",
       "|---|---|---|\n",
       "| r1 | 17 | 80 | 38 | 51 | 59 | 80 | \n",
       "| r2 | 33 | 60 | 99 | 73 | 16 | 94 | \n",
       "| r3 | 13 | 30 | 57 | 76 | 85 | 66 | \n",
       "\n",
       "\n"
      ],
      "text/plain": [
       "   a  b  c  a  b  c \n",
       "r1 17 80 38 51 59 80\n",
       "r2 33 60 99 73 16 94\n",
       "r3 13 30 57 76 85 66"
      ]
     },
     "metadata": {},
     "output_type": "display_data"
    }
   ],
   "source": [
    "cbind(mat1, mat2)"
   ]
  },
  {
   "cell_type": "markdown",
   "metadata": {},
   "source": [
    "### Lets complicate a little with dataframe"
   ]
  },
  {
   "cell_type": "code",
   "execution_count": 29,
   "metadata": {},
   "outputs": [],
   "source": [
    "?mtcars"
   ]
  },
  {
   "cell_type": "code",
   "execution_count": 25,
   "metadata": {},
   "outputs": [
    {
     "data": {
      "text/html": [
       "<ol class=list-inline>\n",
       "\t<li>'mpg'</li>\n",
       "\t<li>'cyl'</li>\n",
       "\t<li>'disp'</li>\n",
       "\t<li>'hp'</li>\n",
       "\t<li>'drat'</li>\n",
       "\t<li>'wt'</li>\n",
       "\t<li>'qsec'</li>\n",
       "\t<li>'vs'</li>\n",
       "\t<li>'am'</li>\n",
       "\t<li>'gear'</li>\n",
       "\t<li>'carb'</li>\n",
       "</ol>\n"
      ],
      "text/latex": [
       "\\begin{enumerate*}\n",
       "\\item 'mpg'\n",
       "\\item 'cyl'\n",
       "\\item 'disp'\n",
       "\\item 'hp'\n",
       "\\item 'drat'\n",
       "\\item 'wt'\n",
       "\\item 'qsec'\n",
       "\\item 'vs'\n",
       "\\item 'am'\n",
       "\\item 'gear'\n",
       "\\item 'carb'\n",
       "\\end{enumerate*}\n"
      ],
      "text/markdown": [
       "1. 'mpg'\n",
       "2. 'cyl'\n",
       "3. 'disp'\n",
       "4. 'hp'\n",
       "5. 'drat'\n",
       "6. 'wt'\n",
       "7. 'qsec'\n",
       "8. 'vs'\n",
       "9. 'am'\n",
       "10. 'gear'\n",
       "11. 'carb'\n",
       "\n",
       "\n"
      ],
      "text/plain": [
       " [1] \"mpg\"  \"cyl\"  \"disp\" \"hp\"   \"drat\" \"wt\"   \"qsec\" \"vs\"   \"am\"   \"gear\"\n",
       "[11] \"carb\""
      ]
     },
     "metadata": {},
     "output_type": "display_data"
    }
   ],
   "source": [
    "colnames(mtcars)"
   ]
  },
  {
   "cell_type": "code",
   "execution_count": 27,
   "metadata": {},
   "outputs": [
    {
     "data": {
      "text/plain": [
       "\n",
       " 4  6  8 \n",
       "11  7 14 "
      ]
     },
     "metadata": {},
     "output_type": "display_data"
    }
   ],
   "source": [
    "#-- Did you understand?\n",
    "table(mtcars$cyl)"
   ]
  },
  {
   "cell_type": "code",
   "execution_count": 33,
   "metadata": {},
   "outputs": [
    {
     "data": {
      "text/plain": [
       "\n",
       "1.513 1.615 1.835 1.935  2.14   2.2  2.32 2.465  2.62  2.77  2.78 2.875  3.15 \n",
       "    1     1     1     1     1     1     1     1     1     1     1     1     1 \n",
       " 3.17  3.19 3.215 3.435  3.44  3.46  3.52  3.57  3.73  3.78  3.84 3.845  4.07 \n",
       "    1     1     1     1     3     1     1     2     1     1     1     1     1 \n",
       " 5.25 5.345 5.424 \n",
       "    1     1     1 "
      ]
     },
     "metadata": {},
     "output_type": "display_data"
    }
   ],
   "source": [
    "table(mtcars$wt)"
   ]
  },
  {
   "cell_type": "code",
   "execution_count": 35,
   "metadata": {},
   "outputs": [
    {
     "data": {
      "text/plain": [
       "\n",
       " 0  1 \n",
       "18 14 "
      ]
     },
     "metadata": {},
     "output_type": "display_data"
    }
   ],
   "source": [
    "table(mtcars$vs)"
   ]
  },
  {
   "cell_type": "code",
   "execution_count": 41,
   "metadata": {},
   "outputs": [
    {
     "data": {
      "text/plain": [
       "   \n",
       "     4  6  8\n",
       "  0  1  3 14\n",
       "  1 10  4  0"
      ]
     },
     "metadata": {},
     "output_type": "display_data"
    }
   ],
   "source": [
    "tt <- table(mtcars$vs, mtcars$cyl)\n",
    "tt"
   ]
  },
  {
   "cell_type": "code",
   "execution_count": 42,
   "metadata": {},
   "outputs": [
    {
     "data": {
      "text/html": [
       "<dl class=dl-horizontal>\n",
       "\t<dt>4</dt>\n",
       "\t\t<dd>1</dd>\n",
       "\t<dt>6</dt>\n",
       "\t\t<dd>3</dd>\n",
       "\t<dt>8</dt>\n",
       "\t\t<dd>14</dd>\n",
       "</dl>\n"
      ],
      "text/latex": [
       "\\begin{description*}\n",
       "\\item[4] 1\n",
       "\\item[6] 3\n",
       "\\item[8] 14\n",
       "\\end{description*}\n"
      ],
      "text/markdown": [
       "4\n",
       ":   16\n",
       ":   38\n",
       ":   14\n",
       "\n"
      ],
      "text/plain": [
       " 4  6  8 \n",
       " 1  3 14 "
      ]
     },
     "metadata": {},
     "output_type": "display_data"
    }
   ],
   "source": [
    "tt[1,]"
   ]
  },
  {
   "cell_type": "code",
   "execution_count": 43,
   "metadata": {},
   "outputs": [
    {
     "data": {
      "text/html": [
       "<dl class=dl-horizontal>\n",
       "\t<dt>4</dt>\n",
       "\t\t<dd>10</dd>\n",
       "\t<dt>6</dt>\n",
       "\t\t<dd>4</dd>\n",
       "\t<dt>8</dt>\n",
       "\t\t<dd>0</dd>\n",
       "</dl>\n"
      ],
      "text/latex": [
       "\\begin{description*}\n",
       "\\item[4] 10\n",
       "\\item[6] 4\n",
       "\\item[8] 0\n",
       "\\end{description*}\n"
      ],
      "text/markdown": [
       "4\n",
       ":   106\n",
       ":   48\n",
       ":   0\n",
       "\n"
      ],
      "text/plain": [
       " 4  6  8 \n",
       "10  4  0 "
      ]
     },
     "metadata": {},
     "output_type": "display_data"
    }
   ],
   "source": [
    "tt[2,]"
   ]
  },
  {
   "cell_type": "code",
   "execution_count": 46,
   "metadata": {},
   "outputs": [
    {
     "data": {
      "text/html": [
       "<table>\n",
       "<thead><tr><th scope=col>V1</th><th scope=col>V2</th><th scope=col>V3</th></tr></thead>\n",
       "<tbody>\n",
       "\t<tr><td> 1</td><td>3 </td><td>14</td></tr>\n",
       "\t<tr><td>10</td><td>4 </td><td> 0</td></tr>\n",
       "</tbody>\n",
       "</table>\n"
      ],
      "text/latex": [
       "\\begin{tabular}{r|lll}\n",
       " V1 & V2 & V3\\\\\n",
       "\\hline\n",
       "\t  1 & 3  & 14\\\\\n",
       "\t 10 & 4  &  0\\\\\n",
       "\\end{tabular}\n"
      ],
      "text/markdown": [
       "\n",
       "V1 | V2 | V3 | \n",
       "|---|---|\n",
       "|  1 | 3  | 14 | \n",
       "| 10 | 4  |  0 | \n",
       "\n",
       "\n"
      ],
      "text/plain": [
       "  V1 V2 V3\n",
       "1  1 3  14\n",
       "2 10 4   0"
      ]
     },
     "metadata": {},
     "output_type": "display_data"
    }
   ],
   "source": [
    "mat = matrix( c(tt[1,], tt[2,]), nrow=3, byrow=F)\n",
    "df = as.data.frame(t(mat))\n",
    "\n",
    "df"
   ]
  },
  {
   "cell_type": "code",
   "execution_count": 48,
   "metadata": {},
   "outputs": [
    {
     "data": {
      "text/html": [
       "<table>\n",
       "<thead><tr><th></th><th scope=col>4cyl</th><th scope=col>6cyl</th><th scope=col>8cyl</th></tr></thead>\n",
       "<tbody>\n",
       "\t<tr><th scope=row>vshape</th><td> 1</td><td>3 </td><td>14</td></tr>\n",
       "\t<tr><th scope=row>straight</th><td>10</td><td>4 </td><td> 0</td></tr>\n",
       "</tbody>\n",
       "</table>\n"
      ],
      "text/latex": [
       "\\begin{tabular}{r|lll}\n",
       "  & 4cyl & 6cyl & 8cyl\\\\\n",
       "\\hline\n",
       "\tvshape &  1 & 3  & 14\\\\\n",
       "\tstraight & 10 & 4  &  0\\\\\n",
       "\\end{tabular}\n"
      ],
      "text/markdown": [
       "\n",
       "| <!--/--> | 4cyl | 6cyl | 8cyl | \n",
       "|---|---|\n",
       "| vshape |  1 | 3  | 14 | \n",
       "| straight | 10 | 4  |  0 | \n",
       "\n",
       "\n"
      ],
      "text/plain": [
       "         4cyl 6cyl 8cyl\n",
       "vshape    1   3    14  \n",
       "straight 10   4     0  "
      ]
     },
     "metadata": {},
     "output_type": "display_data"
    }
   ],
   "source": [
    "rownames(df) = c(\"vshape\", \"straight\")\n",
    "colnames(df) = c(\"4cyl\", \"6cyl\", \"8cyl\")\n",
    "df\n"
   ]
  },
  {
   "cell_type": "code",
   "execution_count": 50,
   "metadata": {},
   "outputs": [
    {
     "data": {
      "text/html": [
       "<ol class=list-inline>\n",
       "\t<li>'mpg'</li>\n",
       "\t<li>'cyl'</li>\n",
       "\t<li>'disp'</li>\n",
       "\t<li>'hp'</li>\n",
       "\t<li>'drat'</li>\n",
       "\t<li>'wt'</li>\n",
       "\t<li>'qsec'</li>\n",
       "\t<li>'vs'</li>\n",
       "\t<li>'am'</li>\n",
       "\t<li>'gear'</li>\n",
       "\t<li>'carb'</li>\n",
       "</ol>\n"
      ],
      "text/latex": [
       "\\begin{enumerate*}\n",
       "\\item 'mpg'\n",
       "\\item 'cyl'\n",
       "\\item 'disp'\n",
       "\\item 'hp'\n",
       "\\item 'drat'\n",
       "\\item 'wt'\n",
       "\\item 'qsec'\n",
       "\\item 'vs'\n",
       "\\item 'am'\n",
       "\\item 'gear'\n",
       "\\item 'carb'\n",
       "\\end{enumerate*}\n"
      ],
      "text/markdown": [
       "1. 'mpg'\n",
       "2. 'cyl'\n",
       "3. 'disp'\n",
       "4. 'hp'\n",
       "5. 'drat'\n",
       "6. 'wt'\n",
       "7. 'qsec'\n",
       "8. 'vs'\n",
       "9. 'am'\n",
       "10. 'gear'\n",
       "11. 'carb'\n",
       "\n",
       "\n"
      ],
      "text/plain": [
       " [1] \"mpg\"  \"cyl\"  \"disp\" \"hp\"   \"drat\" \"wt\"   \"qsec\" \"vs\"   \"am\"   \"gear\"\n",
       "[11] \"carb\""
      ]
     },
     "metadata": {},
     "output_type": "display_data"
    }
   ],
   "source": [
    "colnames(mtcars)"
   ]
  },
  {
   "cell_type": "code",
   "execution_count": 52,
   "metadata": {},
   "outputs": [
    {
     "data": {
      "text/html": [
       "<table>\n",
       "<thead><tr><th></th><th scope=col>vs</th><th scope=col>hp</th><th scope=col>cyl</th></tr></thead>\n",
       "<tbody>\n",
       "\t<tr><th scope=row>Mazda RX4</th><td>0  </td><td>110</td><td>6  </td></tr>\n",
       "\t<tr><th scope=row>Mazda RX4 Wag</th><td>0  </td><td>110</td><td>6  </td></tr>\n",
       "\t<tr><th scope=row>Datsun 710</th><td>1  </td><td> 93</td><td>4  </td></tr>\n",
       "\t<tr><th scope=row>Hornet 4 Drive</th><td>1  </td><td>110</td><td>6  </td></tr>\n",
       "\t<tr><th scope=row>Hornet Sportabout</th><td>0  </td><td>175</td><td>8  </td></tr>\n",
       "\t<tr><th scope=row>Valiant</th><td>1  </td><td>105</td><td>6  </td></tr>\n",
       "\t<tr><th scope=row>Duster 360</th><td>0  </td><td>245</td><td>8  </td></tr>\n",
       "\t<tr><th scope=row>Merc 240D</th><td>1  </td><td> 62</td><td>4  </td></tr>\n",
       "\t<tr><th scope=row>Merc 230</th><td>1  </td><td> 95</td><td>4  </td></tr>\n",
       "\t<tr><th scope=row>Merc 280</th><td>1  </td><td>123</td><td>6  </td></tr>\n",
       "\t<tr><th scope=row>Merc 280C</th><td>1  </td><td>123</td><td>6  </td></tr>\n",
       "\t<tr><th scope=row>Merc 450SE</th><td>0  </td><td>180</td><td>8  </td></tr>\n",
       "\t<tr><th scope=row>Merc 450SL</th><td>0  </td><td>180</td><td>8  </td></tr>\n",
       "\t<tr><th scope=row>Merc 450SLC</th><td>0  </td><td>180</td><td>8  </td></tr>\n",
       "\t<tr><th scope=row>Cadillac Fleetwood</th><td>0  </td><td>205</td><td>8  </td></tr>\n",
       "\t<tr><th scope=row>Lincoln Continental</th><td>0  </td><td>215</td><td>8  </td></tr>\n",
       "\t<tr><th scope=row>Chrysler Imperial</th><td>0  </td><td>230</td><td>8  </td></tr>\n",
       "\t<tr><th scope=row>Fiat 128</th><td>1  </td><td> 66</td><td>4  </td></tr>\n",
       "\t<tr><th scope=row>Honda Civic</th><td>1  </td><td> 52</td><td>4  </td></tr>\n",
       "\t<tr><th scope=row>Toyota Corolla</th><td>1  </td><td> 65</td><td>4  </td></tr>\n",
       "\t<tr><th scope=row>Toyota Corona</th><td>1  </td><td> 97</td><td>4  </td></tr>\n",
       "\t<tr><th scope=row>Dodge Challenger</th><td>0  </td><td>150</td><td>8  </td></tr>\n",
       "\t<tr><th scope=row>AMC Javelin</th><td>0  </td><td>150</td><td>8  </td></tr>\n",
       "\t<tr><th scope=row>Camaro Z28</th><td>0  </td><td>245</td><td>8  </td></tr>\n",
       "\t<tr><th scope=row>Pontiac Firebird</th><td>0  </td><td>175</td><td>8  </td></tr>\n",
       "\t<tr><th scope=row>Fiat X1-9</th><td>1  </td><td> 66</td><td>4  </td></tr>\n",
       "\t<tr><th scope=row>Porsche 914-2</th><td>0  </td><td> 91</td><td>4  </td></tr>\n",
       "\t<tr><th scope=row>Lotus Europa</th><td>1  </td><td>113</td><td>4  </td></tr>\n",
       "\t<tr><th scope=row>Ford Pantera L</th><td>0  </td><td>264</td><td>8  </td></tr>\n",
       "\t<tr><th scope=row>Ferrari Dino</th><td>0  </td><td>175</td><td>6  </td></tr>\n",
       "\t<tr><th scope=row>Maserati Bora</th><td>0  </td><td>335</td><td>8  </td></tr>\n",
       "\t<tr><th scope=row>Volvo 142E</th><td>1  </td><td>109</td><td>4  </td></tr>\n",
       "</tbody>\n",
       "</table>\n"
      ],
      "text/latex": [
       "\\begin{tabular}{r|lll}\n",
       "  & vs & hp & cyl\\\\\n",
       "\\hline\n",
       "\tMazda RX4 & 0   & 110 & 6  \\\\\n",
       "\tMazda RX4 Wag & 0   & 110 & 6  \\\\\n",
       "\tDatsun 710 & 1   &  93 & 4  \\\\\n",
       "\tHornet 4 Drive & 1   & 110 & 6  \\\\\n",
       "\tHornet Sportabout & 0   & 175 & 8  \\\\\n",
       "\tValiant & 1   & 105 & 6  \\\\\n",
       "\tDuster 360 & 0   & 245 & 8  \\\\\n",
       "\tMerc 240D & 1   &  62 & 4  \\\\\n",
       "\tMerc 230 & 1   &  95 & 4  \\\\\n",
       "\tMerc 280 & 1   & 123 & 6  \\\\\n",
       "\tMerc 280C & 1   & 123 & 6  \\\\\n",
       "\tMerc 450SE & 0   & 180 & 8  \\\\\n",
       "\tMerc 450SL & 0   & 180 & 8  \\\\\n",
       "\tMerc 450SLC & 0   & 180 & 8  \\\\\n",
       "\tCadillac Fleetwood & 0   & 205 & 8  \\\\\n",
       "\tLincoln Continental & 0   & 215 & 8  \\\\\n",
       "\tChrysler Imperial & 0   & 230 & 8  \\\\\n",
       "\tFiat 128 & 1   &  66 & 4  \\\\\n",
       "\tHonda Civic & 1   &  52 & 4  \\\\\n",
       "\tToyota Corolla & 1   &  65 & 4  \\\\\n",
       "\tToyota Corona & 1   &  97 & 4  \\\\\n",
       "\tDodge Challenger & 0   & 150 & 8  \\\\\n",
       "\tAMC Javelin & 0   & 150 & 8  \\\\\n",
       "\tCamaro Z28 & 0   & 245 & 8  \\\\\n",
       "\tPontiac Firebird & 0   & 175 & 8  \\\\\n",
       "\tFiat X1-9 & 1   &  66 & 4  \\\\\n",
       "\tPorsche 914-2 & 0   &  91 & 4  \\\\\n",
       "\tLotus Europa & 1   & 113 & 4  \\\\\n",
       "\tFord Pantera L & 0   & 264 & 8  \\\\\n",
       "\tFerrari Dino & 0   & 175 & 6  \\\\\n",
       "\tMaserati Bora & 0   & 335 & 8  \\\\\n",
       "\tVolvo 142E & 1   & 109 & 4  \\\\\n",
       "\\end{tabular}\n"
      ],
      "text/markdown": [
       "\n",
       "| <!--/--> | vs | hp | cyl | \n",
       "|---|---|---|---|---|---|---|---|---|---|---|---|---|---|---|---|---|---|---|---|---|---|---|---|---|---|---|---|---|---|---|---|\n",
       "| Mazda RX4 | 0   | 110 | 6   | \n",
       "| Mazda RX4 Wag | 0   | 110 | 6   | \n",
       "| Datsun 710 | 1   |  93 | 4   | \n",
       "| Hornet 4 Drive | 1   | 110 | 6   | \n",
       "| Hornet Sportabout | 0   | 175 | 8   | \n",
       "| Valiant | 1   | 105 | 6   | \n",
       "| Duster 360 | 0   | 245 | 8   | \n",
       "| Merc 240D | 1   |  62 | 4   | \n",
       "| Merc 230 | 1   |  95 | 4   | \n",
       "| Merc 280 | 1   | 123 | 6   | \n",
       "| Merc 280C | 1   | 123 | 6   | \n",
       "| Merc 450SE | 0   | 180 | 8   | \n",
       "| Merc 450SL | 0   | 180 | 8   | \n",
       "| Merc 450SLC | 0   | 180 | 8   | \n",
       "| Cadillac Fleetwood | 0   | 205 | 8   | \n",
       "| Lincoln Continental | 0   | 215 | 8   | \n",
       "| Chrysler Imperial | 0   | 230 | 8   | \n",
       "| Fiat 128 | 1   |  66 | 4   | \n",
       "| Honda Civic | 1   |  52 | 4   | \n",
       "| Toyota Corolla | 1   |  65 | 4   | \n",
       "| Toyota Corona | 1   |  97 | 4   | \n",
       "| Dodge Challenger | 0   | 150 | 8   | \n",
       "| AMC Javelin | 0   | 150 | 8   | \n",
       "| Camaro Z28 | 0   | 245 | 8   | \n",
       "| Pontiac Firebird | 0   | 175 | 8   | \n",
       "| Fiat X1-9 | 1   |  66 | 4   | \n",
       "| Porsche 914-2 | 0   |  91 | 4   | \n",
       "| Lotus Europa | 1   | 113 | 4   | \n",
       "| Ford Pantera L | 0   | 264 | 8   | \n",
       "| Ferrari Dino | 0   | 175 | 6   | \n",
       "| Maserati Bora | 0   | 335 | 8   | \n",
       "| Volvo 142E | 1   | 109 | 4   | \n",
       "\n",
       "\n"
      ],
      "text/plain": [
       "                    vs hp  cyl\n",
       "Mazda RX4           0  110 6  \n",
       "Mazda RX4 Wag       0  110 6  \n",
       "Datsun 710          1   93 4  \n",
       "Hornet 4 Drive      1  110 6  \n",
       "Hornet Sportabout   0  175 8  \n",
       "Valiant             1  105 6  \n",
       "Duster 360          0  245 8  \n",
       "Merc 240D           1   62 4  \n",
       "Merc 230            1   95 4  \n",
       "Merc 280            1  123 6  \n",
       "Merc 280C           1  123 6  \n",
       "Merc 450SE          0  180 8  \n",
       "Merc 450SL          0  180 8  \n",
       "Merc 450SLC         0  180 8  \n",
       "Cadillac Fleetwood  0  205 8  \n",
       "Lincoln Continental 0  215 8  \n",
       "Chrysler Imperial   0  230 8  \n",
       "Fiat 128            1   66 4  \n",
       "Honda Civic         1   52 4  \n",
       "Toyota Corolla      1   65 4  \n",
       "Toyota Corona       1   97 4  \n",
       "Dodge Challenger    0  150 8  \n",
       "AMC Javelin         0  150 8  \n",
       "Camaro Z28          0  245 8  \n",
       "Pontiac Firebird    0  175 8  \n",
       "Fiat X1-9           1   66 4  \n",
       "Porsche 914-2       0   91 4  \n",
       "Lotus Europa        1  113 4  \n",
       "Ford Pantera L      0  264 8  \n",
       "Ferrari Dino        0  175 6  \n",
       "Maserati Bora       0  335 8  \n",
       "Volvo 142E          1  109 4  "
      ]
     },
     "metadata": {},
     "output_type": "display_data"
    }
   ],
   "source": [
    "mtcars[, c(\"vs\", \"hp\", \"cyl\")]"
   ]
  },
  {
   "cell_type": "code",
   "execution_count": 54,
   "metadata": {},
   "outputs": [
    {
     "data": {
      "text/html": [
       "<table>\n",
       "<thead><tr><th></th><th scope=col>vs</th><th scope=col>hp</th><th scope=col>cyl</th></tr></thead>\n",
       "<tbody>\n",
       "\t<tr><th scope=row>Mazda RX4</th><td>0  </td><td>110</td><td>6  </td></tr>\n",
       "\t<tr><th scope=row>Mazda RX4 Wag</th><td>0  </td><td>110</td><td>6  </td></tr>\n",
       "\t<tr><th scope=row>Datsun 710</th><td>1  </td><td> 93</td><td>4  </td></tr>\n",
       "\t<tr><th scope=row>Hornet 4 Drive</th><td>1  </td><td>110</td><td>6  </td></tr>\n",
       "\t<tr><th scope=row>Hornet Sportabout</th><td>0  </td><td>175</td><td>8  </td></tr>\n",
       "\t<tr><th scope=row>Valiant</th><td>1  </td><td>105</td><td>6  </td></tr>\n",
       "</tbody>\n",
       "</table>\n"
      ],
      "text/latex": [
       "\\begin{tabular}{r|lll}\n",
       "  & vs & hp & cyl\\\\\n",
       "\\hline\n",
       "\tMazda RX4 & 0   & 110 & 6  \\\\\n",
       "\tMazda RX4 Wag & 0   & 110 & 6  \\\\\n",
       "\tDatsun 710 & 1   &  93 & 4  \\\\\n",
       "\tHornet 4 Drive & 1   & 110 & 6  \\\\\n",
       "\tHornet Sportabout & 0   & 175 & 8  \\\\\n",
       "\tValiant & 1   & 105 & 6  \\\\\n",
       "\\end{tabular}\n"
      ],
      "text/markdown": [
       "\n",
       "| <!--/--> | vs | hp | cyl | \n",
       "|---|---|---|---|---|---|\n",
       "| Mazda RX4 | 0   | 110 | 6   | \n",
       "| Mazda RX4 Wag | 0   | 110 | 6   | \n",
       "| Datsun 710 | 1   |  93 | 4   | \n",
       "| Hornet 4 Drive | 1   | 110 | 6   | \n",
       "| Hornet Sportabout | 0   | 175 | 8   | \n",
       "| Valiant | 1   | 105 | 6   | \n",
       "\n",
       "\n"
      ],
      "text/plain": [
       "                  vs hp  cyl\n",
       "Mazda RX4         0  110 6  \n",
       "Mazda RX4 Wag     0  110 6  \n",
       "Datsun 710        1   93 4  \n",
       "Hornet 4 Drive    1  110 6  \n",
       "Hornet Sportabout 0  175 8  \n",
       "Valiant           1  105 6  "
      ]
     },
     "metadata": {},
     "output_type": "display_data"
    }
   ],
   "source": [
    "head(mtcars[, c(\"vs\", \"hp\", \"cyl\")])"
   ]
  },
  {
   "cell_type": "code",
   "execution_count": 56,
   "metadata": {},
   "outputs": [
    {
     "ename": "ERROR",
     "evalue": "Error in `[.data.frame`(mtcars, , c(\"vs\", \"hp\", 2)): undefined columns selected\n",
     "output_type": "error",
     "traceback": [
      "Error in `[.data.frame`(mtcars, , c(\"vs\", \"hp\", 2)): undefined columns selected\nTraceback:\n",
      "1. head(mtcars[, c(\"vs\", \"hp\", 2)])",
      "2. mtcars[, c(\"vs\", \"hp\", 2)]",
      "3. `[.data.frame`(mtcars, , c(\"vs\", \"hp\", 2))",
      "4. stop(\"undefined columns selected\")"
     ]
    }
   ],
   "source": [
    "# we cannot do this\n",
    "head(mtcars[, c(\"vs\", \"hp\", 2)])\n"
   ]
  },
  {
   "cell_type": "code",
   "execution_count": 58,
   "metadata": {},
   "outputs": [
    {
     "data": {
      "text/html": [
       "<table>\n",
       "<thead><tr><th></th><th scope=col>vs</th><th scope=col>hp</th><th scope=col>cyl</th></tr></thead>\n",
       "<tbody>\n",
       "\t<tr><th scope=row>Mazda RX4</th><td>0  </td><td>110</td><td>6  </td></tr>\n",
       "\t<tr><th scope=row>Mazda RX4 Wag</th><td>0  </td><td>110</td><td>6  </td></tr>\n",
       "\t<tr><th scope=row>Datsun 710</th><td>1  </td><td> 93</td><td>4  </td></tr>\n",
       "\t<tr><th scope=row>Hornet 4 Drive</th><td>1  </td><td>110</td><td>6  </td></tr>\n",
       "\t<tr><th scope=row>Hornet Sportabout</th><td>0  </td><td>175</td><td>8  </td></tr>\n",
       "\t<tr><th scope=row>Valiant</th><td>1  </td><td>105</td><td>6  </td></tr>\n",
       "</tbody>\n",
       "</table>\n"
      ],
      "text/latex": [
       "\\begin{tabular}{r|lll}\n",
       "  & vs & hp & cyl\\\\\n",
       "\\hline\n",
       "\tMazda RX4 & 0   & 110 & 6  \\\\\n",
       "\tMazda RX4 Wag & 0   & 110 & 6  \\\\\n",
       "\tDatsun 710 & 1   &  93 & 4  \\\\\n",
       "\tHornet 4 Drive & 1   & 110 & 6  \\\\\n",
       "\tHornet Sportabout & 0   & 175 & 8  \\\\\n",
       "\tValiant & 1   & 105 & 6  \\\\\n",
       "\\end{tabular}\n"
      ],
      "text/markdown": [
       "\n",
       "| <!--/--> | vs | hp | cyl | \n",
       "|---|---|---|---|---|---|\n",
       "| Mazda RX4 | 0   | 110 | 6   | \n",
       "| Mazda RX4 Wag | 0   | 110 | 6   | \n",
       "| Datsun 710 | 1   |  93 | 4   | \n",
       "| Hornet 4 Drive | 1   | 110 | 6   | \n",
       "| Hornet Sportabout | 0   | 175 | 8   | \n",
       "| Valiant | 1   | 105 | 6   | \n",
       "\n",
       "\n"
      ],
      "text/plain": [
       "                  vs hp  cyl\n",
       "Mazda RX4         0  110 6  \n",
       "Mazda RX4 Wag     0  110 6  \n",
       "Datsun 710        1   93 4  \n",
       "Hornet 4 Drive    1  110 6  \n",
       "Hornet Sportabout 0  175 8  \n",
       "Valiant           1  105 6  "
      ]
     },
     "metadata": {},
     "output_type": "display_data"
    }
   ],
   "source": [
    "# but we can do this\n",
    "head(mtcars[, c(8, 4, 2)])"
   ]
  },
  {
   "cell_type": "code",
   "execution_count": 59,
   "metadata": {},
   "outputs": [
    {
     "data": {
      "text/html": [
       "4"
      ],
      "text/latex": [
       "4"
      ],
      "text/markdown": [
       "4"
      ],
      "text/plain": [
       "[1] 4"
      ]
     },
     "metadata": {},
     "output_type": "display_data"
    }
   ],
   "source": [
    "grep(\"hp\", colnames(mtcars))"
   ]
  },
  {
   "cell_type": "code",
   "execution_count": 63,
   "metadata": {},
   "outputs": [
    {
     "data": {
      "text/html": [
       "<table>\n",
       "<thead><tr><th></th><th scope=col>vs</th><th scope=col>hp</th><th scope=col>cyl</th></tr></thead>\n",
       "<tbody>\n",
       "\t<tr><th scope=row>Mazda RX4</th><td>0  </td><td>110</td><td>6  </td></tr>\n",
       "\t<tr><th scope=row>Mazda RX4 Wag</th><td>0  </td><td>110</td><td>6  </td></tr>\n",
       "\t<tr><th scope=row>Datsun 710</th><td>1  </td><td> 93</td><td>4  </td></tr>\n",
       "\t<tr><th scope=row>Hornet 4 Drive</th><td>1  </td><td>110</td><td>6  </td></tr>\n",
       "\t<tr><th scope=row>Hornet Sportabout</th><td>0  </td><td>175</td><td>8  </td></tr>\n",
       "\t<tr><th scope=row>Valiant</th><td>1  </td><td>105</td><td>6  </td></tr>\n",
       "</tbody>\n",
       "</table>\n"
      ],
      "text/latex": [
       "\\begin{tabular}{r|lll}\n",
       "  & vs & hp & cyl\\\\\n",
       "\\hline\n",
       "\tMazda RX4 & 0   & 110 & 6  \\\\\n",
       "\tMazda RX4 Wag & 0   & 110 & 6  \\\\\n",
       "\tDatsun 710 & 1   &  93 & 4  \\\\\n",
       "\tHornet 4 Drive & 1   & 110 & 6  \\\\\n",
       "\tHornet Sportabout & 0   & 175 & 8  \\\\\n",
       "\tValiant & 1   & 105 & 6  \\\\\n",
       "\\end{tabular}\n"
      ],
      "text/markdown": [
       "\n",
       "| <!--/--> | vs | hp | cyl | \n",
       "|---|---|---|---|---|---|\n",
       "| Mazda RX4 | 0   | 110 | 6   | \n",
       "| Mazda RX4 Wag | 0   | 110 | 6   | \n",
       "| Datsun 710 | 1   |  93 | 4   | \n",
       "| Hornet 4 Drive | 1   | 110 | 6   | \n",
       "| Hornet Sportabout | 0   | 175 | 8   | \n",
       "| Valiant | 1   | 105 | 6   | \n",
       "\n",
       "\n"
      ],
      "text/plain": [
       "                  vs hp  cyl\n",
       "Mazda RX4         0  110 6  \n",
       "Mazda RX4 Wag     0  110 6  \n",
       "Datsun 710        1   93 4  \n",
       "Hornet 4 Drive    1  110 6  \n",
       "Hornet Sportabout 0  175 8  \n",
       "Valiant           1  105 6  "
      ]
     },
     "metadata": {},
     "output_type": "display_data"
    }
   ],
   "source": [
    "cols = colnames(mtcars)\n",
    "head(mtcars[, c(grep(\"vs\",cols), grep(\"hp\",cols), grep(\"cyl\",cols))])"
   ]
  },
  {
   "cell_type": "markdown",
   "metadata": {},
   "source": [
    "### Plots in R\n",
    "\n",
    "[see] (https://www.harding.edu/fmccown/r/)"
   ]
  },
  {
   "cell_type": "code",
   "execution_count": 66,
   "metadata": {},
   "outputs": [
    {
     "data": {
      "image/png": "[encoded data removed]",
      "text/plain": [
       "Plot with title “mtcars analysis”"
      ]
     },
     "metadata": {},
     "output_type": "display_data"
    }
   ],
   "source": [
    "plot(mtcars$mpg, mtcars$cyl, xlab=\"mpg\", ylab=\"cyl\", main=\"mtcars analysis\")"
   ]
  },
  {
   "cell_type": "code",
   "execution_count": 70,
   "metadata": {},
   "outputs": [
    {
     "data": {
      "image/png": "[encoded data removed]",
      "text/plain": [
       "Plot with title “mtcars analysis”"
      ]
     },
     "metadata": {},
     "output_type": "display_data"
    }
   ],
   "source": [
    "plot(mtcars$mpg, mtcars$wt, xlab=\"mpg\", ylab=\"weight\", main=\"mtcars analysis\")"
   ]
  },
  {
   "cell_type": "code",
   "execution_count": 72,
   "metadata": {},
   "outputs": [
    {
     "data": {
      "text/plain": [
       "\n",
       "Call:\n",
       "lm(formula = mtcars$wt ~ mtcars$mpg)\n",
       "\n",
       "Coefficients:\n",
       "(Intercept)   mtcars$mpg  \n",
       "     6,0473      -0,1409  \n"
      ]
     },
     "metadata": {},
     "output_type": "display_data"
    }
   ],
   "source": [
    "lm(mtcars$wt ~ mtcars$mpg)"
   ]
  },
  {
   "cell_type": "code",
   "execution_count": 74,
   "metadata": {},
   "outputs": [
    {
     "data": {
      "text/plain": [
       "\n",
       "Call:\n",
       "lm(formula = wt ~ mpg, data = mtcars)\n",
       "\n",
       "Coefficients:\n",
       "(Intercept)          mpg  \n",
       "     6,0473      -0,1409  \n"
      ]
     },
     "metadata": {},
     "output_type": "display_data"
    }
   ],
   "source": [
    "lm(wt ~ mpg, data=mtcars)"
   ]
  },
  {
   "cell_type": "code",
   "execution_count": 79,
   "metadata": {},
   "outputs": [
    {
     "data": {
      "text/html": [
       "<ol class=list-inline>\n",
       "\t<li>'coefficients'</li>\n",
       "\t<li>'residuals'</li>\n",
       "\t<li>'effects'</li>\n",
       "\t<li>'rank'</li>\n",
       "\t<li>'fitted.values'</li>\n",
       "\t<li>'assign'</li>\n",
       "\t<li>'qr'</li>\n",
       "\t<li>'df.residual'</li>\n",
       "\t<li>'xlevels'</li>\n",
       "\t<li>'call'</li>\n",
       "\t<li>'terms'</li>\n",
       "\t<li>'model'</li>\n",
       "</ol>\n"
      ],
      "text/latex": [
       "\\begin{enumerate*}\n",
       "\\item 'coefficients'\n",
       "\\item 'residuals'\n",
       "\\item 'effects'\n",
       "\\item 'rank'\n",
       "\\item 'fitted.values'\n",
       "\\item 'assign'\n",
       "\\item 'qr'\n",
       "\\item 'df.residual'\n",
       "\\item 'xlevels'\n",
       "\\item 'call'\n",
       "\\item 'terms'\n",
       "\\item 'model'\n",
       "\\end{enumerate*}\n"
      ],
      "text/markdown": [
       "1. 'coefficients'\n",
       "2. 'residuals'\n",
       "3. 'effects'\n",
       "4. 'rank'\n",
       "5. 'fitted.values'\n",
       "6. 'assign'\n",
       "7. 'qr'\n",
       "8. 'df.residual'\n",
       "9. 'xlevels'\n",
       "10. 'call'\n",
       "11. 'terms'\n",
       "12. 'model'\n",
       "\n",
       "\n"
      ],
      "text/plain": [
       " [1] \"coefficients\"  \"residuals\"     \"effects\"       \"rank\"         \n",
       " [5] \"fitted.values\" \"assign\"        \"qr\"            \"df.residual\"  \n",
       " [9] \"xlevels\"       \"call\"          \"terms\"         \"model\"        "
      ]
     },
     "metadata": {},
     "output_type": "display_data"
    }
   ],
   "source": [
    "fit = lm(wt ~ mpg, data=mtcars)\n",
    "names(fit)"
   ]
  },
  {
   "cell_type": "code",
   "execution_count": 81,
   "metadata": {},
   "outputs": [
    {
     "data": {
      "text/html": [
       "<dl class=dl-horizontal>\n",
       "\t<dt>(Intercept)</dt>\n",
       "\t\t<dd>6,04725501345831</dd>\n",
       "\t<dt>mpg</dt>\n",
       "\t\t<dd>-0,140861969871933</dd>\n",
       "</dl>\n"
      ],
      "text/latex": [
       "\\begin{description*}\n",
       "\\item[(Intercept)] 6,04725501345831\n",
       "\\item[mpg] -0,140861969871933\n",
       "\\end{description*}\n"
      ],
      "text/markdown": [
       "(Intercept)\n",
       ":   6,04725501345831mpg\n",
       ":   -0,140861969871933\n",
       "\n"
      ],
      "text/plain": [
       "(Intercept)         mpg \n",
       "   6,047255   -0,140862 "
      ]
     },
     "metadata": {},
     "output_type": "display_data"
    }
   ],
   "source": [
    "fit[[\"coefficients\"]]"
   ]
  },
  {
   "cell_type": "code",
   "execution_count": 84,
   "metadata": {},
   "outputs": [
    {
     "data": {
      "image/png": "[encoded data removed]",
      "text/plain": [
       "Plot with title “mtcars analysis + linear regression”"
      ]
     },
     "metadata": {},
     "output_type": "display_data"
    }
   ],
   "source": [
    "plot(mtcars$mpg, mtcars$wt, xlab=\"mpg\", ylab=\"weight\", main=\"mtcars analysis + linear regression\")\n",
    "abline(fit[[\"coefficients\"]], col=\"red\")"
   ]
  }
 ],
 "metadata": {
  "kernelspec": {
   "display_name": "R",
   "language": "R",
   "name": "ir"
  },
  "language_info": {
   "codemirror_mode": "r",
   "file_extension": ".r",
   "mimetype": "text/x-r-source",
   "name": "R",
   "pygments_lexer": "r",
   "version": "3.5.1"
  }
 },
 "nbformat": 4,
 "nbformat_minor": 2
}
